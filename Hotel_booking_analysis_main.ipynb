{
  "nbformat": 4,
  "nbformat_minor": 0,
  "metadata": {
    "colab": {
      "private_outputs": true,
      "provenance": [],
      "collapsed_sections": [
        "gIfDvo9L0UH2"
      ]
    },
    "kernelspec": {
      "name": "python3",
      "display_name": "Python 3"
    },
    "language_info": {
      "name": "python"
    }
  },
  "cells": [
    {
      "cell_type": "markdown",
      "source": [
        "## **Project Name**    - **Hotel Booking Analysis**\n",
        "\n"
      ],
      "metadata": {
        "id": "vncDsAP0Gaoa"
      }
    },
    {
      "cell_type": "markdown",
      "source": [
        "# **Project Type  - EDA**\n",
        "# **Contribution    - Individual**\n"
      ],
      "metadata": {
        "id": "beRrZCGUAJYm"
      }
    },
    {
      "cell_type": "markdown",
      "source": [
        "# **Project Summary -**"
      ],
      "metadata": {
        "id": "FJNUwmbgGyua"
      }
    },
    {
      "cell_type": "markdown",
      "source": [
        "### By analyzing a vast dataset of hotel bookings, the project seeks to uncover key factors influencing booking behavior, such as seasonal trends, booking lead times, and popular amenities. The dashboard will provide a real-time overview of booking trends, customer preferences, and facilitating the identification of areas for improvement and opportunities for growth within the hotel's operations.By leveraging predictive analytics, the project will forecast future booking demands and occupancy rates, resource allocation, and marketing initiatives to maximize revenue and customer satisfaction."
      ],
      "metadata": {
        "id": "F6v_1wHtG2nS"
      }
    },
    {
      "cell_type": "markdown",
      "source": [
        "# **GitHub Link -**"
      ],
      "metadata": {
        "id": "w6K7xa23Elo4"
      }
    },
    {
      "cell_type": "markdown",
      "source": [
        "https://github.com/AshwiniSuryakar09/Hotel-Booking-Analysis"
      ],
      "metadata": {
        "id": "h1o69JH3Eqqn"
      }
    },
    {
      "cell_type": "markdown",
      "source": [
        "# **Problem Statement**\n"
      ],
      "metadata": {
        "id": "yQaldy8SH6Dl"
      }
    },
    {
      "cell_type": "markdown",
      "source": [
        "### In the rapidly evolving hospitality industry, there exists a pressing need to leverage techniques to comprehensively analyze hotel booking patterns and customer preferences. Moreover, the inability to address factors contributing to booking cancellations , impacting overall profitability and hindering the ability to provide a seamless and personalized customer experience.\n",
        "\n",
        "### To address these challenges, this project aims to develop a comprehensive data analysis framework that can extract meaningful insights from the available booking data."
      ],
      "metadata": {
        "id": "DpeJGUA3kjGy"
      }
    },
    {
      "cell_type": "markdown",
      "source": [
        "#### **Define Your Business Objective?**"
      ],
      "metadata": {
        "id": "PH-0ReGfmX4f"
      }
    },
    {
      "cell_type": "markdown",
      "source": [
        "### Our primary goal is to conduct EDA on the provided dataset and derive valuable conclusions about broad hotel booking trends and how various factors interact to affect hotel bookings."
      ],
      "metadata": {
        "id": "PhDvGCAqmjP1"
      }
    },
    {
      "cell_type": "markdown",
      "source": [
        "# **General Guidelines** : -  "
      ],
      "metadata": {
        "id": "mDgbUHAGgjLW"
      }
    },
    {
      "cell_type": "markdown",
      "source": [
        "1.   Well-structured, formatted, and commented code is required.\n",
        "2.   Exception Handling, Production Grade Code & Deployment Ready Code will be a plus. Those students will be awarded some additional credits.\n",
        "     \n",
        "     The additional credits will have advantages over other students during Star Student selection.\n",
        "       \n",
        "             [ Note: - Deployment Ready Code is defined as, the whole .ipynb notebook should be executable in one go\n",
        "                       without a single error logged. ]\n",
        "\n",
        "3.   Each and every logic should have proper comments.\n",
        "4. You may add as many number of charts you want. Make Sure for each and every chart the following format should be answered.\n",
        "        \n",
        "\n",
        "```\n",
        "# Chart visualization code\n",
        "```\n",
        "            \n",
        "\n",
        "*   Why did you pick the specific chart?\n",
        "*   What is/are the insight(s) found from the chart?\n",
        "* Will the gained insights help creating a positive business impact?\n",
        "Are there any insights that lead to negative growth? Justify with specific reason.\n",
        "\n",
        "5. You have to create at least 20 logical & meaningful charts having important insights.\n",
        "\n",
        "\n",
        "[ Hints : - Do the Vizualization in  a structured way while following \"UBM\" Rule.\n",
        "\n",
        "U - Univariate Analysis,\n",
        "\n",
        "B - Bivariate Analysis (Numerical - Categorical, Numerical - Numerical, Categorical - Categorical)\n",
        "\n",
        "M - Multivariate Analysis\n",
        " ]\n",
        "\n",
        "\n",
        "\n"
      ],
      "metadata": {
        "id": "ZrxVaUj-hHfC"
      }
    },
    {
      "cell_type": "markdown",
      "source": [
        "# ***Let's Begin !***"
      ],
      "metadata": {
        "id": "O_i_v8NEhb9l"
      }
    },
    {
      "cell_type": "markdown",
      "source": [
        "## ***1. Know Your Data***"
      ],
      "metadata": {
        "id": "HhfV-JJviCcP"
      }
    },
    {
      "cell_type": "markdown",
      "source": [
        "### Import Libraries"
      ],
      "metadata": {
        "id": "Y3lxredqlCYt"
      }
    },
    {
      "cell_type": "code",
      "source": [
        "# Import Libraries\n",
        "#Importing necessary libraries\n",
        "import numpy as np\n",
        "import pandas as pd\n",
        "import matplotlib.pyplot as plt\n",
        "import seaborn as sns\n",
        "%matplotlib inline\n",
        "\n",
        "#To ignore warnings\n",
        "import warnings\n",
        "warnings.filterwarnings('ignore')"
      ],
      "metadata": {
        "id": "M8Vqi-pPk-HR"
      },
      "execution_count": null,
      "outputs": []
    },
    {
      "cell_type": "markdown",
      "source": [
        "### Dataset Loading"
      ],
      "metadata": {
        "id": "3RnN4peoiCZX"
      }
    },
    {
      "cell_type": "code",
      "source": [
        "# Load Dataset\n",
        "# Load Dataset\n",
        "from google.colab import drive                    # Mounting drive\n",
        "drive.mount('/content/drive')"
      ],
      "metadata": {
        "id": "4CkvbW_SlZ_R"
      },
      "execution_count": null,
      "outputs": []
    },
    {
      "cell_type": "code",
      "source": [
        "\n",
        "filepath=\"/content/Hotel Bookings.csv\"\n",
        "hotel_df=pd.read_csv(filepath)"
      ],
      "metadata": {
        "id": "FW3DU3g3zCLs"
      },
      "execution_count": null,
      "outputs": []
    },
    {
      "cell_type": "markdown",
      "source": [
        "### Dataset First View"
      ],
      "metadata": {
        "id": "x71ZqKXriCWQ"
      }
    },
    {
      "cell_type": "code",
      "source": [
        "# Dataset First Look\n",
        "hotel_df.head()"
      ],
      "metadata": {
        "id": "LWNFOSvLl09H"
      },
      "execution_count": null,
      "outputs": []
    },
    {
      "cell_type": "markdown",
      "source": [
        "### Dataset Rows & Columns count"
      ],
      "metadata": {
        "id": "7hBIi_osiCS2"
      }
    },
    {
      "cell_type": "code",
      "source": [
        "# Dataset Rows & Columns count\n",
        "hotel_df.columns\n"
      ],
      "metadata": {
        "id": "Kllu7SJgmLij"
      },
      "execution_count": null,
      "outputs": []
    },
    {
      "cell_type": "code",
      "source": [
        "hotel_df.describe()"
      ],
      "metadata": {
        "id": "jKCr3kyrzOPE"
      },
      "execution_count": null,
      "outputs": []
    },
    {
      "cell_type": "markdown",
      "source": [
        "### Dataset Information"
      ],
      "metadata": {
        "id": "JlHwYmJAmNHm"
      }
    },
    {
      "cell_type": "code",
      "source": [
        "# Dataset Info\n",
        "\n",
        "hotel_df.info()"
      ],
      "metadata": {
        "id": "e9hRXRi6meOf"
      },
      "execution_count": null,
      "outputs": []
    },
    {
      "cell_type": "code",
      "source": [
        "df = hotel_df.copy()"
      ],
      "metadata": {
        "id": "MxpWuJzLzXhN"
      },
      "execution_count": null,
      "outputs": []
    },
    {
      "cell_type": "markdown",
      "source": [
        "#### Duplicate Values"
      ],
      "metadata": {
        "id": "35m5QtbWiB9F"
      }
    },
    {
      "cell_type": "code",
      "source": [
        "# Dataset Duplicate Value Count\n",
        "df[df.duplicated()].shape"
      ],
      "metadata": {
        "id": "1sLdpKYkmox0"
      },
      "execution_count": null,
      "outputs": []
    },
    {
      "cell_type": "code",
      "source": [
        "\n",
        "df.drop_duplicates(inplace = True)"
      ],
      "metadata": {
        "id": "jBUUaphOzcYT"
      },
      "execution_count": null,
      "outputs": []
    },
    {
      "cell_type": "code",
      "source": [
        "\n",
        "df.shape"
      ],
      "metadata": {
        "id": "2XHjduSdzeMZ"
      },
      "execution_count": null,
      "outputs": []
    },
    {
      "cell_type": "markdown",
      "source": [
        "#### Missing Values/Null Values"
      ],
      "metadata": {
        "id": "PoPl-ycgm1ru"
      }
    },
    {
      "cell_type": "code",
      "source": [
        "# Missing Values/Null Values Count\n",
        "null_df=pd.DataFrame(df.isna().sum()).rename(columns={0:'number_of_nulls_values'})\n",
        "null_df"
      ],
      "metadata": {
        "id": "GgHWkxvamxVg"
      },
      "execution_count": null,
      "outputs": []
    },
    {
      "cell_type": "markdown",
      "source": [
        "### Null values for the features children, country, agent, and company are 4, 452, 12193, and 82137, respectively."
      ],
      "metadata": {
        "id": "vmw0UJkSzyKv"
      }
    },
    {
      "cell_type": "code",
      "source": [
        "# Ploting number of null values with its variable\n",
        "plt.figure(figsize=(7,7))\n",
        "null_df.plot(kind='bar')\n",
        "plt.title('Graph of Number of null values with respect to its Variable')"
      ],
      "metadata": {
        "id": "fF_aC_du0DF7"
      },
      "execution_count": null,
      "outputs": []
    },
    {
      "cell_type": "code",
      "source": [
        "# Percentage of null values\n",
        "percentage_null_df=pd.DataFrame(round(df.isna().sum()*100/len(df),4)).rename(columns={0:'percentage_null_values'})\n",
        "percentage_null_df"
      ],
      "metadata": {
        "id": "GAWgB0750ggs"
      },
      "execution_count": null,
      "outputs": []
    },
    {
      "cell_type": "markdown",
      "source": [
        "### Children, country, agent, and company variables have null values of 0.0046%, 0.5172%, 13.9514%, and 93.9826%, respectively. Variable companies having more than 50% null values."
      ],
      "metadata": {
        "id": "n3IxN1S90kWd"
      }
    },
    {
      "cell_type": "code",
      "source": [
        "#checking category of features whoes having null values\n",
        "df.country.value_counts()"
      ],
      "metadata": {
        "id": "tHHF_haY0oXW"
      },
      "execution_count": null,
      "outputs": []
    },
    {
      "cell_type": "code",
      "source": [
        "df.agent.value_counts()"
      ],
      "metadata": {
        "id": "kbMl_Exd0rJS"
      },
      "execution_count": null,
      "outputs": []
    },
    {
      "cell_type": "code",
      "source": [
        "df.children.value_counts()"
      ],
      "metadata": {
        "id": "RwRBbuk40tlt"
      },
      "execution_count": null,
      "outputs": []
    },
    {
      "cell_type": "code",
      "source": [
        "df.company.value_counts()"
      ],
      "metadata": {
        "id": "yqY6VnSX0v31"
      },
      "execution_count": null,
      "outputs": []
    },
    {
      "cell_type": "code",
      "source": [
        "# Dropping variable having more than 50% null values\n",
        "df.drop(columns='company', inplace=True)"
      ],
      "metadata": {
        "id": "_SE2C8zH03Pg"
      },
      "execution_count": null,
      "outputs": []
    },
    {
      "cell_type": "code",
      "source": [
        "# Check for null values are removed\n",
        "df.isna().sum()"
      ],
      "metadata": {
        "id": "gmOowiny1CMS"
      },
      "execution_count": null,
      "outputs": []
    },
    {
      "cell_type": "code",
      "source": [
        "df.shape"
      ],
      "metadata": {
        "id": "pZozSNcS1NiH"
      },
      "execution_count": null,
      "outputs": []
    },
    {
      "cell_type": "code",
      "source": [
        "# Check for null values are removed\n",
        "df.isna().sum()"
      ],
      "metadata": {
        "id": "a_x-mGgH4N2d"
      },
      "execution_count": null,
      "outputs": []
    },
    {
      "cell_type": "code",
      "source": [
        "df.shape"
      ],
      "metadata": {
        "id": "g2k23n574U-U"
      },
      "execution_count": null,
      "outputs": []
    },
    {
      "cell_type": "markdown",
      "source": [
        "### All the null values have been successfully removed."
      ],
      "metadata": {
        "id": "mcAZHL_e4XV1"
      }
    },
    {
      "cell_type": "code",
      "source": [
        "# Visualizing the missing values\n",
        "df['children'].fillna(df['children'].mean(), inplace = True)\n",
        "df['country'].fillna(df['country'].mode()[0], inplace = True)\n",
        "df['agent'].fillna(df['agent'].mode()[0], inplace = True)\n",
        "\n"
      ],
      "metadata": {
        "id": "3q5wnI3om9sJ"
      },
      "execution_count": null,
      "outputs": []
    },
    {
      "cell_type": "code",
      "source": [
        "# Besic statistical description fo Dataset\n",
        "df.describe()"
      ],
      "metadata": {
        "id": "wIEdk9nT4aZV"
      },
      "execution_count": null,
      "outputs": []
    },
    {
      "cell_type": "markdown",
      "source": [
        "### What did you know about your dataset?"
      ],
      "metadata": {
        "id": "H0kj-8xxnORC"
      }
    },
    {
      "cell_type": "markdown",
      "source": [
        "### From above, children, country, and agent are discrete numerical variables, so replaced null values with modes, and the variable company had null values greater than 50%, so removed it."
      ],
      "metadata": {
        "id": "gfoNAAC-nUe_"
      }
    },
    {
      "cell_type": "markdown",
      "source": [
        "## ***2. Understanding Your Variables***"
      ],
      "metadata": {
        "id": "nA9Y7ga8ng1Z"
      }
    },
    {
      "cell_type": "code",
      "source": [
        "# Dataset Columns\n",
        "df.columns"
      ],
      "metadata": {
        "id": "j7xfkqrt5Ag5"
      },
      "execution_count": null,
      "outputs": []
    },
    {
      "cell_type": "code",
      "source": [
        "# Dataset Describe\n",
        "df.describe()"
      ],
      "metadata": {
        "id": "DnOaZdaE5Q5t"
      },
      "execution_count": null,
      "outputs": []
    },
    {
      "cell_type": "markdown",
      "source": [
        "### Variables Description"
      ],
      "metadata": {
        "id": "PBTbrJXOngz2"
      }
    },
    {
      "cell_type": "markdown",
      "source": [
        "hotel : Name of the hotel (Resort Hotel or City Hotel)\n",
        "\n",
        "is_canceled : If the booking was canceled (1) or not (0)\n",
        "\n",
        "lead_time: Number of days before the actual arrival of the guests\n",
        "\n",
        "arrival_date_year : Year of arrival date\n",
        "\n",
        "arrival_date_month : Month of arrival date\n",
        "\n",
        "arrival_date_week_number : Week number of year for arrival date\n",
        "\n",
        "arrival_date_day_of_month : Day of arrival date\n",
        "\n",
        "stays_in_weekend_nights : Number of weekend nights (Saturday or Sunday) spent at the hotel by the guests.\n",
        "\n",
        "stays_in_week_nights : Number of weeknights (Monday to Friday) spent at the hotel by the guests.\n",
        "\n",
        "adults : Number of adults among guests\n",
        "\n",
        "children : Number of children among guests\n",
        "\n",
        "babies : Number of babies among guests\n",
        "\n",
        "\n",
        "\n"
      ],
      "metadata": {
        "id": "p0n4WUhP4kL3"
      }
    },
    {
      "cell_type": "markdown",
      "source": [
        "meal : Type of meal booked\n",
        "\n",
        "country : Country of guests\n",
        "\n",
        "market_segment : Designation of market segment\n",
        "\n",
        "distribution_channel : Name of booking distribution channel\n",
        "\n",
        "is_repeated_guest : If the booking was from a repeated guest (1) or not (0)\n",
        "\n",
        "previous_cancellations : Number of previous bookings that were cancelled by the customer prior to the current booking\n",
        "\n",
        "previous_bookings_not_canceled : Number of previous bookings not cancelled by the customer prior to the current booking\n",
        "\n",
        "reserved_room_type : Code of room type reserved\n",
        "\n",
        "assigned_room_type : Code of room type assigned\n",
        "\n",
        "booking_changes : Number of changes/amendments made to the booking\n",
        "\n",
        "deposit_type : Type of the deposit made by the guest\n",
        "\n",
        "agent : ID of travel agent who made the booking\n",
        "\n",
        "company : ID of the company that made the booking\n",
        "\n",
        "days_in_waiting_list : Number of days the booking was in the waiting list\n",
        "\n",
        "customer_type : Type of customer, assuming one of four categories\n",
        "\n",
        "adr : Average Daily Rate, as defined by dividing the sum of all lodging transactions by the total number of staying nights\n",
        "\n",
        "required_car_parking_spaces : Number of car parking spaces required by the customer\n",
        "\n",
        "total_of_special_requests : Number of special requests made by the customer\n",
        "\n",
        "reservation_status : Reservation status (Canceled, Check-Out or No-Show)\n",
        "\n",
        "reservation_status_date : Date at which the last reservation status was updated"
      ],
      "metadata": {
        "id": "XTYCGIop4t9i"
      }
    },
    {
      "cell_type": "markdown",
      "source": [
        "### Check Unique Values for each variable."
      ],
      "metadata": {
        "id": "u3PMJOP6ngxN"
      }
    },
    {
      "cell_type": "markdown",
      "source": [
        "## **Categorical veriables**"
      ],
      "metadata": {
        "id": "6HGY39FN6FHs"
      }
    },
    {
      "cell_type": "code",
      "source": [
        "# Obtaining categorical veriables\n",
        "categorical_veriables=[i for i in df.columns if df[i].dtypes=='O']\n",
        "print(f'Dataset having {len(categorical_veriables)} categorical variables')\n",
        "print('--'*39)\n",
        "print(categorical_veriables)"
      ],
      "metadata": {
        "id": "F5lhd9iC6IWP"
      },
      "execution_count": null,
      "outputs": []
    },
    {
      "cell_type": "markdown",
      "source": [
        "## **Numerical variables**"
      ],
      "metadata": {
        "id": "kNo8b1d86XPO"
      }
    },
    {
      "cell_type": "code",
      "source": [
        "# Obtaining Numerical varibles\n",
        "numerical_variables=[i for i in df.columns if df[i].dtypes!='O']\n",
        "print(f'There are {len(numerical_variables)} numerical variables.')\n",
        "print('--'*39)\n",
        "print(numerical_variables)"
      ],
      "metadata": {
        "id": "xTzQTlny6auh"
      },
      "execution_count": null,
      "outputs": []
    },
    {
      "cell_type": "markdown",
      "source": [
        "### There are 19 numerical variables."
      ],
      "metadata": {
        "id": "f6Z_g9Sa6fDr"
      }
    },
    {
      "cell_type": "code",
      "source": [
        "# Obtaining Descrete varibles from Numerical varibles\n",
        "# Variables having less than 150 categories are consider as descrete variable\n",
        "descrete_variavles=[]\n",
        "for i in numerical_variables:\n",
        "  if len(df[i].value_counts())<=150:\n",
        "    descrete_variavles.append(i)\n",
        "    print(i,':',df[i].unique())\n",
        "    print('__'*39)\n",
        "  else:\n",
        "      pass\n",
        "\n",
        "print(f'Dataset having {len(descrete_variavles)} descrete variables')"
      ],
      "metadata": {
        "id": "_2i-zTxc6iqu"
      },
      "execution_count": null,
      "outputs": []
    },
    {
      "cell_type": "code",
      "source": [
        "# Obtaining contineous variables from numerical variables\n",
        "contineous_variables=[i for i in numerical_variables if i not in descrete_variavles]\n",
        "print(f'Dataset having {len(contineous_variables)} contineous variables')\n",
        "print('--'*39)\n",
        "print(contineous_variables)"
      ],
      "metadata": {
        "id": "KeX045o66prG"
      },
      "execution_count": null,
      "outputs": []
    },
    {
      "cell_type": "markdown",
      "source": [
        "### Dataset having 3 contineous variables."
      ],
      "metadata": {
        "id": "JU7V3I4s6tB7"
      }
    },
    {
      "cell_type": "code",
      "source": [
        "# Checking for outliers for contineous variables\n",
        "\n",
        "from scipy.stats import norm\n",
        "for i in contineous_variables:\n",
        "  plt.figure(figsize=(15,6))\n",
        "  plt.subplot(1,2,1)\n",
        "  ax=sns.boxplot(data=df[i])\n",
        "  ax.set_title(f'{i}')\n",
        "  ax.set_ylabel(i)\n",
        "\n",
        "  plt.subplot(1,2,2)\n",
        "  ax=sns.distplot(df[i], fit=norm)\n",
        "  ax.set_title(f'skewness of {i} : {df[i].skew()}')\n",
        "  ax.set_xlabel(i)\n",
        "  print('__'*39)\n",
        "  plt.show()"
      ],
      "metadata": {
        "id": "UmZrp8Oe6v9K"
      },
      "execution_count": null,
      "outputs": []
    },
    {
      "cell_type": "markdown",
      "source": [
        "## Outliers were found in the variables lead_time and adr, but not in the variable agent."
      ],
      "metadata": {
        "id": "Gi-7YE_t63OF"
      }
    },
    {
      "cell_type": "code",
      "source": [
        "# Using Inter Quartile range in skew symmetric curve for removing outliers\n",
        "\n",
        "# Outlier columns\n",
        "outliers_columns=['lead_time','adr']\n",
        "\n",
        "# Copy dataset as new dataset\n",
        "new_df=df.copy()\n",
        "\n",
        "# Capping dataset\n",
        "for i in outliers_columns:\n",
        "    #Findng IQR\n",
        "    Q1=new_df[i].quantile(0.25)\n",
        "    Q3=new_df[i].quantile(0.75)\n",
        "    IQR=Q3-Q1\n",
        "\n",
        "    # Defining lower and upper limit\n",
        "    lower_limit =new_df[i].quantile(0.25)-1.5*IQR\n",
        "    upper_limit =new_df[i].quantile(0.75)+1.5*IQR\n",
        "\n",
        "    # Applying lower and upper limit to each variables\n",
        "    new_df.loc[(new_df[i] > upper_limit),i] = upper_limit\n",
        "    new_df.loc[(new_df[i] < lower_limit),i] = lower_limit"
      ],
      "metadata": {
        "id": "ixU2gJAU66jk"
      },
      "execution_count": null,
      "outputs": []
    },
    {
      "cell_type": "code",
      "source": [
        "# Checking for outliers for contineous variables\n",
        "from scipy.stats import norm\n",
        "for i in outliers_columns:\n",
        "  plt.figure(figsize=(15,6))\n",
        "  plt.subplot(1,2,1)\n",
        "  ax=sns.boxplot(data=new_df[i])\n",
        "  ax.set_title(f'{i}')\n",
        "  ax.set_ylabel(i)\n",
        "\n",
        "  plt.subplot(1,2,2)\n",
        "  ax=sns.distplot(new_df[i], fit=norm)\n",
        "  ax.set_title(f'skewness of {i} : {new_df[i].skew()}')\n",
        "  ax.set_xlabel(i)\n",
        "  print('__'*50)\n",
        "  plt.show()"
      ],
      "metadata": {
        "id": "cIR23ylp6_hX"
      },
      "execution_count": null,
      "outputs": []
    },
    {
      "cell_type": "markdown",
      "source": [
        "### Ouliers in the lead_time and adr variables were removed."
      ],
      "metadata": {
        "id": "iQI0_CVI7DQv"
      }
    },
    {
      "cell_type": "code",
      "source": [
        "# Describe outlier free new_df\n",
        "new_df.describe()"
      ],
      "metadata": {
        "id": "A20NHoti7Gf4"
      },
      "execution_count": null,
      "outputs": []
    },
    {
      "cell_type": "code",
      "source": [
        "# Check Unique Values for each variable.\n",
        "df.nunique()\n",
        "df['is_canceled'].unique()"
      ],
      "metadata": {
        "id": "5GhTxdFK6UTT"
      },
      "execution_count": null,
      "outputs": []
    },
    {
      "cell_type": "code",
      "source": [
        "df['arrival_date_year'].unique()"
      ],
      "metadata": {
        "id": "sAlPBOA147Px"
      },
      "execution_count": null,
      "outputs": []
    },
    {
      "cell_type": "code",
      "source": [
        "df['arrival_date_year'].unique()"
      ],
      "metadata": {
        "id": "GUl9oAlM5CmD"
      },
      "execution_count": null,
      "outputs": []
    },
    {
      "cell_type": "code",
      "source": [
        "hotel_df['arrival_date_month'].unique()"
      ],
      "metadata": {
        "id": "9VxcVPAy5ELJ"
      },
      "execution_count": null,
      "outputs": []
    },
    {
      "cell_type": "code",
      "source": [
        "\n",
        "hotel_df['arrival_date_week_number'].unique()"
      ],
      "metadata": {
        "id": "e2qE3TjZ5F2X"
      },
      "execution_count": null,
      "outputs": []
    },
    {
      "cell_type": "code",
      "source": [
        "df['meal'].unique()"
      ],
      "metadata": {
        "id": "mGac2SgM5NZr"
      },
      "execution_count": null,
      "outputs": []
    },
    {
      "cell_type": "code",
      "source": [
        "df['market_segment'].unique()"
      ],
      "metadata": {
        "id": "osq2t-5B5Tva"
      },
      "execution_count": null,
      "outputs": []
    },
    {
      "cell_type": "code",
      "source": [
        "df['distribution_channel'].unique()"
      ],
      "metadata": {
        "id": "rC5TmTAn5Y9b"
      },
      "execution_count": null,
      "outputs": []
    },
    {
      "cell_type": "code",
      "source": [
        "\n",
        "hotel_df['adults'].unique()"
      ],
      "metadata": {
        "id": "3Pkaw-9o5a11"
      },
      "execution_count": null,
      "outputs": []
    },
    {
      "cell_type": "code",
      "source": [
        "df['children'].unique()"
      ],
      "metadata": {
        "id": "sjDq8G915uQm"
      },
      "execution_count": null,
      "outputs": []
    },
    {
      "cell_type": "code",
      "source": [
        "\n",
        "hotel_df['babies'].unique()"
      ],
      "metadata": {
        "id": "JbG8fTxh5swb"
      },
      "execution_count": null,
      "outputs": []
    },
    {
      "cell_type": "code",
      "source": [
        "\n",
        "hotel_df['reserved_room_type'].unique()"
      ],
      "metadata": {
        "id": "FvHaodWq5rJA"
      },
      "execution_count": null,
      "outputs": []
    },
    {
      "cell_type": "code",
      "source": [
        "hotel_df['assigned_room_type'].unique()"
      ],
      "metadata": {
        "id": "YQZg4Juy5oR7"
      },
      "execution_count": null,
      "outputs": []
    },
    {
      "cell_type": "code",
      "source": [
        "\n",
        "hotel_df['deposit_type'].unique()"
      ],
      "metadata": {
        "id": "CYidIy7p5m3W"
      },
      "execution_count": null,
      "outputs": []
    },
    {
      "cell_type": "code",
      "source": [
        "\n",
        "hotel_df['agent'].unique()"
      ],
      "metadata": {
        "id": "MpffzLAR5lUl"
      },
      "execution_count": null,
      "outputs": []
    },
    {
      "cell_type": "code",
      "source": [
        "for elem in hotel_df.columns:\n",
        "  print('Number of unique values in',elem,'column is',hotel_df[elem].nunique())"
      ],
      "metadata": {
        "id": "lrdnqZlR5jyX"
      },
      "execution_count": null,
      "outputs": []
    },
    {
      "cell_type": "code",
      "source": [
        "hotel_df['lead_time'].unique()"
      ],
      "metadata": {
        "id": "3oOouWJR5h7q"
      },
      "execution_count": null,
      "outputs": []
    },
    {
      "cell_type": "code",
      "source": [
        "hotel_df['customer_type'].unique()"
      ],
      "metadata": {
        "id": "DRoJIfKA5goW"
      },
      "execution_count": null,
      "outputs": []
    },
    {
      "cell_type": "code",
      "source": [
        "hotel_df['reservation_status_date'].unique()"
      ],
      "metadata": {
        "id": "1krdD7P95fuA"
      },
      "execution_count": null,
      "outputs": []
    },
    {
      "cell_type": "markdown",
      "source": [
        "## 3. ***Data Wrangling***"
      ],
      "metadata": {
        "id": "dauF4eBmngu3"
      }
    },
    {
      "cell_type": "markdown",
      "source": [
        "### Data Wrangling Code"
      ],
      "metadata": {
        "id": "bKJF3rekwFvQ"
      }
    },
    {
      "cell_type": "code",
      "source": [
        "# Write your code to make your dataset analysis ready.\n",
        "# Dataset\n",
        "new_df"
      ],
      "metadata": {
        "id": "wk-9a2fpoLcV"
      },
      "execution_count": null,
      "outputs": []
    },
    {
      "cell_type": "code",
      "source": [
        "#checking unique values in each variable\n",
        "for i in new_df.columns:\n",
        "    print(f'{i}:{new_df[i].unique()}')\n",
        "    print('__'*50)"
      ],
      "metadata": {
        "id": "pe3iLVgI7ULP"
      },
      "execution_count": null,
      "outputs": []
    },
    {
      "cell_type": "code",
      "source": [
        "# Checking info of newly formed dataset after removed outliers\n",
        "new_df.info()"
      ],
      "metadata": {
        "id": "GVpDILd17YYH"
      },
      "execution_count": null,
      "outputs": []
    },
    {
      "cell_type": "code",
      "source": [
        "# Change datatype of variables children and agent to correct format from float64 to int64\n",
        "new_df[['children','agent']]=new_df[['children','agent']].astype('int64')\n",
        "\n",
        "# Change datatype of variable reservation_status_date to correct format from object to datetime64\n",
        "new_df['reservation_status_date']=pd.to_datetime(new_df['reservation_status_date'], format='%Y-%m-%d')"
      ],
      "metadata": {
        "id": "ywyOOw7Z7bA3"
      },
      "execution_count": null,
      "outputs": []
    },
    {
      "cell_type": "code",
      "source": [
        "# Checking datatype\n",
        "new_df[['children','agent','reservation_status_date']].info()"
      ],
      "metadata": {
        "id": "TnE7bWMC7f_4"
      },
      "execution_count": null,
      "outputs": []
    },
    {
      "cell_type": "code",
      "source": [
        "# Adding night stays on week night and weekend night in one variable to 'total_stays'\n",
        "new_df['total_stays']=new_df['stays_in_weekend_nights']+ new_df['stays_in_week_nights']\n",
        "\n",
        "# Converting \"adults,\" \"children,\" and \"babies\" to total_people by adding it\n",
        "new_df['total_people']= new_df['adults']+ df['children']+ new_df['babies']\n",
        "\n",
        "# Creating 'total_childrens' variable by adding 'chldrens' and 'babies' variables\n",
        "new_df['total_childrens']= df['children']+ new_df['babies']\n",
        "\n",
        "# Creating 'reserved_room_assigned' variable which describe same room assigned or not\n",
        "new_df['reserved_room_assigned']=np.where(new_df['reserved_room_type']==new_df['assigned_room_type'], 'yes', 'no')\n",
        "\n",
        "# Creating 'guest_category' from variable 'total_people'\n",
        "new_df['guest_category']=np.where(new_df['total_people']==1, 'single',\n",
        "                                 np.where(new_df['total_people']==2, 'couple', 'family'))\n",
        "\n",
        "# Creating 'lead_time_category' from 'lead_time' variale to display category\n",
        "new_df['lead_time_category']=np.where(new_df['lead_time']<=15, 'low',\n",
        "                                 np.where((new_df['lead_time']>15) & (new_df['lead_time']<90), 'medium', 'high'))\n",
        "\n",
        "#checking dataset\n",
        "new_df.head()"
      ],
      "metadata": {
        "id": "6XqlJ7eu7jXo"
      },
      "execution_count": null,
      "outputs": []
    },
    {
      "cell_type": "code",
      "source": [
        "new_df.shape"
      ],
      "metadata": {
        "id": "4Am-JCQ-71IX"
      },
      "execution_count": null,
      "outputs": []
    },
    {
      "cell_type": "code",
      "source": [
        "# Remove observations having value 0 in total_people variable\n",
        "new_df.drop(new_df[new_df['total_people']==0].index, inplace=True)"
      ],
      "metadata": {
        "id": "kxJzouzF730u"
      },
      "execution_count": null,
      "outputs": []
    },
    {
      "cell_type": "markdown",
      "source": [
        "### Because observations of the variable total_people cannot be zero, observations with 0 values are removed, reducing the number of observations to 87230 from 87396."
      ],
      "metadata": {
        "id": "wbpHLY7Z76ia"
      }
    },
    {
      "cell_type": "code",
      "source": [
        "# Checking info of new dataset\n",
        "new_df.info()"
      ],
      "metadata": {
        "id": "Dtet40vD7-Jl"
      },
      "execution_count": null,
      "outputs": []
    },
    {
      "cell_type": "code",
      "source": [
        "# Coverting datatype of variables total_people and total_childrens to int64 from float64\n",
        "new_df['total_people']=new_df['total_people'].astype('int64')\n",
        "new_df['total_childrens']=new_df['total_childrens'].astype('int64')\n",
        "\n",
        "\n",
        "#Checking datatype of total_column\n",
        "new_df[['total_people','total_childrens']].info()"
      ],
      "metadata": {
        "id": "834cIBjJ8BP2"
      },
      "execution_count": null,
      "outputs": []
    },
    {
      "cell_type": "markdown",
      "source": [
        "### What all manipulations have you done and insights you found?"
      ],
      "metadata": {
        "id": "MSa1f5Uengrz"
      }
    },
    {
      "cell_type": "markdown",
      "source": [
        "* The variables \"children,\" \"agent,\" \"reservation_status_date,\" \"total_people,\" and \"total_children\" do not have the correct datatype format. So they are transformed from float64 datatypes to int64. The variable \"reservation_status_date\" was transformed from object datatype to datetime64.\n",
        "* For more convenience in the dataset, \"total_stays\" and \"total_people\" variables are created. By adding the variables \"stays_in_weekend_nights\" and \"stays_in_weeknights,\" the variable \"total_stays\" is created. The variables \"adults,\" \"children,\" and \"babies\" are combined, the variable \"total_people\" is created.\n",
        "* The variable \"reserved_room_assigned\" is made up of the variables \"reserved_room_type\" and \"assigned_room_type,\" which describe whether or not a reserved room for a customer has been assigned. From variables \"children\" and \"babies,\" a new \"total_children\" variable is created by adding both of them.\n",
        "* The variable \"total_people\" was used to create \"guest_category,\" which describes bookings made for individuals, couples, or families. The variable 'lead_time_category' was created from the variable 'lead_time' to display lead time as low, medium, and high.\n",
        "Variable \"total_people\" cannot be 0, so observations in total_people having 0 values are dropped."
      ],
      "metadata": {
        "id": "LbyXE7I1olp8"
      }
    },
    {
      "cell_type": "markdown",
      "source": [
        "## ***4. Data Vizualization, Storytelling & Experimenting with charts : Understand the relationships between variables***"
      ],
      "metadata": {
        "id": "GF8Ens_Soomf"
      }
    },
    {
      "cell_type": "markdown",
      "source": [
        "#### Chart - 1"
      ],
      "metadata": {
        "id": "0wOQAZs5pc--"
      }
    },
    {
      "cell_type": "code",
      "source": [
        "# Chart - 1 visualization code\n",
        "# Obtaing target variable\n",
        "excluded_variables=[var for var in new_df.columns if len(new_df[var].value_counts()) > 15]\n",
        "target_variables=[var for var in new_df.columns if var not in excluded_variables]\n",
        "\n",
        "# Defining r to autofit the number and size of plots\n",
        "r = int(len(target_variables)/3 +1)"
      ],
      "metadata": {
        "id": "7v_ESjsspbW7"
      },
      "execution_count": null,
      "outputs": []
    },
    {
      "cell_type": "code",
      "source": [
        "# Defining a function to Notate the percent count of each value on the bars\n",
        "def annot_percent(axes):\n",
        "    '''Takes axes as input and labels the percent count of each bar in a countplot'''\n",
        "    for p in plot.patches:\n",
        "        total = sum(p.get_height() for p in plot.patches)/100\n",
        "        percent = round((p.get_height()/total),2)\n",
        "        x = p.get_x() + p.get_width()/2\n",
        "        y = p.get_height()\n",
        "        plot.annotate(f'{percent}%', (x, y), ha='center', va='bottom')"
      ],
      "metadata": {
        "id": "IUo8EM2m8Tbb"
      },
      "execution_count": null,
      "outputs": []
    },
    {
      "cell_type": "code",
      "source": [
        "# Plotting the countplots for each variable in target_variables\n",
        "plt.figure(figsize=(18,r*3))\n",
        "for n,var in enumerate(target_variables):\n",
        "    plot = plt.subplot(r,3,n+1)\n",
        "    sns.countplot(x=new_df[var]).margins(y=0.15)\n",
        "    plt.title(f'{var.title()}',weight='bold')\n",
        "    plt.tight_layout()\n",
        "    annot_percent(plot)"
      ],
      "metadata": {
        "id": "qYoOstp98Vma"
      },
      "execution_count": null,
      "outputs": []
    },
    {
      "cell_type": "markdown",
      "source": [
        "##### 1. Why did you pick the specific chart?"
      ],
      "metadata": {
        "id": "K5QZ13OEpz2H"
      }
    },
    {
      "cell_type": "markdown",
      "source": [
        "This approach is chosen because it provides a concise yet informative view of the categorical variables in your dataset, allowing you to quickly assess their distributions and relative frequencies. It's particularly useful for initial exploratory data analysis (EDA) to understand the data's composition and potential patterns."
      ],
      "metadata": {
        "id": "XESiWehPqBRc"
      }
    },
    {
      "cell_type": "markdown",
      "source": [
        "##### 2. What is/are the insight(s) found from the chart?"
      ],
      "metadata": {
        "id": "lQ7QKXXCp7Bj"
      }
    },
    {
      "cell_type": "markdown",
      "source": [
        "To derive insights from the countplots , I would need to analyze the visual representation of each categorical variable in dataset.\n",
        "Here’s a general approach to what you might look for and the kinds of insights you could obtain:\n",
        "1.Distribution Patterns\n",
        "\n",
        "2.Rare Categories\n",
        "\n",
        "3.Potential Outliers"
      ],
      "metadata": {
        "id": "C_j1G7yiqdRP"
      }
    },
    {
      "cell_type": "markdown",
      "source": [
        "##### 3. Will the gained insights help creating a positive business impact?\n",
        "Are there any insights that lead to negative growth? Justify with specific reason."
      ],
      "metadata": {
        "id": "448CDAPjqfQr"
      }
    },
    {
      "cell_type": "markdown",
      "source": [
        "Yes, The insights gained from the countplots of categorical variables in your dataset can significantly impact business decisions, both positively and negatively."
      ],
      "metadata": {
        "id": "3cspy4FjqxJW"
      }
    },
    {
      "cell_type": "markdown",
      "source": [
        "#### Chart - 2"
      ],
      "metadata": {
        "id": "KSlN3yHqYklG"
      }
    },
    {
      "cell_type": "code",
      "source": [
        "# Chart - 2 visualization code\n",
        "\n",
        "#Heatmap\n",
        "\n",
        "num_df = df[['lead_time','previous_cancellations','previous_bookings_not_canceled','booking_changes','days_in_waiting_list','adr','required_car_parking_spaces','total_of_special_requests']]\n",
        "\n"
      ],
      "metadata": {
        "id": "R4YgtaqtYklH"
      },
      "execution_count": null,
      "outputs": []
    },
    {
      "cell_type": "code",
      "source": [
        "#correlation matrix\n",
        "corrmat = num_df.corr()\n",
        "f, ax = plt.subplots(figsize=(12, 7))\n",
        "sns.heatmap(corrmat,annot = True,fmt='.2f', annot_kws={'size': 10},  vmax=.8, square=True);"
      ],
      "metadata": {
        "id": "kYMH0C549-Gy"
      },
      "execution_count": null,
      "outputs": []
    },
    {
      "cell_type": "markdown",
      "source": [
        "### The heatmap visualization of the correlation matrix is a popular choice for exploratory data analysis because it efficiently communicates the relationships between numerical variables, facilitating data-driven decision-making and further analysis. Heatmaps make it easier to identify patterns and relationships in the data and present information in a compact and visually appealing format. This makes them suitable for presentations."
      ],
      "metadata": {
        "id": "uPtwMGO9-Ewl"
      }
    },
    {
      "cell_type": "markdown",
      "source": [
        "##### 1. Why did you pick the specific chart?"
      ],
      "metadata": {
        "id": "t6dVpIINYklI"
      }
    },
    {
      "cell_type": "markdown",
      "source": [
        "### The heatmap visualization of the correlation matrix is a popular choice for exploratory data analysis because it efficiently communicates the relationships between numerical variables, facilitating data-driven decision-making and further analysis. Heatmaps make it easier to identify patterns and relationships in the data and present information in a compact and visually appealing format. This makes them suitable for presentations."
      ],
      "metadata": {
        "id": "5aaW0BYyYklI"
      }
    },
    {
      "cell_type": "markdown",
      "source": [
        "##### 2. What is/are the insight(s) found from the chart?"
      ],
      "metadata": {
        "id": "ijmpgYnKYklI"
      }
    },
    {
      "cell_type": "markdown",
      "source": [
        "### First thing is we examine the strength and direction of correlations between numerical variables. These insights provide a starting point for further analysis and decision-making, such as refining pricing strategies, improving customer segmentation, or enhancing service offerings based on observed correlations between different variables in the dataset."
      ],
      "metadata": {
        "id": "PSx9atu2YklI"
      }
    },
    {
      "cell_type": "markdown",
      "source": [
        "##### 3. Will the gained insights help creating a positive business impact?\n",
        "Are there any insights that lead to negative growth? Justify with specific reason."
      ],
      "metadata": {
        "id": "-JiQyfWJYklI"
      }
    },
    {
      "cell_type": "markdown",
      "source": [
        "### Are there any insights that lead to negative growth? Justify with specific reason.\n",
        "\n",
        "### The insights gained from the correlation heatmap can potentially contribute to positive business impacts, but they also hold the possibility of leading to negative growth if not properly interpreted or addressed.\n",
        "\n",
        "### Businesses can adjust rates for longer stays accordingly, potentially increasing revenue.By identifying the relationship between booking changes and previous bookings not canceled could lead to strategies aimed at enhancing customer engagement and loyalty, potentially resulting in repeat business and positive word-of-mouth.\n",
        "\n",
        "### If the misconception happens that longer lead times always warrant lower rates, customers booking last-minute might feel unfairly charged higher rates, potentially leading to dissatisfaction and loss of business. While the correlation between booking changes and previous bookings not canceled may suggest customer loyalty, it could also signal operational inefficiencies if the changes are due to errors or inadequate booking management systems, potentially leading to negative reviews and reduced bookings."
      ],
      "metadata": {
        "id": "BcBbebzrYklV"
      }
    },
    {
      "cell_type": "markdown",
      "source": [
        "#### Chart - 3"
      ],
      "metadata": {
        "id": "EM7whBJCYoAo"
      }
    },
    {
      "cell_type": "code",
      "source": [
        "# Chart - 3 visualization code\n",
        "# Visualizing by pie chart\n",
        "hotel_df['hotel'].value_counts().plot.pie(explode=[0.05, 0.05], autopct ='%1.1f%%', shadow = True, figsize =(10,9), fontsize = 20)\n",
        "\n",
        "# Set labels\n",
        "plt.title('Pie Chart for Most Preferred Hotel', fontsize = 20)\n",
        "\n",
        "# To show\n",
        "plt.show()"
      ],
      "metadata": {
        "id": "t6GMdE67YoAp"
      },
      "execution_count": null,
      "outputs": []
    },
    {
      "cell_type": "markdown",
      "source": [
        "##### 1. Why did you pick the specific chart?"
      ],
      "metadata": {
        "id": "fge-S5ZAYoAp"
      }
    },
    {
      "cell_type": "markdown",
      "source": [
        "### A pie chart expresses a part-to-whole relationship in your data. It's easy to explain the percentage comparison through area covered in a circle with different colors. Wherever different percentage comparison comes into action, pie chart is used frequently. So, i have used Pie Chart and which helped us to get the percentage comparison more clearly and precisely."
      ],
      "metadata": {
        "id": "5dBItgRVYoAp"
      }
    },
    {
      "cell_type": "markdown",
      "source": [
        "##### 2. What is/are the insight(s) found from the chart?"
      ],
      "metadata": {
        "id": "85gYPyotYoAp"
      }
    },
    {
      "cell_type": "markdown",
      "source": [
        "### From the above chart, we got to know that City Hotel is most preferred hotel by the guests. Thus City Hotel has maximum bookings. 61.1% guests are preferred City Hotel, while only 38.9% guests have shown interest in Resort Hotel."
      ],
      "metadata": {
        "id": "4jstXR6OYoAp"
      }
    },
    {
      "cell_type": "markdown",
      "source": [
        "##### 3. Will the gained insights help creating a positive business impact?\n",
        "Are there any insights that lead to negative growth? Justify with specific reason."
      ],
      "metadata": {
        "id": "RoGjAbkUYoAp"
      }
    },
    {
      "cell_type": "markdown",
      "source": [
        "### Yes, for both types of Hotels, this graph and data will make some positive business impacts.\n",
        "\n",
        "### Hotel are doing well so they are providing more services to attract more guests to increase more revenue. But, in case of Resort Hotel, guests have shown less interest than City Hotel. So, Resort Hotel need to find solution to attract guests and find what City Hotel have done to attract guests. So, there is an scope of tremendous growth in Resort Hotel, if they upgrade their services and adopt the path of growth and success learning from the success strategies of City Hotels and adding new ideas of themselves."
      ],
      "metadata": {
        "id": "zfJ8IqMcYoAp"
      }
    },
    {
      "cell_type": "markdown",
      "source": [
        "#### Chart - 4"
      ],
      "metadata": {
        "id": "4Of9eVA-YrdM"
      }
    },
    {
      "cell_type": "code",
      "source": [
        "# Chart - 4 visualization code\n",
        "# Group by Hotel\n",
        "group_by_hotel = hotel_df.groupby('hotel')\n",
        "\n",
        "# Grouping by Hotel adr\n",
        "highest_adr = group_by_hotel['adr'].mean().reset_index()\n",
        "\n",
        "# Set plot size\n",
        "plt.figure(figsize = (10,8))\n",
        "\n",
        "# Create the figure object\n",
        "ax = sns.barplot(x= highest_adr['hotel'], y= highest_adr['adr'])\n",
        "\n",
        "# Set labels\n",
        "ax.set_xlabel(\"Hotel type\", fontsize = 20)\n",
        "ax.set_ylabel(\"ADR\", fontsize = 20)\n",
        "ax.set_xticklabels(['City Hotel', 'Resort Hotel'], fontsize = 16)\n",
        "ax.set_title('Average ADR of each Hotel type', fontsize = 20)\n",
        "\n",
        "# To show\n",
        "plt.show(ax)"
      ],
      "metadata": {
        "id": "irlUoxc8YrdO"
      },
      "execution_count": null,
      "outputs": []
    },
    {
      "cell_type": "markdown",
      "source": [
        "##### 1. Why did you pick the specific chart?"
      ],
      "metadata": {
        "id": "iky9q4vBYrdO"
      }
    },
    {
      "cell_type": "markdown",
      "source": [
        "### Bar charts show the frequency counts of values for the different levels of a categorical or nominal variable. Sometimes, bar charts show other statistics such as percentages.\n",
        "\n",
        "### To show the average adr of each hotel type in a clear and feasible way, i have used Bar chart here."
      ],
      "metadata": {
        "id": "aJRCwT6DYrdO"
      }
    },
    {
      "cell_type": "markdown",
      "source": [
        "##### 2. What is/are the insight(s) found from the chart?"
      ],
      "metadata": {
        "id": "F6T5p64dYrdO"
      }
    },
    {
      "cell_type": "markdown",
      "source": [
        "### City hotel has the highest ADR. This means City Hotels are generating more revenues than the Resort Hotels. More the ADR, more will be the revenue."
      ],
      "metadata": {
        "id": "Xx8WAJvtYrdO"
      }
    },
    {
      "cell_type": "markdown",
      "source": [
        "##### 3. Will the gained insights help creating a positive business impact?\n",
        "Are there any insights that lead to negative growth? Justify with specific reason."
      ],
      "metadata": {
        "id": "y-Ehk30pYrdP"
      }
    },
    {
      "cell_type": "markdown",
      "source": [
        "### Yes, Hotel can do more advertising to get more customers that will ultimately add up to their revenue. Thus, the City Hotels are already enjoying high ADR, but a bit more of positive efforts towards growth will definitely adds a lot to their growth and overall revenue.\n",
        "\n"
      ],
      "metadata": {
        "id": "jLNxxz7MYrdP"
      }
    },
    {
      "cell_type": "markdown",
      "source": [
        "#### Chart - 5"
      ],
      "metadata": {
        "id": "bamQiAODYuh1"
      }
    },
    {
      "cell_type": "code",
      "source": [
        "# Chart - 5 visualization code\n",
        "# Groupby adr, total_stay, hotel\n",
        "adr_vs_total_stay = hotel_df.groupby(['adr','hotel']).agg('count').reset_index()\n",
        "adr_vs_total_stay = adr_vs_total_stay.iloc[:, :3]\n",
        "adr_vs_total_stay = adr_vs_total_stay.rename(columns = {'is_canceled':'number_of_stays'})\n",
        "adr_vs_total_stay = adr_vs_total_stay[:18000]\n",
        "adr_vs_total_stay"
      ],
      "metadata": {
        "id": "TIJwrbroYuh3"
      },
      "execution_count": null,
      "outputs": []
    },
    {
      "source": [
        "\n",
        "adr_vs_total_stay.groupby('hotel').size().plot(kind='barh', color=sns.palettes.mpl_palette('Dark2'))\n",
        "plt.gca().spines[['top', 'right',]].set_visible(False)"
      ],
      "cell_type": "code",
      "execution_count": null,
      "outputs": [],
      "metadata": {
        "id": "OckSWuQR__1w"
      }
    },
    {
      "cell_type": "markdown",
      "source": [
        "##### 1. Why did you pick the specific chart?"
      ],
      "metadata": {
        "id": "QHF8YVU7Yuh3"
      }
    },
    {
      "cell_type": "markdown",
      "source": [
        "From this chart, we have found that as the total stay increases the ADR is also getting high. So, ADR is directly proportional to total stay."
      ],
      "metadata": {
        "id": "dcxuIMRPYuh3"
      }
    },
    {
      "cell_type": "markdown",
      "source": [
        "##### 2. What is/are the insight(s) found from the chart?"
      ],
      "metadata": {
        "id": "GwzvFGzlYuh3"
      }
    },
    {
      "cell_type": "markdown",
      "source": [
        "From this line chart, we have found that as the total stay increases the ADR is also getting high. So, ADR is directly proportional to total stay."
      ],
      "metadata": {
        "id": "uyqkiB8YYuh3"
      }
    },
    {
      "cell_type": "markdown",
      "source": [
        "##### 3. Will the gained insights help creating a positive business impact?\n",
        "Are there any insights that lead to negative growth? Justify with specific reason."
      ],
      "metadata": {
        "id": "qYpmQ266Yuh3"
      }
    },
    {
      "cell_type": "markdown",
      "source": [
        "The hotels should focus on increasing their ADR and the more advertisement and better facilities and good offers will let the guests to stay more, that will directly result in increasing ADR. So, Hotels should offer more attractive offers and facilities, so that total stay can be increased that will directly multiply their ADR and ultimately revenue will increase."
      ],
      "metadata": {
        "id": "_WtzZ_hCYuh4"
      }
    },
    {
      "cell_type": "markdown",
      "source": [
        "#### Chart - 6"
      ],
      "metadata": {
        "id": "OH-pJp9IphqM"
      }
    },
    {
      "cell_type": "code",
      "source": [
        "# Chart - 6 visualization code\n",
        "# Visualizing by pie chart\n",
        "hotel_df['is_repeated_guest'].value_counts().plot.pie(explode=[0.05, 0.05], autopct ='%1.1f%%', shadow = True, figsize =(10,9), fontsize = 20)\n",
        "\n",
        "# Set labels\n",
        "plt.title('Percentage (%) of repeated guests', fontsize = 20)\n",
        "\n",
        "# To show\n",
        "plt.show()"
      ],
      "metadata": {
        "id": "kuRf4wtuphqN"
      },
      "execution_count": null,
      "outputs": []
    },
    {
      "cell_type": "markdown",
      "source": [
        "##### 1. Why did you pick the specific chart?"
      ],
      "metadata": {
        "id": "bbFf2-_FphqN"
      }
    },
    {
      "cell_type": "markdown",
      "source": [
        "Pie charts are used to represent the data or relative data in a single chart. The concept of pie slices is used to show the percentage of a particular data from the whole pie. Thus, i have used to show the percentage of repeated guests or not (where 0 is not repeated guest and 1 is repeated guest) through pie chart with different colored area under a circle."
      ],
      "metadata": {
        "id": "loh7H2nzphqN"
      }
    },
    {
      "cell_type": "markdown",
      "source": [
        "##### 2. What is/are the insight(s) found from the chart?"
      ],
      "metadata": {
        "id": "_ouA3fa0phqN"
      }
    },
    {
      "cell_type": "markdown",
      "source": [
        "Repeated guests are very few which is only 3.9% while 96.1% guests are not returning to the same hotel. So, it's a matter of deep thinking and taking proper steps to increase the repeated guests numbers for both type of hotels. In order to retained the guests management should take feedbacks from guests and try to improve the servic"
      ],
      "metadata": {
        "id": "VECbqPI7phqN"
      }
    },
    {
      "cell_type": "markdown",
      "source": [
        "##### 3. Will the gained insights help creating a positive business impact?\n",
        "Are there any insights that lead to negative growth? Justify with specific reason."
      ],
      "metadata": {
        "id": "Seke61FWphqN"
      }
    },
    {
      "cell_type": "markdown",
      "source": [
        "Yes, the proportion of repeated guests is very much low, so if the Hotels work well in this side also, then the increase in number of repeated guests will ultimately boost their revenue. So Hotels can give alluring offers to non-repetitive customers during off seasons to enhance revenue. So, right steps should be taken like taking feedbacks, solving problems of customers within time limit and offering best offers to the customers."
      ],
      "metadata": {
        "id": "DW4_bGpfphqN"
      }
    },
    {
      "cell_type": "markdown",
      "source": [
        "#### Chart - 7"
      ],
      "metadata": {
        "id": "PIIx-8_IphqN"
      }
    },
    {
      "cell_type": "code",
      "source": [
        "# Chart - 7 visualization code\n",
        "# Visualizing by pie chart\n",
        "hotel_df['required_car_parking_spaces'].value_counts().plot.pie(explode=[0.05]*5, autopct ='%1.1f%%', shadow = False, figsize =(12,8), fontsize = 20, labels = None)\n",
        "\n",
        "# Create the figure object\n",
        "labels = hotel_df['required_car_parking_spaces'].value_counts().index\n",
        "\n",
        "# Set labels\n",
        "plt.title('% Distribution of\\nrequired car parking spaces', fontsize = 20)\n",
        "plt.legend(bbox_to_anchor = (0.85, 1), loc = 'upper left', labels = labels)\n",
        "\n",
        "# To show\n",
        "plt.show()"
      ],
      "metadata": {
        "id": "lqAIGUfyphqO"
      },
      "execution_count": null,
      "outputs": []
    },
    {
      "cell_type": "markdown",
      "source": [
        "##### 1. Why did you pick the specific chart?"
      ],
      "metadata": {
        "id": "t27r6nlMphqO"
      }
    },
    {
      "cell_type": "markdown",
      "source": [
        "I have used pie chart here because it gives the output in a more understanding manner as here we can clearly see the different two colors reflecting the demand of car parking spaces by guests. So, it's a very useful chart to get proper insights as we can use other charts also but i have found it more relevent here."
      ],
      "metadata": {
        "id": "iv6ro40sphqO"
      }
    },
    {
      "cell_type": "markdown",
      "source": [
        "##### 2. What is/are the insight(s) found from the chart?"
      ],
      "metadata": {
        "id": "r2jJGEOYphqO"
      }
    },
    {
      "cell_type": "markdown",
      "source": [
        "This chart shows that 91.6% guests did not required the parking space. Only 8.3% guests required the parking space.\n",
        "\n"
      ],
      "metadata": {
        "id": "Po6ZPi4hphqO"
      }
    },
    {
      "cell_type": "markdown",
      "source": [
        "##### 3. Will the gained insights help creating a positive business impact?\n",
        "Are there any insights that lead to negative growth? Justify with specific reason."
      ],
      "metadata": {
        "id": "b0JNsNcRphqO"
      }
    },
    {
      "cell_type": "markdown",
      "source": [
        "Yes, the insights gained from here definitely help the hotels to provide better services. It can be said that hotels need to work less on car parking spaces as only 1 car parking space was required by 8.3% of guests. SO, it's better to focus on other areas to increase quality of hotel rather than focusing mainly on car parking area only. The demand for car parking area is less. This might be due to the reason as many guests prefers to use public vehicles for travel."
      ],
      "metadata": {
        "id": "xvSq8iUTphqO"
      }
    },
    {
      "cell_type": "markdown",
      "source": [
        "#### Chart - 8"
      ],
      "metadata": {
        "id": "BZR9WyysphqO"
      }
    },
    {
      "cell_type": "code",
      "source": [
        "# Chart - 8 visualization code\n",
        "# Set plot size\n",
        "plt.figure(figsize=(10,6))\n",
        "\n",
        "# Create the figure object\n",
        "sns.countplot(x = hotel_df['meal'])\n",
        "\n",
        "# Set labels\n",
        "plt.xlabel('Meal Type', fontsize = 16)\n",
        "plt.ylabel('Count', fontsize = 16)\n",
        "plt.title('Preferred Meal Type', fontsize = 20)\n",
        "\n",
        "# To show\n",
        "plt.show()"
      ],
      "metadata": {
        "id": "TdPTWpAVphqO"
      },
      "execution_count": null,
      "outputs": []
    },
    {
      "cell_type": "markdown",
      "source": [
        "##### 1. Why did you pick the specific chart?"
      ],
      "metadata": {
        "id": "jj7wYXLtphqO"
      }
    },
    {
      "cell_type": "markdown",
      "source": [
        "I have used the count plot here, because it shows the counts of observations in each categorical bin using bars. Bar plots look similar to count plots. But instead of the count of observations in each category, they show the mean of a quantitative variable among observations in each category. So, to get clear insights about the counts of different types of meal, i have used this count plot."
      ],
      "metadata": {
        "id": "Ob8u6rCTphqO"
      }
    },
    {
      "cell_type": "markdown",
      "source": [
        "##### 2. What is/are the insight(s) found from the chart?"
      ],
      "metadata": {
        "id": "eZrbJ2SmphqO"
      }
    },
    {
      "cell_type": "markdown",
      "source": [
        "The insights that i have found from the above graph is that the most preferred meal type by the guests is BB (Bed and Breakfast) while HB (Half Board) and SC (Self Catering) are equally preferred. Types of meal in hotels are as follows:-\n",
        "\n",
        "BB - (Bed and Breakfast)\n",
        "\n",
        "HB - (Half Board)\n",
        "\n",
        "FB - (Full Board)\n",
        "\n",
        "SC - (Self Catering)"
      ],
      "metadata": {
        "id": "mZtgC_hjphqO"
      }
    },
    {
      "cell_type": "markdown",
      "source": [
        "##### 3. Will the gained insights help creating a positive business impact?\n",
        "Are there any insights that lead to negative growth? Justify with specific reason."
      ],
      "metadata": {
        "id": "rFu4xreNphqO"
      }
    },
    {
      "cell_type": "markdown",
      "source": [
        "So, the insights here also have positive impact as hotels need to focus more on the BB meal type so that the majority of customers are satisfied while others types of meals should be given equal importance with proper management of food services so as to offer best services to customers."
      ],
      "metadata": {
        "id": "ey_0qi68phqO"
      }
    },
    {
      "cell_type": "markdown",
      "source": [
        "#### Chart - 9"
      ],
      "metadata": {
        "id": "YJ55k-q6phqO"
      }
    },
    {
      "cell_type": "code",
      "source": [
        "# Chart - 9 visualization code\n",
        "bookings_by_months_df = hotel_df.groupby(['arrival_date_month'])['hotel'].count().reset_index().rename(columns = {'hotel':'Counts'})\n",
        "\n",
        "# Creating list of months in order\n",
        "months = ['January', 'February', 'March', 'April', 'May', 'June', 'July', 'August', 'September', 'October', 'November', 'December']\n",
        "\n",
        "# Creating dataframe which will map the order of above months list without changing its values\n",
        "bookings_by_months_df['arrival_date_month'] = pd.Categorical(bookings_by_months_df['arrival_date_month'], categories = months, ordered = True)\n",
        "\n",
        "# Sorting by arrival_date_month\n",
        "bookings_by_months_df = bookings_by_months_df.sort_values('arrival_date_month')\n",
        "\n",
        "bookings_by_months_df"
      ],
      "metadata": {
        "id": "B2aS4O1ophqO"
      },
      "execution_count": null,
      "outputs": []
    },
    {
      "cell_type": "code",
      "source": [
        "# Visualizing with the help of line plot\n",
        "\n",
        "# Set plot size\n",
        "plt.figure(figsize = (14,6))\n",
        "\n",
        "# Plotting lineplot on x- months & y- bookings counts\n",
        "sns.lineplot(x = bookings_by_months_df['arrival_date_month'], y = bookings_by_months_df['Counts'])\n",
        "\n",
        "# Set title\n",
        "plt.title('Number of bookings across each month', fontsize = 20)\n",
        "\n",
        "# Set labels\n",
        "plt.xlabel('Month', fontsize = 16)\n",
        "plt.ylabel('Number of bookings', fontsize = 16)\n",
        "\n",
        "# To show\n",
        "plt.show()"
      ],
      "metadata": {
        "id": "DZ2xpZ38Ddqd"
      },
      "execution_count": null,
      "outputs": []
    },
    {
      "cell_type": "markdown",
      "source": [
        "##### 1. Why did you pick the specific chart?"
      ],
      "metadata": {
        "id": "gCFgpxoyphqP"
      }
    },
    {
      "cell_type": "markdown",
      "source": [
        "For 1st chart, i have picked the line chart here because it helps to show small shifts that may be getting hard to spot in other graphs. It helps show trends for different periods. They are easy to understand. So, here we can easily track the change of 'number of bookings' with respect to month.\n",
        "\n",
        "While in 2nd chart here, bar plot has been used. I have used this chart to get clear view in understanding the relation between total stay in terms of days and count of stays(means total number of customers stayed)"
      ],
      "metadata": {
        "id": "TVxDimi2phqP"
      }
    },
    {
      "cell_type": "markdown",
      "source": [
        "##### 2. What is/are the insight(s) found from the chart?"
      ],
      "metadata": {
        "id": "OVtJsKN_phqQ"
      }
    },
    {
      "cell_type": "markdown",
      "source": [
        "From this graph of 1st chart, i have found that July and August months had the most Bookings. As, July and August generally surrounds in and near the summer vacation. So, summer vacation can be the reason for the bookings.\n",
        "\n",
        "While, 2nd chart gives us different insights. So, from the above observations, we have found that the Optimal stay in both the type hotel is less than 7 days. So, after that staying numbers have declined drastically."
      ],
      "metadata": {
        "id": "ngGi97qjphqQ"
      }
    },
    {
      "cell_type": "markdown",
      "source": [
        "##### 3. Will the gained insights help creating a positive business impact?\n",
        "Are there any insights that lead to negative growth? Justify with specific reason."
      ],
      "metadata": {
        "id": "lssrdh5qphqQ"
      }
    },
    {
      "cell_type": "markdown",
      "source": [
        "Yes from the 1st chart, it is clear that this provides a good insights that hotels should be well prepared for the month of July and August as maximum bookings takes place for this month. So, better the preparation and good approach will definitely adds to the growth of Hotels.\n",
        "\n",
        "While in 2nd chart also have positive impact. Yes, from the insights gathered here, hotels can work in the domain to increase the staying length of customers to increase their revenue. The other understanding is that customers usually prefers a one week stay in a hotel. So, hotels need to work efficiently in these seven days so that customers would return to the same hotel again so this will increase the revenue."
      ],
      "metadata": {
        "id": "tBpY5ekJphqQ"
      }
    },
    {
      "cell_type": "markdown",
      "source": [
        "#### Chart - 10"
      ],
      "metadata": {
        "id": "U2RJ9gkRphqQ"
      }
    },
    {
      "cell_type": "code",
      "source": [
        "# Chart - 10 visualization code\n",
        "# Set the plot size\n",
        "hotel_df.hist(figsize = (23,18))\n",
        "\n",
        "# To show\n",
        "plt.show()"
      ],
      "metadata": {
        "id": "GM7a4YP4phqQ"
      },
      "execution_count": null,
      "outputs": []
    },
    {
      "cell_type": "markdown",
      "source": [
        "##### 1. Why did you pick the specific chart?"
      ],
      "metadata": {
        "id": "1M8mcRywphqQ"
      }
    },
    {
      "cell_type": "markdown",
      "source": [
        "To understand the data in a clear way with proper insights. I have used the histogram here. The histogram is a popular graphing tool. It is used to summarize discrete or continuous data that are measured on a interval scale. It is often used to illustrate the major features of the distribution of the data in a convenient form. It is also useful when dealing with large data sets (greater than 100 observations). It can help detect any unusual observations (outliers) or any gaps in the data. Thus, i have used the histogram plot to analysis the variable distributions over the whole dataset whether it's symmetric or not."
      ],
      "metadata": {
        "id": "8agQvks0phqQ"
      }
    },
    {
      "cell_type": "markdown",
      "source": [
        "##### 2. What is/are the insight(s) found from the chart?"
      ],
      "metadata": {
        "id": "tgIPom80phqQ"
      }
    },
    {
      "cell_type": "markdown",
      "source": [
        "Some insights found from the chart are as follows:-\n",
        "\n",
        "We can see that the maximum guest came in the year 2016.\n",
        "\n",
        "Maximum arrival week number is 30.\n",
        "\n",
        "Maximum arrival happens in the last of the month.\n",
        "\n",
        "Maximum guests comes with no children.\n",
        "\n",
        "There is very less requirement of Car parking spaces."
      ],
      "metadata": {
        "id": "Qp13pnNzphqQ"
      }
    },
    {
      "cell_type": "markdown",
      "source": [
        "##### 3. Will the gained insights help creating a positive business impact?\n",
        "Are there any insights that lead to negative growth? Justify with specific reason."
      ],
      "metadata": {
        "id": "JMzcOPDDphqR"
      }
    },
    {
      "cell_type": "markdown",
      "source": [
        "Just a histogram cannot define business impact. It's done just to see the distribution of the column data over the dataset."
      ],
      "metadata": {
        "id": "R4Ka1PC2phqR"
      }
    },
    {
      "cell_type": "markdown",
      "source": [
        "#### Chart - 11"
      ],
      "metadata": {
        "id": "x-EpHcCOp1ci"
      }
    },
    {
      "cell_type": "code",
      "source": [
        "# Chart - 11 visualization code\n",
        "# Finding out the percentage and counts of confirmed and canceled bookings\n",
        "# Plotting a Count Plot chart using seaborn for counts of confirmed and canceled bookings\n",
        "\n",
        "# Set plot size\n",
        "plt.figure(figsize = (10,6))\n",
        "\n",
        "# Create the figure object\n",
        "sns.countplot(x = 'hotel', hue = 'is_canceled', palette = 'Set2', data = hotel_df)\n",
        "\n",
        "# Set legends\n",
        "plt.legend(['Confirmed', 'Canceled'])\n",
        "\n",
        "# Set labels\n",
        "plt.title('Hotel wise confirmation and cancelation of the bookings', fontsize = 20)\n",
        "plt.ylabel('Count of\\nconfirmation and cancelation', fontsize = 16)\n",
        "plt.xlabel('Hotel Type', fontsize = 16)\n",
        "\n",
        "# To show\n",
        "plt.show()"
      ],
      "metadata": {
        "id": "mAQTIvtqp1cj"
      },
      "execution_count": null,
      "outputs": []
    },
    {
      "cell_type": "code",
      "source": [
        "# Plotting a Pie chart using matplotlib for percentage of confirmed and canceled bookings of Resort Hotel\n",
        "resort_hotel = hotel_df.loc[(hotel_df['hotel'] == 'Resort Hotel')]\n",
        "resort_hotel_checking_cancel = resort_hotel['is_canceled'].value_counts()\n",
        "\n",
        "# Set labels\n",
        "mylabels = ['Confirmed', 'Canceled']\n",
        "\n",
        "# Set figure size\n",
        "myexplode = [0.2, 0]\n",
        "\n",
        "# Create the figure object\n",
        "resort_hotel_cancelation = plt.pie(resort_hotel_checking_cancel, labels = mylabels, explode = myexplode, autopct = '%1.1f%%')\n",
        "\n",
        "# Set title\n",
        "plt.title('Resort Hotel\\nConfirmed and Cancelation')\n",
        "\n",
        "resort_hotel_checking_cancel"
      ],
      "metadata": {
        "id": "VZZT6P_oEMnV"
      },
      "execution_count": null,
      "outputs": []
    },
    {
      "cell_type": "code",
      "source": [
        "\n",
        "# Removing the canceled bookings from the data and creating a new dataframe\n",
        "data_not_canceled = hotel_df[hotel_df['is_canceled'] == 0]\n",
        "\n",
        "# Year wise Bookings of hotels\n",
        "# Set style\n",
        "sns.set_style(style = 'darkgrid')\n",
        "\n",
        "# Set plot size\n",
        "plt.figure(figsize = (12,6))\n",
        "\n",
        "# Create the figure object\n",
        "sns.countplot(x= 'arrival_date_year', hue= 'hotel', palette = 'tab10', data = data_not_canceled)\n",
        "\n",
        "# Set legends\n",
        "plt.legend(['Resort Hotel', 'City Hotel'])\n",
        "\n",
        "# Set labels\n",
        "plt.title('Year wise bookings of hotels', fontsize = 20)\n",
        "plt.ylabel('Number of bookings', fontsize = 16)\n",
        "plt.xlabel('Year', fontsize = 16)\n",
        "\n",
        "# To show\n",
        "plt.show()"
      ],
      "metadata": {
        "id": "rscAqMqWEP0q"
      },
      "execution_count": null,
      "outputs": []
    },
    {
      "cell_type": "markdown",
      "source": [
        "##### 1. Why did you pick the specific chart?"
      ],
      "metadata": {
        "id": "X_VqEhTip1ck"
      }
    },
    {
      "cell_type": "markdown",
      "source": [
        "\n",
        "I have picked out the count plot and pie plot lot to get proper insights on Hotel wise cancelation and confirmation of bookings."
      ],
      "metadata": {
        "id": "-vsMzt_np1ck"
      }
    },
    {
      "cell_type": "markdown",
      "source": [
        "##### 2. What is/are the insight(s) found from the chart?"
      ],
      "metadata": {
        "id": "8zGJKyg5p1ck"
      }
    },
    {
      "cell_type": "markdown",
      "source": [
        "We can clearly deduce from the above graphs that the City hotel is having greater number of bookings as compared to Resort hotel. But, the cancelation percentage is high of the City Hotel.\n",
        "\n",
        "From the above graphs, it can be summarised that in the year 2016 both the hotel saw a massive increase in their bookings and by far the year 2016 is the year of the highest bookings of both hotel. In 2016 and 2017 the City hotel is having the highest number of bookings but in 2015 the Resort hotel is having the highest number of bookings."
      ],
      "metadata": {
        "id": "ZYdMsrqVp1ck"
      }
    },
    {
      "cell_type": "markdown",
      "source": [
        "##### 3. Will the gained insights help creating a positive business impact?\n",
        "Are there any insights that lead to negative growth? Justify with specific reason."
      ],
      "metadata": {
        "id": "PVzmfK_Ep1ck"
      }
    },
    {
      "cell_type": "markdown",
      "source": [
        "Overall the graphs show a positive outcome but the visualization of cancelation graph creates a situation of deep concern. So, here as we can see, that more than 1/4th of overall booking got canceled. So, it's a matter of deep concern. Thus, we need to look over this problem. The solution to this problem is that, we can check the reasons of cancelation of a booking & need to get this sorted out as soon as possible at the business level to stop the problems getting broader."
      ],
      "metadata": {
        "id": "druuKYZpp1ck"
      }
    },
    {
      "cell_type": "markdown",
      "source": [
        "#### Chart - 12"
      ],
      "metadata": {
        "id": "n3dbpmDWp1ck"
      }
    },
    {
      "cell_type": "code",
      "source": [
        "# Chart - 12 visualization code\n",
        "# Using groupby funtion\n",
        "bookings_by_months_df = hotel_df.groupby(['arrival_date_month', 'hotel'])['adr'].mean().reset_index()\n",
        "\n",
        "# Create month list\n",
        "months = ['January', 'February', 'March', 'April', 'May', 'June', 'July', 'August', 'September', 'October', 'November', 'December']\n",
        "\n",
        "# It will take the order of the month list in the dataframe along with values\n",
        "bookings_by_months_df['arrival_date_month'] = pd.Categorical(bookings_by_months_df['arrival_date_month'], categories = months, ordered = True)\n",
        "\n",
        "# Sorting values\n",
        "bookings_by_months_df = bookings_by_months_df.sort_values('arrival_date_month')\n",
        "\n",
        "bookings_by_months_df"
      ],
      "metadata": {
        "id": "bwevp1tKp1ck"
      },
      "execution_count": null,
      "outputs": []
    },
    {
      "cell_type": "code",
      "source": [
        "\n",
        "# Visualizing with the help of line plot\n",
        "\n",
        "# Set plot size\n",
        "plt.figure(figsize = (14,6))\n",
        "\n",
        "# Create the figure object and plotting the line\n",
        "sns.lineplot(x = bookings_by_months_df['arrival_date_month'], y = bookings_by_months_df['adr'], hue = bookings_by_months_df['hotel'])\n",
        "\n",
        "# Set labels\n",
        "plt.title('ADR across Each Month', fontsize = 20)\n",
        "plt.xlabel('Month', fontsize = 16)\n",
        "plt.ylabel('ADR', fontsize = 16)\n",
        "\n",
        "# To show\n",
        "plt.show()"
      ],
      "metadata": {
        "id": "cZj9LYOoEfHZ"
      },
      "execution_count": null,
      "outputs": []
    },
    {
      "cell_type": "markdown",
      "source": [
        "##### 1. Why did you pick the specific chart?"
      ],
      "metadata": {
        "id": "ylSl6qgtp1ck"
      }
    },
    {
      "cell_type": "markdown",
      "source": [
        "I have picked the line chart here to get the clear insights of ADR by City and Resort hotels across each month. Line chart is very useful because it helps to show small shifts that may be getting hard to spot in other graphs. It helps show trends for different periods. They are easy to understand. To compare data, more than one line can be plotted on the same axis."
      ],
      "metadata": {
        "id": "m2xqNkiQp1ck"
      }
    },
    {
      "cell_type": "markdown",
      "source": [
        "##### 2. What is/are the insight(s) found from the chart?"
      ],
      "metadata": {
        "id": "ZWILFDl5p1ck"
      }
    },
    {
      "cell_type": "markdown",
      "source": [
        "The insights found from the chart are as follows:-\n",
        "\n",
        "For Resort Hotel, ADR is high in the months of June, July, August as compared to City Hotels. The reason may be that customers/people want to spent their summer vacation in Resort Hotels.\n",
        "\n",
        "The best time for guests to visit Resort or City Hotels is January, February, March, April, October, November and December as the average daily rate in this month is very low. So, it would be feasible and sustainable."
      ],
      "metadata": {
        "id": "x-lUsV2mp1ck"
      }
    },
    {
      "cell_type": "markdown",
      "source": [
        "##### 3. Will the gained insights help creating a positive business impact?\n",
        "Are there any insights that lead to negative growth? Justify with specific reason."
      ],
      "metadata": {
        "id": "M7G43BXep1ck"
      }
    },
    {
      "cell_type": "markdown",
      "source": [
        "So, the higher the ADR, the higher will be the revenue, so its a good sign. Hotels should work more to enhance their ADR by offering good schemes to attract customers in winter vacation also and other holidays."
      ],
      "metadata": {
        "id": "5wwDJXsLp1cl"
      }
    },
    {
      "cell_type": "markdown",
      "source": [
        "#### Chart - 13"
      ],
      "metadata": {
        "id": "Ag9LCva-p1cl"
      }
    },
    {
      "cell_type": "code",
      "source": [
        "# Chart - 13 visualization code\n",
        "# As i have already created a column 'total_stay' above i.e.\n",
        "# Adding total staying days in hotels\n",
        "hotel_df['total_stay'] = hotel_df['stays_in_weekend_nights'] + hotel_df['stays_in_week_nights']\n",
        "\n",
        "# Set the plot size\n",
        "plt.figure(figsize=(14,7))\n",
        "\n",
        "# Using a violin plot to know in which weeks, visitors stays the most\n",
        "sns.violinplot(x = 'arrival_date_week_number', y = 'total_stay', palette = 'Set2', data = hotel_df)\n",
        "\n",
        "# Set labels\n",
        "plt.title('Week wise number of stays', fontsize = 20)\n",
        "plt.ylabel('Number os stays', fontsize = 16)\n",
        "plt.xlabel('Week number', fontsize = 16)\n",
        "\n",
        "# To show\n",
        "plt.show()"
      ],
      "metadata": {
        "id": "EUfxeq9-p1cl"
      },
      "execution_count": null,
      "outputs": []
    },
    {
      "cell_type": "code",
      "source": [
        "# Visualizing with the help of pie plot\n",
        "hotel_df['is_canceled'].value_counts().plot.pie(explode = [0.05,0.05], autopct = '%1.1f%%', shadow = True, figsize = (10,8), fontsize = 20)\n",
        "\n",
        "# Set title\n",
        "plt.title('Cancelation and Non-Cancelation', fontsize = 20)\n",
        "\n",
        "# To show\n",
        "plt.show()"
      ],
      "metadata": {
        "id": "iImHQxZCEtod"
      },
      "execution_count": null,
      "outputs": []
    },
    {
      "cell_type": "markdown",
      "source": [
        "##### 1. Why did you pick the specific chart?"
      ],
      "metadata": {
        "id": "E6MkPsBcp1cl"
      }
    },
    {
      "cell_type": "markdown",
      "source": [
        "I have used the violin plot here, to gather proper relation between number of stays and week wise number of stays and violin plots are used when one want to observe the distribution of numetic data, and are especially useful when you want to make a comparison of distributions between multiple groups. This peaks, valleys, and tails of each group's density curve can be compared to see where groups are similar or different.\n",
        "\n",
        "I have picked this pie plot as it's look very precise and clear to get the insights between two variables. As, we can see now 27.5% tickets was canceled. Here, 0 denotes not canceled and 1 denotes the canceled one. So, i have used the pie plot because it represents data visually as a fractional part of a whole, which can be an effective communication tool for the even uninformed audience. It enables the audience to see a data comparison at a glance to make an immediate analysis or to understand information quickly."
      ],
      "metadata": {
        "id": "V22bRsFWp1cl"
      }
    },
    {
      "cell_type": "markdown",
      "source": [
        "##### 2. What is/are the insight(s) found from the chart?"
      ],
      "metadata": {
        "id": "2cELzS2fp1cl"
      }
    },
    {
      "cell_type": "markdown",
      "source": [
        "From the above violin plot, we have found that from the week 28 to 31, it has shown the highest days of stay whereas from the week 1 to 11 has shown a very steady trend in the number of stays and also the week 18 to 22 has shown the least number of stays by the visitors in aggregate of all 3 years 2015, 2016 and 2017.\n",
        "\n",
        "From the graph, we have found the insights that more than 1/4th of the overall bookings i.e. approx 27.5% of the tickets was got canceled."
      ],
      "metadata": {
        "id": "ozQPc2_Ip1cl"
      }
    },
    {
      "cell_type": "markdown",
      "source": [
        "##### 3. Will the gained insights help creating a positive business impact?\n",
        "Are there any insights that lead to negative growth? Justify with specific reason."
      ],
      "metadata": {
        "id": "3MPXvC8up1cl"
      }
    },
    {
      "cell_type": "markdown",
      "source": [
        "Yes, according to the outcomes, Client can have a better plan to provide better services to the guests so that the revenue can be multiplied.\n",
        "\n",
        "So, here as we can see, that more than 27% booking got canceled. So, it's a matter of deep concern. Thus, we need to look over this problem. The solution to this problem is that, we can check the reasons of cancelation of a booking & need to get this sorted out as soon as possible at the business level to stop the problems getting broader."
      ],
      "metadata": {
        "id": "GL8l1tdLp1cl"
      }
    },
    {
      "cell_type": "markdown",
      "source": [
        "#### Chart - 14 - Correlation Heatmap"
      ],
      "metadata": {
        "id": "NC_X3p0fY2L0"
      }
    },
    {
      "cell_type": "code",
      "source": [
        "# Correlation Heatmap visualization code\n",
        "# Set the plot size\n",
        "plt.figure(figsize = (14,6))\n",
        "\n",
        "# Create the figure object\n",
        "sns.countplot(x = hotel_df['assigned_room_type'], order = hotel_df['assigned_room_type'].value_counts().index)\n",
        "\n",
        "# Set labels\n",
        "plt.xlabel('Room Type', fontsize = 16)\n",
        "plt.ylabel('Count of Room type', fontsize = 16)\n",
        "plt.title('Most preferred Room Type', fontsize = 20)\n",
        "\n",
        "# To show\n",
        "plt.show()"
      ],
      "metadata": {
        "id": "xyC9zolEZNRQ"
      },
      "execution_count": null,
      "outputs": []
    },
    {
      "cell_type": "code",
      "source": [
        "# Using seeborn to plot a count plot chart to demonstrate the types of customer visit the most\n",
        "# Set the plot size\n",
        "plt.figure(figsize = (12,6))\n",
        "\n",
        "# Create the figure object\n",
        "sns.countplot(x = 'arrival_date_month', hue = 'customer_type', palette = 'Set2', data = hotel_df)\n",
        "\n",
        "# Set labels\n",
        "plt.xlabel('Months', fontsize = 16)\n",
        "plt.ylabel('Number of customers', fontsize = 16)\n",
        "plt.title('Types of customer arrived month wise', fontsize = 20)\n",
        "\n",
        "# To show\n",
        "plt.show()"
      ],
      "metadata": {
        "id": "MZeSAl-UFEtV"
      },
      "execution_count": null,
      "outputs": []
    },
    {
      "cell_type": "code",
      "source": [
        "# Plotting a correlation heatmap for the dataset\n",
        "plt.figure(figsize=(15,8))\n",
        "\n",
        "# Select only numerical columns for correlation\n",
        "numerical_df = new_df.select_dtypes(include=['number'])\n",
        "\n",
        "sns.heatmap(numerical_df.corr(), vmin=-1, cmap='coolwarm', annot=True)\n",
        "plt.show()"
      ],
      "metadata": {
        "id": "j1Xw1ymEK_gQ"
      },
      "execution_count": null,
      "outputs": []
    },
    {
      "cell_type": "markdown",
      "source": [
        "##### 1. Why did you pick the specific chart?"
      ],
      "metadata": {
        "id": "UV0SzAkaZNRQ"
      }
    },
    {
      "cell_type": "markdown",
      "source": [
        "For 1st visualization, i have picked the bar chart to display result for this set of code. Here, i have used bar graph to show distribution by volume(count of room), which type of room is alotted. Bar graph summarises the large set of data in simple visual form. It displays each category of data in the frequency distribution. It clarifies the trend of data better than the table. So, i have used the bar graph here.\n",
        "\n",
        "While 2nd visualization involves a count plot because it helps us to get clear insights with the total number of guests visited. So, i have used count plot here to know about the type of guests."
      ],
      "metadata": {
        "id": "DVPuT8LYZNRQ"
      }
    },
    {
      "cell_type": "markdown",
      "source": [
        "##### 2. What is/are the insight(s) found from the chart?"
      ],
      "metadata": {
        "id": "YPEH6qLeZNRQ"
      }
    },
    {
      "cell_type": "markdown",
      "source": [
        "From the above chart, it is found that the most preferred Room type is 'A'. So, majority of the guests have shown interest in this room type. So, overall this chart shows room type 'A' is most preferred by guests.\n",
        "\n",
        "From the 2nd graph, it can be summarised that the Transient type of customers visit the most whereas the visitors who are in group comes in the category of least visitors."
      ],
      "metadata": {
        "id": "bfSqtnDqZNRR"
      }
    },
    {
      "cell_type": "markdown",
      "source": [
        "3.Will the gained insights help creating a positive business impact?\n",
        "Are there any insights that lead to negative growth? Justify with specific reason."
      ],
      "metadata": {
        "id": "GvOm0U2cFQEo"
      }
    },
    {
      "cell_type": "markdown",
      "source": [
        "Yes, from the graph it can be seen that there are positive impacts because 'A', 'D', 'E' is more preferred by guest due to better services offered in room type. So, overall booking in a hotel matters. So, each room type belongs to each hotel so wherever customers goes, the hotel will be benefit but Hotels should also look in the factors affecting less preference in some particular room type. So, overall if other room types will also gain popularity then again hotel will be benefitted. So, ultimately hotels will encounters more bookings resulting in much more revenues.\n",
        "\n",
        "Ofcourse the better understanding regarding the different type of guests will help to take proper right steps towards services, facilities, requirements and offers which will directly result in the growth in business."
      ],
      "metadata": {
        "id": "6fxAd1chFSmV"
      }
    },
    {
      "cell_type": "markdown",
      "source": [
        "#### Chart - 15 - Pair Plot"
      ],
      "metadata": {
        "id": "q29F0dvdveiT"
      }
    },
    {
      "cell_type": "code",
      "source": [
        "# Creating new dataset\n",
        "new_df2=new_df[['hotel','is_canceled','lead_time','arrival_date_year','arrival_date_month','meal','market_segment','distribution_channel','reserved_room_type',\n",
        "       'assigned_room_type','deposit_type','days_in_waiting_list', 'customer_type', 'adr','total_stays',\n",
        "       'total_people', 'total_childrens', 'reserved_room_assigned',\n",
        "       'guest_category', 'lead_time_category']]\n",
        "\n",
        "# Plotting pair plot for dataset\n",
        "plt.figure(figsize=(10,8))\n",
        "ax=sns.pairplot(new_df2)\n",
        "plt.show()"
      ],
      "metadata": {
        "id": "fcU40rN5Fzo7"
      },
      "execution_count": null,
      "outputs": []
    },
    {
      "cell_type": "markdown",
      "source": [
        "##### 1. Why did you pick the specific chart?"
      ],
      "metadata": {
        "id": "EXh0U9oCveiU"
      }
    },
    {
      "cell_type": "markdown",
      "source": [
        "Pair plot is used to understand the best set of features to explain a relationship between two variables or to form the most separated clusters. It also helps to form some simple classification models by drawing some simple lines or make linear separation in our data-set.\n",
        "\n",
        "Thus, i have used pair plot to analyse the patterns of data and relationship between the features. It's exactly same as the correlation map but here it shows the output in the graphical representation."
      ],
      "metadata": {
        "id": "eMmPjTByveiU"
      }
    },
    {
      "cell_type": "markdown",
      "source": [
        "##### 2. What is/are the insight(s) found from the chart?"
      ],
      "metadata": {
        "id": "22aHeOlLveiV"
      }
    },
    {
      "cell_type": "markdown",
      "source": [
        "We have found the relationship of 'is_repeated_guest' with different types of columns. So, generally this chart reflects the relationship of a particular column with all other columns."
      ],
      "metadata": {
        "id": "uPQ8RGwHveiV"
      }
    },
    {
      "cell_type": "markdown",
      "source": [
        "## **5. Solution to Business Objective**"
      ],
      "metadata": {
        "id": "JcMwzZxoAimU"
      }
    },
    {
      "cell_type": "markdown",
      "source": [
        "#### What do you suggest the client to achieve Business Objective ?\n",
        "Explain Briefly."
      ],
      "metadata": {
        "id": "8G2x9gOozGDZ"
      }
    },
    {
      "cell_type": "markdown",
      "source": [
        "* A city hotel has more bookings than a resort. Offer packages and promotions to promote bookings for the resort hotel.\n",
        "* BB is the most requested food. The hotel should maintain food quality while also offering discounts on other foods to promote other food types, reducing the burden on kitchen management and keeping a variety of food options available to customers.\n",
        "* Most of the bookings are made through the online platform. Hotels can cut costs by eliminating market segments such as complementary and aviation because bookings through these segments are very low.\n",
        "* Because most bookings made through TA/TO distribution are followed by corporate distribution, hotels should invest in both TA/TO and corporate distribution channels. The GDS distribution channel can be eliminated by hoteliers because bookings made through it are extremely low.\n",
        "* Very few customers (3.86%) visited again. So hotels can increase repeat bookings by offering the right repeat booking incentives, understanding the motivations behind repeat bookings, marketing to your guests’ past interests, and assessing past bookings to identify priority guests.\n",
        "* Because rooms A and D are the most popular with customers, the hotel should maintain their quality. The hotel should promote rooms E, F, and G to increase demand by offering discounts. Because customers do not prefer to book room types B, C, H, and L, the hotel can eliminate them, lowering the cost of these rooms.\n",
        "* Customers do not want to pay a pre-deposit for a reservation. Hotels should promote advance deposits because not only does an advance deposit allow you to recognize revenue faster, it also greatly decreases the risk of cancellations.\n",
        "* Because 3 and 8 parking spaces were rarely requested by customers, hotels can only keep bookings for 1 and 2 parking spaces to save money.\n",
        "15% of customers were not given reserved rooms. Make sure that guests get the rooms they have booked.\n",
        "* Almost 25% of customers cancelled their bookings. Hotel should implement a cancellation policy, discount on confirmed bookings, and send booking reminders to guests to reduce booking cancellations.\n",
        "* People typically book rooms for two people, so encourage family and group bookings. You can maximize revenue by promoting it with a discounted offer for group bookings."
      ],
      "metadata": {
        "id": "pASKb0qOza21"
      }
    },
    {
      "cell_type": "markdown",
      "source": [
        "# **Conclusion**"
      ],
      "metadata": {
        "id": "gCX9965dhzqZ"
      }
    },
    {
      "cell_type": "markdown",
      "source": [
        "* The top country with the most number of bookings is PRT, and the number one agent with the most number of bookings is 9.\n",
        "* Customers favored city hotels more than resort hotels by a margin of 61.07 percent.\n",
        "* One of the four reservations is canceled.\n",
        "* The most popular food is BB.\n",
        "* The Online (internet) platform is used to make the majority of bookings.\n",
        "* The majority of the bookings are made using TA/TO, the leading distribution channel.\n",
        "* The vast majority of hotel bookings are made by new guests. Almost no consumers (3.86%) returned.\n",
        "* The customer wants Room A to be reserved the most.\n",
        "* Customers do not wish to make a bookings with a pre-deposit.\n",
        "* Customers (80%) favored making a hotel reservation for a short visit.\n",
        "* Only 10% of people require space to park their cars.\n",
        "* Most visitors are couples.\n",
        "* The inability to assign a reserved room to a customer is not grounds for cancellation.\n",
        "* Booking cancellations are not caused by a longer Lead time.\n",
        "* A city hotel is busier than a resort.\n",
        "* The busiest months for hotels are October and September. There isn't\n",
        "  a lengthy wait for reservations in July.\n",
        "* Not assigning a reserved room does not affect ADR."
      ],
      "metadata": {
        "id": "Fjb1IsQkh3yE"
      }
    },
    {
      "cell_type": "markdown",
      "source": [
        "## Challenges\n",
        "* The data contained a large number of duplicates.\n",
        "* The improper data type format was used for the data.\n",
        "* It was challenging to select the best visualization techniques.\n",
        "* The dataset contained a large number of null values."
      ],
      "metadata": {
        "id": "aFwNQKQtGuo5"
      }
    },
    {
      "cell_type": "markdown",
      "source": [
        "### ***Hurrah! You have successfully completed your EDA Capstone Project !!!***"
      ],
      "metadata": {
        "id": "gIfDvo9L0UH2"
      }
    }
  ]
}