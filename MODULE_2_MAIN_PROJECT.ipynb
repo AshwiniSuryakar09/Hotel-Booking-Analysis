{
  "nbformat": 4,
  "nbformat_minor": 0,
  "metadata": {
    "colab": {
      "private_outputs": true,
      "provenance": [],
      "collapsed_sections": [
        "vncDsAP0Gaoa",
        "FJNUwmbgGyua",
        "yQaldy8SH6Dl",
        "K5QZ13OEpz2H",
        "lQ7QKXXCp7Bj",
        "448CDAPjqfQr",
        "t6dVpIINYklI",
        "ijmpgYnKYklI",
        "578E2V7j08f6",
        "67NQN5KX2AMe",
        "Iwf50b-R2tYG",
        "GMQiZwjn3iu7",
        "WVIkgGqN3qsr",
        "XkPnILGE3zoT",
        "Hlsf0x5436Go",
        "mT9DMSJo4nBL",
        "c49ITxTc407N",
        "OeJFEK0N496M",
        "9ExmJH0g5HBk",
        "cJNqERVU536h",
        "k5UmGsbsOxih",
        "T0VqWOYE6DLQ",
        "qBMux9mC6MCf",
        "-oLEiFgy-5Pf",
        "C74aWNz2AliB",
        "2DejudWSA-a0",
        "pEMng2IbBLp7",
        "rAdphbQ9Bhjc",
        "TNVZ9zx19K6k",
        "nqoHp30x9hH9",
        "rMDnDkt2B6du",
        "yiiVWRdJDDil",
        "1UUpS68QDMuG",
        "kexQrXU-DjzY",
        "T5CmagL3EC8N",
        "qjKvONjwE8ra",
        "P1XJ9OREExlT",
        "VFOzZv6IFROw",
        "TIqpNgepFxVj",
        "ArJBuiUVfxKd",
        "4qY1EAkEfxKe",
        "PiV4Ypx8fxKe",
        "TfvqoZmBfxKf",
        "dJ2tPlVmpsJ0",
        "JWYfwnehpsJ1",
        "-jK_YjpMpsJ2",
        "HAih1iBOpsJ2",
        "zVGeBEFhpsJ2",
        "bmKjuQ-FpsJ3",
        "Fze-IPXLpx6K",
        "7AN1z2sKpx6M",
        "9PIHJqyupx6M",
        "_-qAgymDpx6N",
        "Z-hykwinpx6N",
        "h_CCil-SKHpo",
        "cBFFvTBNJzUa",
        "HvGl1hHyA_VK",
        "KH5McJBi2d8v",
        "iW_Lq9qf2h6X",
        "-Kee-DAl2viO",
        "gIfDvo9L0UH2"
      ]
    },
    "kernelspec": {
      "name": "python3",
      "display_name": "Python 3"
    },
    "language_info": {
      "name": "python"
    }
  },
  "cells": [
    {
      "cell_type": "markdown",
      "source": [
        "# **Project Name**    -Hotel Booking Analysis\n",
        "\n"
      ],
      "metadata": {
        "id": "vncDsAP0Gaoa"
      }
    },
    {
      "cell_type": "markdown",
      "source": [
        "##### **Project Type**    - EDA/Regression/Classification/Unsupervised\n",
        "##### **Contribution**    - Individual\n",
        "\n",
        "\n"
      ],
      "metadata": {
        "id": "beRrZCGUAJYm"
      }
    },
    {
      "cell_type": "markdown",
      "source": [
        "# **Project Summary -**\n",
        "By analyzing a vast dataset of hotel bookings, the project seeks to uncover key factors influencing booking behavior, such as seasonal trends, booking lead times, and popular amenities.\n",
        "The dashboard will provide a real-time overview of booking trends, customer preferences, and  facilitating the identification of areas for improvement and opportunities for growth within the hotel's operations.By leveraging predictive analytics, the project will forecast future booking demands and occupancy rates, resource allocation, and marketing initiatives to maximize revenue and customer satisfaction.\n",
        "  "
      ],
      "metadata": {
        "id": "FJNUwmbgGyua"
      }
    },
    {
      "cell_type": "markdown",
      "source": [
        "# **GitHub Link**"
      ],
      "metadata": {
        "id": "w6K7xa23Elo4"
      }
    },
    {
      "cell_type": "markdown",
      "source": [
        "https://github.com/AshwiniSuryakar09"
      ],
      "metadata": {
        "id": "h1o69JH3Eqqn"
      }
    },
    {
      "cell_type": "markdown",
      "source": [
        "# **Problem Statement**\n",
        " In the rapidly evolving hospitality industry, there exists a pressing need to leverage techniques to comprehensively analyze hotel booking patterns and customer preferences. Moreover, the inability to address factors contributing to booking cancellations , impacting overall profitability and hindering the ability to provide a seamless and personalized customer experience.\n",
        "\n",
        " To address these challenges, this project aims to develop a comprehensive data analysis framework that can extract meaningful insights from the available booking dat\n",
        "\n"
      ],
      "metadata": {
        "id": "yQaldy8SH6Dl"
      }
    },
    {
      "cell_type": "markdown",
      "source": [
        "# **General Guidelines** : -  "
      ],
      "metadata": {
        "id": "mDgbUHAGgjLW"
      }
    },
    {
      "cell_type": "markdown",
      "source": [
        "1.   Well-structured, formatted, and commented code is required.\n",
        "2.   Exception Handling, Production Grade Code & Deployment Ready Code will be a plus. Those students will be awarded some additional credits.\n",
        "     \n",
        "     The additional credits will have advantages over other students during Star Student selection.\n",
        "       \n",
        "             [ Note: - Deployment Ready Code is defined as, the whole .ipynb notebook should be executable in one go\n",
        "                       without a single error logged. ]\n",
        "\n",
        "3.   Each and every logic should have proper comments.\n",
        "4. You may add as many number of charts you want. Make Sure for each and every chart the following format should be answered.\n",
        "        \n",
        "\n",
        "```\n",
        "# Chart visualization code\n",
        "```\n",
        "            \n",
        "\n",
        "*   Why did you pick the specific chart?\n",
        "*   What is/are the insight(s) found from the chart?\n",
        "* Will the gained insights help creating a positive business impact?\n",
        "Are there any insights that lead to negative growth? Justify with specific reason.\n",
        "\n",
        "5. You have to create at least 15 logical & meaningful charts having important insights.\n",
        "\n",
        "\n",
        "[ Hints : - Do the Vizualization in  a structured way while following \"UBM\" Rule.\n",
        "\n",
        "U - Univariate Analysis,\n",
        "\n",
        "B - Bivariate Analysis (Numerical - Categorical, Numerical - Numerical, Categorical - Categorical)\n",
        "\n",
        "M - Multivariate Analysis\n",
        " ]\n",
        "\n",
        "\n",
        "\n",
        "\n",
        "\n",
        "6. You may add more ml algorithms for model creation. Make sure for each and every algorithm, the following format should be answered.\n",
        "\n",
        "\n",
        "*   Explain the ML Model used and it's performance using Evaluation metric Score Chart.\n",
        "\n",
        "\n",
        "*   Cross- Validation & Hyperparameter Tuning\n",
        "\n",
        "*   Have you seen any improvement? Note down the improvement with updates Evaluation metric Score Chart.\n",
        "\n",
        "*   Explain each evaluation metric's indication towards business and the business impact pf the ML model used.\n",
        "\n",
        "\n",
        "\n",
        "\n",
        "\n",
        "\n",
        "\n",
        "\n",
        "\n",
        "\n",
        "\n",
        "\n",
        "\n",
        "\n",
        "\n",
        "\n",
        "\n",
        "\n"
      ],
      "metadata": {
        "id": "ZrxVaUj-hHfC"
      }
    },
    {
      "cell_type": "markdown",
      "source": [
        "# ***Let's Begin !***"
      ],
      "metadata": {
        "id": "O_i_v8NEhb9l"
      }
    },
    {
      "cell_type": "markdown",
      "source": [
        "## ***1. Know Your Data***"
      ],
      "metadata": {
        "id": "HhfV-JJviCcP"
      }
    },
    {
      "cell_type": "markdown",
      "source": [
        "### Import Libraries"
      ],
      "metadata": {
        "id": "Y3lxredqlCYt"
      }
    },
    {
      "cell_type": "code",
      "source": [
        "# Import Libraries\n",
        "import numpy as np\n",
        "import pandas as pd\n",
        "import matplotlib\n",
        "import matplotlib.pyplot as plt\n",
        "import seaborn as sns\n",
        "import folium\n",
        "import plotly.express as px\n",
        "%matplotlib inline"
      ],
      "metadata": {
        "id": "M8Vqi-pPk-HR"
      },
      "execution_count": null,
      "outputs": []
    },
    {
      "cell_type": "markdown",
      "source": [
        "### Dataset Loading"
      ],
      "metadata": {
        "id": "3RnN4peoiCZX"
      }
    },
    {
      "cell_type": "code",
      "source": [
        "# Load Dataset\n",
        "from google.colab import drive                    # Mounting drive\n",
        "drive.mount('/content/drive')"
      ],
      "metadata": {
        "id": "4CkvbW_SlZ_R"
      },
      "execution_count": null,
      "outputs": []
    },
    {
      "cell_type": "code",
      "source": [
        "filepath=\"/content/Hotel Bookings.csv\"\n",
        "hotel_df=pd.read_csv(filepath)"
      ],
      "metadata": {
        "id": "d0DxPcKM5F6W"
      },
      "execution_count": null,
      "outputs": []
    },
    {
      "cell_type": "code",
      "source": [
        "hotel_df"
      ],
      "metadata": {
        "id": "Z6E0-Gi37U4Z"
      },
      "execution_count": null,
      "outputs": []
    },
    {
      "cell_type": "markdown",
      "source": [
        "### Dataset First View"
      ],
      "metadata": {
        "id": "x71ZqKXriCWQ"
      }
    },
    {
      "cell_type": "code",
      "source": [
        "# Dataset First Look\n",
        "hotel_df.head()"
      ],
      "metadata": {
        "id": "LWNFOSvLl09H"
      },
      "execution_count": null,
      "outputs": []
    },
    {
      "cell_type": "markdown",
      "source": [
        "### Dataset Rows & Columns count"
      ],
      "metadata": {
        "id": "7hBIi_osiCS2"
      }
    },
    {
      "cell_type": "code",
      "source": [
        "# Dataset Rows & Columns count\n",
        "hotel_df.columns"
      ],
      "metadata": {
        "id": "Kllu7SJgmLij"
      },
      "execution_count": null,
      "outputs": []
    },
    {
      "cell_type": "code",
      "source": [
        "hotel_df.describe()"
      ],
      "metadata": {
        "id": "_pwApaZC7_3c"
      },
      "execution_count": null,
      "outputs": []
    },
    {
      "cell_type": "markdown",
      "source": [
        "### Dataset Information"
      ],
      "metadata": {
        "id": "JlHwYmJAmNHm"
      }
    },
    {
      "cell_type": "code",
      "source": [
        "# Dataset Info\n",
        "hotel_df.info()"
      ],
      "metadata": {
        "id": "e9hRXRi6meOf"
      },
      "execution_count": null,
      "outputs": []
    },
    {
      "cell_type": "code",
      "source": [
        "df = hotel_df.copy()"
      ],
      "metadata": {
        "id": "phe7-vyP8kb0"
      },
      "execution_count": null,
      "outputs": []
    },
    {
      "cell_type": "markdown",
      "source": [
        "#### Duplicate Values"
      ],
      "metadata": {
        "id": "35m5QtbWiB9F"
      }
    },
    {
      "cell_type": "code",
      "source": [
        "# Dataset Duplicate Value Count\n",
        "df[df.duplicated()].shape"
      ],
      "metadata": {
        "id": "1sLdpKYkmox0"
      },
      "execution_count": null,
      "outputs": []
    },
    {
      "cell_type": "code",
      "source": [
        "df.drop_duplicates(inplace = True)"
      ],
      "metadata": {
        "id": "bFooTAzW-3Gk"
      },
      "execution_count": null,
      "outputs": []
    },
    {
      "cell_type": "code",
      "source": [
        "df.shape"
      ],
      "metadata": {
        "id": "vMyMaEYZ-8H9"
      },
      "execution_count": null,
      "outputs": []
    },
    {
      "cell_type": "markdown",
      "source": [
        "#### Missing Values/Null Values"
      ],
      "metadata": {
        "id": "PoPl-ycgm1ru"
      }
    },
    {
      "cell_type": "code",
      "source": [
        "# Missing Values/Null Values Count\n",
        "df.isnull().sum().sort_values(ascending = False)[:6]\n"
      ],
      "metadata": {
        "id": "GgHWkxvamxVg"
      },
      "execution_count": null,
      "outputs": []
    },
    {
      "cell_type": "code",
      "source": [
        "df[['company','agent']] = df[['company','agent']].fillna(0)\n",
        "print(df[['company','agent']])"
      ],
      "metadata": {
        "id": "luDfy3oF_sEa"
      },
      "execution_count": null,
      "outputs": []
    },
    {
      "cell_type": "code",
      "source": [
        "df['children'].unique()"
      ],
      "metadata": {
        "id": "OcW4MwsEABad"
      },
      "execution_count": null,
      "outputs": []
    },
    {
      "cell_type": "code",
      "source": [
        "# Visualizing the missing values\n",
        "df['children'].fillna(df['children'].mean(), inplace = True)"
      ],
      "metadata": {
        "id": "3q5wnI3om9sJ"
      },
      "execution_count": null,
      "outputs": []
    },
    {
      "cell_type": "code",
      "source": [
        "df['country'].fillna('others', inplace = True)"
      ],
      "metadata": {
        "id": "EELOjlOuxbDO"
      },
      "execution_count": null,
      "outputs": []
    },
    {
      "cell_type": "code",
      "source": [
        "df.isnull().sum().sort_values(ascending = False)[:6]"
      ],
      "metadata": {
        "id": "KHyqvB8737uu"
      },
      "execution_count": null,
      "outputs": []
    },
    {
      "cell_type": "code",
      "source": [
        "df[df['adults']+df['babies']+df['children'] == 0].shape"
      ],
      "metadata": {
        "id": "5e7ZTMZlxlWK"
      },
      "execution_count": null,
      "outputs": []
    },
    {
      "cell_type": "code",
      "source": [
        "df.drop(df[df['adults']+df['babies']+df['children'] == 0].index, inplace = True)"
      ],
      "metadata": {
        "id": "rrSi1eiOxsb5"
      },
      "execution_count": null,
      "outputs": []
    },
    {
      "cell_type": "code",
      "source": [
        "df['reservation_status_date'] = pd.to_datetime(df['reservation_status_date'], format = '%Y-%m-%d')\n",
        "\n",
        "print(df['reservation_status_date'])"
      ],
      "metadata": {
        "id": "0LU1fnbCyQ63"
      },
      "execution_count": null,
      "outputs": []
    },
    {
      "cell_type": "markdown",
      "source": [
        "### What did you know about your dataset?"
      ],
      "metadata": {
        "id": "H0kj-8xxnORC"
      }
    },
    {
      "cell_type": "markdown",
      "source": [
        "Answer Here"
      ],
      "metadata": {
        "id": "gfoNAAC-nUe_"
      }
    },
    {
      "cell_type": "markdown",
      "source": [
        "## ***2. Understanding Your Variables***"
      ],
      "metadata": {
        "id": "nA9Y7ga8ng1Z"
      }
    },
    {
      "cell_type": "code",
      "source": [
        "# Dataset Columns\n",
        "df['total_stay'] = df['stays_in_weekend_nights']+df['stays_in_week_nights']\n",
        "\n",
        "print(df['total_stay'])\n"
      ],
      "metadata": {
        "id": "j7xfkqrt5Ag5"
      },
      "execution_count": null,
      "outputs": []
    },
    {
      "cell_type": "code",
      "source": [
        "df['total_people'] = df['adults']+df['children']+df['babies']\n",
        "\n",
        "print(df['total_people'])"
      ],
      "metadata": {
        "id": "mzcgQhfIycE1"
      },
      "execution_count": null,
      "outputs": []
    },
    {
      "cell_type": "code",
      "source": [
        "# Dataset Describe\n",
        "df.describe()"
      ],
      "metadata": {
        "id": "DnOaZdaE5Q5t"
      },
      "execution_count": null,
      "outputs": []
    },
    {
      "cell_type": "markdown",
      "source": [
        "### Variables Description"
      ],
      "metadata": {
        "id": "PBTbrJXOngz2"
      }
    },
    {
      "cell_type": "markdown",
      "source": [
        "hotel : Name of the hotel (Resort Hotel or City Hotel)\n",
        "\n",
        "is_canceled : If the booking was canceled (1) or not (0)\n",
        "\n",
        "lead_time: Number of days before the actual arrival of the guests\n",
        "\n",
        "arrival_date_year : Year of arrival date\n",
        "\n",
        "arrival_date_month : Month of arrival date\n",
        "\n",
        "arrival_date_week_number : Week number of year for arrival date\n",
        "\n",
        "arrival_date_day_of_month : Day of arrival date\n",
        "\n",
        "stays_in_weekend_nights : Number of weekend nights (Saturday or Sunday) spent at the hotel by the guests.\n",
        "\n",
        "stays_in_week_nights : Number of weeknights (Monday to Friday) spent at the hotel by the guests.\n",
        "\n",
        "adults : Number of adults among guests\n",
        "\n",
        "children : Number of children among guests\n",
        "\n",
        "babies : Number of babies among guests\n",
        "\n",
        "meal : Type of meal booked\n",
        "\n",
        "country : Country of guests\n",
        "\n",
        "market_segment : Designation of market segment\n",
        "\n",
        "distribution_channel : Name of booking distribution channel\n",
        "\n",
        "is_repeated_guest : If the booking was from a repeated guest (1) or not (0)\n",
        "\n",
        "previous_cancellations : Number of previous bookings that were cancelled by the customer prior to the current booking\n",
        "\n",
        "previous_bookings_not_canceled : Number of previous bookings not cancelled by the customer prior to the current booking\n",
        "\n",
        "reserved_room_type : Code of room type reserved\n",
        "\n",
        "assigned_room_type : Code of room type assigned\n",
        "\n",
        "booking_changes : Number of changes/amendments made to the booking\n",
        "\n",
        "deposit_type : Type of the deposit made by the guest\n",
        "\n",
        "agent : ID of travel agent who made the booking\n",
        "\n",
        "company : ID of the company that made the booking\n",
        "\n",
        "days_in_waiting_list : Number of days the booking was in the waiting list\n",
        "\n",
        "customer_type : Type of customer, assuming one of four categories\n",
        "\n",
        "adr : Average Daily Rate, as defined by dividing the sum of all lodging transactions by the total number of staying nights\n",
        "\n",
        "required_car_parking_spaces : Number of car parking spaces required by the customer\n",
        "\n",
        "total_of_special_requests : Number of special requests made by the customer\n",
        "\n",
        "reservation_status : Reservation status (Canceled, Check-Out or No-Show)\n",
        "\n",
        "reservation_status_date : Date at which the last reservation status was updated"
      ],
      "metadata": {
        "id": "DVx-ohFVQgq7"
      }
    },
    {
      "cell_type": "markdown",
      "source": [
        "### Check Unique Values for each variable."
      ],
      "metadata": {
        "id": "u3PMJOP6ngxN"
      }
    },
    {
      "cell_type": "code",
      "source": [
        "# Check Unique Values for each variable.\n",
        "df['is_canceled'].unique()\n"
      ],
      "metadata": {
        "id": "zms12Yq5n-jE"
      },
      "execution_count": null,
      "outputs": []
    },
    {
      "cell_type": "code",
      "source": [
        "\n",
        "df['arrival_date_year'].unique()\n"
      ],
      "metadata": {
        "id": "UkZ4xP_Oy7pu"
      },
      "execution_count": null,
      "outputs": []
    },
    {
      "cell_type": "code",
      "source": [
        "hotel_df['arrival_date_month'].unique()"
      ],
      "metadata": {
        "id": "ltykds1cRQ1G"
      },
      "execution_count": null,
      "outputs": []
    },
    {
      "cell_type": "code",
      "source": [
        "hotel_df['arrival_date_week_number'].unique()"
      ],
      "metadata": {
        "id": "AbGu1eOkRVyq"
      },
      "execution_count": null,
      "outputs": []
    },
    {
      "cell_type": "code",
      "source": [
        "\n",
        "df['meal'].unique()\n"
      ],
      "metadata": {
        "id": "oywsU5q6zBVh"
      },
      "execution_count": null,
      "outputs": []
    },
    {
      "cell_type": "code",
      "source": [
        "\n",
        "df['market_segment'].unique()\n"
      ],
      "metadata": {
        "id": "GkZkU5gCzHxd"
      },
      "execution_count": null,
      "outputs": []
    },
    {
      "cell_type": "code",
      "source": [
        "\n",
        "df['distribution_channel'].unique()\n"
      ],
      "metadata": {
        "id": "IgpDrGlwzMxJ"
      },
      "execution_count": null,
      "outputs": []
    },
    {
      "cell_type": "code",
      "source": [
        "hotel_df['adults'].unique()\n"
      ],
      "metadata": {
        "id": "v1E_unnlRfOS"
      },
      "execution_count": null,
      "outputs": []
    },
    {
      "cell_type": "code",
      "source": [
        "\n",
        "df['children'].unique()"
      ],
      "metadata": {
        "id": "HDVmYTASzQoJ"
      },
      "execution_count": null,
      "outputs": []
    },
    {
      "cell_type": "code",
      "source": [
        "hotel_df['babies'].unique()"
      ],
      "metadata": {
        "id": "k1pGT54mRkv2"
      },
      "execution_count": null,
      "outputs": []
    },
    {
      "cell_type": "code",
      "source": [
        "hotel_df['reserved_room_type'].unique()"
      ],
      "metadata": {
        "id": "LuP2QwVtRwt8"
      },
      "execution_count": null,
      "outputs": []
    },
    {
      "cell_type": "code",
      "source": [
        "hotel_df['assigned_room_type'].unique()"
      ],
      "metadata": {
        "id": "LpPUQaDORy_w"
      },
      "execution_count": null,
      "outputs": []
    },
    {
      "cell_type": "code",
      "source": [
        "hotel_df['deposit_type'].unique()"
      ],
      "metadata": {
        "id": "v6-54SPeR25I"
      },
      "execution_count": null,
      "outputs": []
    },
    {
      "cell_type": "code",
      "source": [
        "hotel_df['agent'].unique()"
      ],
      "metadata": {
        "id": "ctChzsDfR7Og"
      },
      "execution_count": null,
      "outputs": []
    },
    {
      "cell_type": "code",
      "source": [
        "for elem in hotel_df.columns:\n",
        "  print('Number of unique values in',elem,'column is',hotel_df[elem].nunique())"
      ],
      "metadata": {
        "id": "kLl89kOBQoaU"
      },
      "execution_count": null,
      "outputs": []
    },
    {
      "cell_type": "code",
      "source": [
        "hotel_df['lead_time'].unique()"
      ],
      "metadata": {
        "id": "RAYuesPZRGVr"
      },
      "execution_count": null,
      "outputs": []
    },
    {
      "cell_type": "code",
      "source": [
        "hotel_df['customer_type'].unique()"
      ],
      "metadata": {
        "id": "Ws454WqVSFj_"
      },
      "execution_count": null,
      "outputs": []
    },
    {
      "cell_type": "code",
      "source": [
        "hotel_df['reservation_status_date'].unique()"
      ],
      "metadata": {
        "id": "G0QmU5AQSKN5"
      },
      "execution_count": null,
      "outputs": []
    },
    {
      "cell_type": "markdown",
      "source": [
        "## 3. ***Data Wrangling***"
      ],
      "metadata": {
        "id": "dauF4eBmngu3"
      }
    },
    {
      "cell_type": "markdown",
      "source": [
        "### Data Wrangling Code"
      ],
      "metadata": {
        "id": "bKJF3rekwFvQ"
      }
    },
    {
      "cell_type": "code",
      "source": [
        "# Write your code to make your dataset analysis ready.\n",
        "hotel_df.isnull().sum().sort_values(ascending = False)[:6]"
      ],
      "metadata": {
        "id": "wk-9a2fpoLcV"
      },
      "execution_count": null,
      "outputs": []
    },
    {
      "cell_type": "code",
      "source": [
        "# Replacing null values of company, agent and children columns with 0 and country column with 'others'\n",
        "\n",
        "hotel_df[['company','agent','children']] = hotel_df[['company','agent','children']].fillna(0)\n",
        "hotel_df[['country']] = hotel_df[['country']].fillna('others')"
      ],
      "metadata": {
        "id": "HGhcc3Q5SWgR"
      },
      "execution_count": null,
      "outputs": []
    },
    {
      "cell_type": "code",
      "source": [
        "# Checking if all null values are removed\n",
        "hotel_df.isnull().sum().sort_values(ascending = False)[:6]"
      ],
      "metadata": {
        "id": "8qo8glN5Sbhn"
      },
      "execution_count": null,
      "outputs": []
    },
    {
      "cell_type": "code",
      "source": [
        "# Checking number of duplicate values in the dataset\n",
        "len(hotel_df[hotel_df.duplicated()])"
      ],
      "metadata": {
        "id": "OlUn9IN5SgBT"
      },
      "execution_count": null,
      "outputs": []
    },
    {
      "cell_type": "code",
      "source": [
        "# Dropping the duplicate rows from dataset\n",
        "hotel_df = hotel_df.drop_duplicates()"
      ],
      "metadata": {
        "id": "Y1EtqBSkSu8h"
      },
      "execution_count": null,
      "outputs": []
    },
    {
      "cell_type": "code",
      "source": [
        "# Checking the shape of dataset after dropping duplicate values\n",
        "hotel_df.shape"
      ],
      "metadata": {
        "id": "JWo_ZNi5S1Mb"
      },
      "execution_count": null,
      "outputs": []
    },
    {
      "cell_type": "code",
      "source": [
        "# Checking the shape of dataset whose combining values of adults, babies and children columns is 0\n",
        "hotel_df[hotel_df['adults']+hotel_df['babies']+hotel_df['children'] == 0].shape"
      ],
      "metadata": {
        "id": "k9Cm7eOGS41I"
      },
      "execution_count": null,
      "outputs": []
    },
    {
      "cell_type": "code",
      "source": [
        "# Changing datatype of column 'reservation_status_date' from object to data_type\n",
        "hotel_df['reservation_status_date'] = pd.to_datetime(hotel_df['reservation_status_date'], format = '%Y-%m-%d')"
      ],
      "metadata": {
        "id": "T1pVGEBZTQ8U"
      },
      "execution_count": null,
      "outputs": []
    },
    {
      "cell_type": "markdown",
      "source": [
        "## **Adding important columns as per requirement**"
      ],
      "metadata": {
        "id": "B_jBqq99TfYE"
      }
    },
    {
      "cell_type": "code",
      "source": [
        "# Adding total staying days in hotels\n",
        "hotel_df['total_stay'] = hotel_df['stays_in_weekend_nights']+hotel_df['stays_in_week_nights']\n",
        "\n",
        "# Adding total people number as column, i.e. total types of person = num of adults + children + babies\n",
        "hotel_df['total_people'] = hotel_df['adults']+hotel_df['babies']+hotel_df['children']"
      ],
      "metadata": {
        "id": "sHujzjlvTojE"
      },
      "execution_count": null,
      "outputs": []
    },
    {
      "cell_type": "code",
      "source": [
        "# Checking the final number of rows and columns\n",
        "hotel_df.shape"
      ],
      "metadata": {
        "id": "d1C1NmcqTzNa"
      },
      "execution_count": null,
      "outputs": []
    },
    {
      "cell_type": "markdown",
      "source": [
        "### What all manipulations have you done and insights you found?"
      ],
      "metadata": {
        "id": "MSa1f5Uengrz"
      }
    },
    {
      "cell_type": "markdown",
      "source": [
        "I have done the following manipulations and the insights were found, are as follows:-\n",
        "\n",
        "I found that there were four columns containing null values. So we had Null values in columns- Company, Agent, Country and Children.\n",
        "\n",
        "1.For company and agent, i have filled the missing values with 0\n",
        "\n",
        "2.For country column, i have fill missing values with object 'Others'(Assuming while collecting data country was not found so user selected the 'Others' option.)\n",
        "\n",
        "3.As the count of missing values in Children Column was only 4, so it was replaced with 0 considering no children.\n",
        "\n",
        "-This dataset was also containing duplicate values, so duplicate values was dropped.\n",
        "\n",
        "-I found that there were some rows in which the combining values of adults, babies and childrens was 0, so this simply means there were no guests as 0 indicates presence of none. So, there were no bookings made. As a result, i simply dropped the rows where combining values of adults, babies and children columns was 0.\n",
        "\n",
        "-The data type of 'reservation_status_date' column was object type, so it was changed to date type format for better use.\n",
        "\n",
        "-There were two new columns that was added, one is 'total_people' and other is 'total_stay'."
      ],
      "metadata": {
        "id": "LbyXE7I1olp8"
      }
    },
    {
      "cell_type": "markdown",
      "source": [
        "## ***4. Data Vizualization, Storytelling & Experimenting with charts : Understand the relationships between variables***"
      ],
      "metadata": {
        "id": "GF8Ens_Soomf"
      }
    },
    {
      "cell_type": "markdown",
      "source": [
        "#### Chart - 1"
      ],
      "metadata": {
        "id": "0wOQAZs5pc--"
      }
    },
    {
      "cell_type": "code",
      "source": [
        "# Chart - 1 visualization code\n",
        "plt.figure(figsize = (12,6))\n",
        "sns.scatterplot(y = 'adr', x = 'total_stay', data = df)\n",
        "plt.show()"
      ],
      "metadata": {
        "id": "7v_ESjsspbW7"
      },
      "execution_count": null,
      "outputs": []
    },
    {
      "cell_type": "markdown",
      "source": [
        "From the scatter plot we can see that as length of tottal_stay increases the adr decreases. This means for longer stay, the better deal for customer can be finalised."
      ],
      "metadata": {
        "id": "az5ydIDgMB9X"
      }
    },
    {
      "cell_type": "markdown",
      "source": [
        "##### 1. Why did you pick the specific chart?"
      ],
      "metadata": {
        "id": "K5QZ13OEpz2H"
      }
    },
    {
      "cell_type": "markdown",
      "source": [
        "This choice of visualization is suitable for exploring the relationship between two continuous variables, 'total_stay' and 'adr'.we can see if there's a linear relationship, a curve, or if the points are scattered randomly."
      ],
      "metadata": {
        "id": "XESiWehPqBRc"
      }
    },
    {
      "cell_type": "markdown",
      "source": [
        "##### 2. What is/are the insight(s) found from the chart?"
      ],
      "metadata": {
        "id": "lQ7QKXXCp7Bj"
      }
    },
    {
      "cell_type": "markdown",
      "source": [
        "  This chart provides insight into the distribution of data points along both axes, which can help in understanding the data's spread and concentration.This enables us to see if there's any discernible pattern or correlation between the two continuous variables ."
      ],
      "metadata": {
        "id": "C_j1G7yiqdRP"
      }
    },
    {
      "cell_type": "markdown",
      "source": [
        "##### 3. Will the gained insights help creating a positive business impact?\n",
        "Are there any insights that lead to negative growth? Justify with specific reason."
      ],
      "metadata": {
        "id": "448CDAPjqfQr"
      }
    },
    {
      "cell_type": "markdown",
      "source": [
        "Yes, We have gained some positive business impacts like :\n",
        "\n",
        "1. By understanding the relationship between the length of stay ('total_stay') and the average daily rate ('adr') is going to help us to optimize pricing strategy\n",
        "\n",
        "2. This plot is informing about revenue management decisions.\n",
        "\n",
        "3. With this insights Businesses can tailor marketing campaigns and services to different segments, improving customer satisfaction and loyalty.\n",
        "\n",
        "\n",
        "But again Yes, insights gained from analyzing the relationship between 'total_stay' and 'adr' using a scatter plot could potentially lead to negative growth if misinterpreted or if certain patterns are not properly addressed like ,\n",
        "Insights from the scatter plot may reveal changing trends in customer booking behavior over time and lack of customer centric approach."
      ],
      "metadata": {
        "id": "3cspy4FjqxJW"
      }
    },
    {
      "cell_type": "markdown",
      "source": [
        "We notice that there is an outlier in adr, so we will remove that for better scatter plot"
      ],
      "metadata": {
        "id": "4_26KDLbL0SU"
      }
    },
    {
      "cell_type": "code",
      "source": [
        "\n",
        "\n",
        "df.drop(df[df['adr'] > 5000].index, inplace = True)\n",
        "plt.figure(figsize = (12,6))\n",
        "sns.scatterplot(y = 'adr', x = 'total_stay', data = df)\n",
        "plt.show()\n",
        "\n"
      ],
      "metadata": {
        "id": "cPByxoT3LV7L"
      },
      "execution_count": null,
      "outputs": []
    },
    {
      "cell_type": "markdown",
      "source": [
        "#### Chart - 2\n",
        "\n",
        "Lets first find the correlation between the numerical data.\n",
        "\n",
        "Since, columns like 'is_cancelled', 'arrival_date_year', 'arrival_date_week_number', 'arrival_date_day_of_month', 'is_repeated_guest', 'company', 'agent' are categorical data having numerical type. So we wont need to check them for correlation.\n",
        "\n",
        "Also, we have added total_stay and total_people columns. So, we can remove adults, children, babies, stays_in_weekend_nights, stays_in_week_nights columns."
      ],
      "metadata": {
        "id": "KSlN3yHqYklG"
      }
    },
    {
      "cell_type": "markdown",
      "source": [
        "##### 1. Why did you pick the specific chart?"
      ],
      "metadata": {
        "id": "t6dVpIINYklI"
      }
    },
    {
      "cell_type": "code",
      "source": [
        "# Chart -2\n",
        "#Heatmap\n",
        "\n",
        "num_df = df[['lead_time','previous_cancellations','previous_bookings_not_canceled','booking_changes','days_in_waiting_list','adr','required_car_parking_spaces','total_of_special_requests','total_stay','total_people']]\n"
      ],
      "metadata": {
        "id": "R4YgtaqtYklH"
      },
      "execution_count": null,
      "outputs": []
    },
    {
      "cell_type": "code",
      "source": [
        "#correlation matrix\n",
        "corrmat = num_df.corr()\n",
        "f, ax = plt.subplots(figsize=(12, 7))\n",
        "sns.heatmap(corrmat,annot = True,fmt='.2f', annot_kws={'size': 10},  vmax=.8, square=True);"
      ],
      "metadata": {
        "id": "MnsdO8WhHSZl"
      },
      "execution_count": null,
      "outputs": []
    },
    {
      "cell_type": "markdown",
      "source": [
        "The heatmap visualization of the correlation matrix is a popular choice for exploratory data analysis because it efficiently communicates the relationships between numerical variables, facilitating data-driven decision-making and further analysis.\n",
        "Heatmaps make it easier to identify patterns and relationships in the data and present information in a compact and visually appealing format. This makes them suitable for presentations."
      ],
      "metadata": {
        "id": "5aaW0BYyYklI"
      }
    },
    {
      "cell_type": "markdown",
      "source": [
        "##### 2. What is/are the insight(s) found from the chart?"
      ],
      "metadata": {
        "id": "ijmpgYnKYklI"
      }
    },
    {
      "cell_type": "markdown",
      "source": [
        "First thing is we examine the strength and direction of correlations between numerical variables.\n",
        "These insights provide a starting point for further analysis and decision-making, such as refining pricing strategies, improving customer segmentation, or enhancing service offerings based on observed correlations between different variables in the dataset."
      ],
      "metadata": {
        "id": "PSx9atu2YklI"
      }
    },
    {
      "cell_type": "markdown",
      "source": [
        "##### 3. Will the gained insights help creating a positive business impact?\n",
        "Are there any insights that lead to negative growth? Justify with specific reason."
      ],
      "metadata": {
        "id": "-JiQyfWJYklI"
      }
    },
    {
      "cell_type": "markdown",
      "source": [
        "\n",
        "The insights gained from the correlation heatmap can potentially contribute to positive business impacts, but they also hold the possibility of leading to negative growth if not properly interpreted or addressed.\n",
        "\n",
        " Businesses can adjust rates for longer stays accordingly, potentially increasing revenue.By identifying the relationship between booking changes and previous bookings not canceled could lead to strategies aimed at enhancing customer engagement and loyalty, potentially resulting in repeat business and positive word-of-mouth.\n",
        "\n",
        " If the misconception happens that longer lead times always warrant lower rates, customers booking last-minute might feel unfairly charged higher rates, potentially leading to dissatisfaction and loss of business.\n",
        " While the correlation between booking changes and previous bookings not canceled may suggest customer loyalty, it could also signal operational inefficiencies if the changes are due to errors or inadequate booking management systems, potentially leading to negative reviews and reduced bookings."
      ],
      "metadata": {
        "id": "BcBbebzrYklV"
      }
    },
    {
      "cell_type": "markdown",
      "source": [
        "#### Chart - 3"
      ],
      "metadata": {
        "id": "EM7whBJCYoAo"
      }
    },
    {
      "cell_type": "code",
      "source": [
        "# visualization code\n",
        "\n",
        "# Visualizing by pie chart\n",
        "hotel_df['hotel'].value_counts().plot.pie(explode=[0.05, 0.05], autopct ='%1.1f%%', shadow = True, figsize =(10,9), fontsize = 20)\n",
        "\n",
        "# Set labels\n",
        "plt.title('Pie Chart for Most Preferred Hotel', fontsize = 20)\n",
        "\n",
        "# To show\n",
        "plt.show()"
      ],
      "metadata": {
        "id": "ot6jOmM3NUoV"
      },
      "execution_count": null,
      "outputs": []
    },
    {
      "cell_type": "markdown",
      "source": [
        "##### 1. Why did you pick the specific chart?"
      ],
      "metadata": {
        "id": "fge-S5ZAYoAp"
      }
    },
    {
      "cell_type": "markdown",
      "source": [
        "A pie chart expresses a part-to-whole relationship in your data. It's easy to explain the percentage comparison through area covered in a circle with different colors. Wherever different percentage comparison comes into action, pie chart is used frequently.\n",
        " So, i have used Pie Chart and which helped us to get the percentage comparison more clearly and precisely."
      ],
      "metadata": {
        "id": "Tgz25dD_rMxG"
      }
    },
    {
      "cell_type": "markdown",
      "source": [
        "##### 2. What is/are the insight(s) found from the chart?"
      ],
      "metadata": {
        "id": "85gYPyotYoAp"
      }
    },
    {
      "cell_type": "markdown",
      "source": [
        "From the above chart, we got to know that City Hotel is most preferred hotel by the guests. Thus City Hotel has maximum bookings. 61.1% guests are preferred City Hotel, while only 38.9% guests have shown interest in Resort Hotel."
      ],
      "metadata": {
        "id": "4jstXR6OYoAp"
      }
    },
    {
      "cell_type": "markdown",
      "source": [
        "##### 3. Will the gained insights help creating a positive business impact?\n",
        "Are there any insights that lead to negative growth? Justify with specific reason."
      ],
      "metadata": {
        "id": "RoGjAbkUYoAp"
      }
    },
    {
      "cell_type": "markdown",
      "source": [
        "Are there any insights that lead to negative growth? Justify with specific reason.\n",
        "\n",
        "Yes, for both types of Hotels, this graph and data will make some positive business impacts.\n",
        "\n",
        "City Hotel are doing well so they are providing more services to attract more guests to increase more revenue. But, in case of Resort Hotel, guests have shown less interest than City Hotel. So, Resort Hotel need to find solution to attract guests and find what City Hotel have done to attract guests. So, there is an scope of tremendous growth in Resort Hotel, if they upgrade their services and adopt the path of growth and success learning from the success strategies of City Hotels and adding new ideas of themselves."
      ],
      "metadata": {
        "id": "zfJ8IqMcYoAp"
      }
    },
    {
      "cell_type": "markdown",
      "source": [
        "#### Chart - 4 :Hotel type with highest adr (Bivariate with Categorical - Numerical)"
      ],
      "metadata": {
        "id": "4Of9eVA-YrdM"
      }
    },
    {
      "cell_type": "code",
      "source": [
        "# Chart - 4 visualization code\n",
        "\n",
        "# Group by Hotel\n",
        "group_by_hotel = hotel_df.groupby('hotel')\n",
        "\n",
        "# Grouping by Hotel adr\n",
        "highest_adr = group_by_hotel['adr'].mean().reset_index()\n",
        "\n",
        "# Set plot size\n",
        "plt.figure(figsize = (10,8))\n",
        "\n",
        "# Create the figure object\n",
        "ax = sns.barplot(x= highest_adr['hotel'], y= highest_adr['adr'])\n",
        "\n",
        "# Set labels\n",
        "ax.set_xlabel(\"Hotel type\", fontsize = 20)\n",
        "ax.set_ylabel(\"ADR\", fontsize = 20)\n",
        "ax.set_xticklabels(['City Hotel', 'Resort Hotel'], fontsize = 16)\n",
        "ax.set_title('Average ADR of each Hotel type', fontsize = 20)\n",
        "\n",
        "# To show\n",
        "plt.show(ax)"
      ],
      "metadata": {
        "id": "irlUoxc8YrdO"
      },
      "execution_count": null,
      "outputs": []
    },
    {
      "cell_type": "markdown",
      "source": [
        "##### 1. Why did you pick the specific chart?"
      ],
      "metadata": {
        "id": "iky9q4vBYrdO"
      }
    },
    {
      "cell_type": "markdown",
      "source": [
        "Bar charts show the frequency counts of values for the different levels of a categorical or nominal variable. Sometimes, bar charts show other statistics such as percentages.\n",
        "\n",
        "To show the average adr of each hotel type in a clear and feasible way, i have used Bar chart here."
      ],
      "metadata": {
        "id": "aJRCwT6DYrdO"
      }
    },
    {
      "cell_type": "markdown",
      "source": [
        "##### 2. What is/are the insight(s) found from the chart?"
      ],
      "metadata": {
        "id": "F6T5p64dYrdO"
      }
    },
    {
      "cell_type": "markdown",
      "source": [
        "City hotel has the highest ADR. This means City Hotels are generating more revenues than the Resort Hotels. More the ADR, more will be the revenue."
      ],
      "metadata": {
        "id": "Xx8WAJvtYrdO"
      }
    },
    {
      "cell_type": "markdown",
      "source": [
        "##### 3. Will the gained insights help creating a positive business impact?\n",
        "Are there any insights that lead to negative growth? Justify with specific reason."
      ],
      "metadata": {
        "id": "y-Ehk30pYrdP"
      }
    },
    {
      "cell_type": "markdown",
      "source": [
        "Are there any insights that lead to negative growth? Justify with specific reason.\n",
        "\n",
        "So, City Hotel can do more advertising to get more customers that will ultimately add up to their revenue. Thus, the City Hotels are already enjoying high ADR, but a bit more of positive efforts towards growth will definitely adds a lot to their growth and overall revenue."
      ],
      "metadata": {
        "id": "jLNxxz7MYrdP"
      }
    },
    {
      "cell_type": "markdown",
      "source": [
        "#### Chart - 5 : Relationship between ADR and Total Stay (Bivariate with Numerical-Numerical)"
      ],
      "metadata": {
        "id": "bamQiAODYuh1"
      }
    },
    {
      "cell_type": "code",
      "source": [
        "# Chart - 5 visualization code\n",
        "# Groupby adr, total_stay, hotel\n",
        "adr_vs_total_stay = hotel_df.groupby(['total_stay','adr','hotel']).agg('count').reset_index()\n",
        "adr_vs_total_stay = adr_vs_total_stay.iloc[:, :3]\n",
        "adr_vs_total_stay = adr_vs_total_stay.rename(columns = {'is_canceled':'number_of_stays'})\n",
        "adr_vs_total_stay = adr_vs_total_stay[:18000]\n",
        "adr_vs_total_stay\n"
      ],
      "metadata": {
        "id": "TIJwrbroYuh3"
      },
      "execution_count": null,
      "outputs": []
    },
    {
      "cell_type": "code",
      "source": [
        "\n",
        "# Plotting the graph in line chart\n",
        "# Set plot size\n",
        "plt.figure(figsize=(12,6))\n",
        "\n",
        "# Create the figure object\n",
        "sns.lineplot(x= 'total_stay', y= 'adr', data= adr_vs_total_stay)\n",
        "\n",
        "# Set labels\n",
        "plt.xlabel('Total Stay', fontsize = 16)\n",
        "plt.ylabel('ADR', fontsize = 16)\n",
        "plt.title('Relationship between ADR and Total Stay', fontsize = 20)\n",
        "\n",
        "# To show\n",
        "plt.show()"
      ],
      "metadata": {
        "id": "kxVt-_cts4bw"
      },
      "execution_count": null,
      "outputs": []
    },
    {
      "cell_type": "markdown",
      "source": [
        "##### 1. Why did you pick the specific chart?"
      ],
      "metadata": {
        "id": "QHF8YVU7Yuh3"
      }
    },
    {
      "cell_type": "markdown",
      "source": [
        "This is a line chart and it helps to show small shifts that may be getting hard to spot in other graphs. It helps show trends for different periods. They are easy to understand. So, here we can easily track the ups and downs of the graph very precisely."
      ],
      "metadata": {
        "id": "dcxuIMRPYuh3"
      }
    },
    {
      "cell_type": "markdown",
      "source": [
        "##### 2. What is/are the insight(s) found from the chart?"
      ],
      "metadata": {
        "id": "GwzvFGzlYuh3"
      }
    },
    {
      "cell_type": "markdown",
      "source": [
        "From this line chart, we have found that as the total stay increases the ADR is also getting high. So, ADR is directly proportional to total stay."
      ],
      "metadata": {
        "id": "uyqkiB8YYuh3"
      }
    },
    {
      "cell_type": "markdown",
      "source": [
        "##### 3. Will the gained insights help creating a positive business impact?\n",
        "Are there any insights that lead to negative growth? Justify with specific reason."
      ],
      "metadata": {
        "id": "qYpmQ266Yuh3"
      }
    },
    {
      "cell_type": "markdown",
      "source": [
        "Are there any insights that lead to negative growth? Justify with specific reason.\n",
        "\n",
        "The hotels should focus on increasing their ADR and the more advertisement and better facilities and good offers will let the guests to stay more, that will directly result in increasing ADR. So, Hotels should offer more attractive offers and facilities, so that total stay can be increased that will directly multiply their ADR and ultimately revenue will increase."
      ],
      "metadata": {
        "id": "_WtzZ_hCYuh4"
      }
    },
    {
      "cell_type": "markdown",
      "source": [
        "#### Chart - 6 :Percentage of repeated guests (Univariate)"
      ],
      "metadata": {
        "id": "OH-pJp9IphqM"
      }
    },
    {
      "cell_type": "code",
      "source": [
        "# Chart - 6 visualization code\n",
        "# Visualizing by pie chart\n",
        "hotel_df['is_repeated_guest'].value_counts().plot.pie(explode=[0.05, 0.05], autopct ='%1.1f%%', shadow = True, figsize =(10,9), fontsize = 20)\n",
        "\n",
        "# Set labels\n",
        "plt.title('Percentage (%) of repeated guests', fontsize = 20)\n",
        "\n",
        "# To show\n",
        "plt.show()"
      ],
      "metadata": {
        "id": "kuRf4wtuphqN"
      },
      "execution_count": null,
      "outputs": []
    },
    {
      "cell_type": "markdown",
      "source": [
        "##### 1. Why did you pick the specific chart?"
      ],
      "metadata": {
        "id": "bbFf2-_FphqN"
      }
    },
    {
      "cell_type": "markdown",
      "source": [
        "Pie charts are used to represent the data or relative data in a single chart. The concept of pie slices is used to show the percentage of a particular data from the whole pie. Thus, i have used to show the percentage of repeated guests or not (where 0 is not repeated guest and 1 is repeated guest) through pie chart with different colored area under a circle."
      ],
      "metadata": {
        "id": "loh7H2nzphqN"
      }
    },
    {
      "cell_type": "markdown",
      "source": [
        "##### 2. What is/are the insight(s) found from the chart?"
      ],
      "metadata": {
        "id": "_ouA3fa0phqN"
      }
    },
    {
      "cell_type": "markdown",
      "source": [
        "Repeated guests are very few which is only 3.9% while 96.1% guests are not returning to the same hotel. So, it's a matter of deep thinking and taking proper steps to increase the repeated guests numbers for both type of hotels. In order to retained the guests management should take feedbacks from guests and try to improve the services."
      ],
      "metadata": {
        "id": "VECbqPI7phqN"
      }
    },
    {
      "cell_type": "markdown",
      "source": [
        "##### 3. Will the gained insights help creating a positive business impact?\n",
        "Are there any insights that lead to negative growth? Justify with specific reason."
      ],
      "metadata": {
        "id": "Seke61FWphqN"
      }
    },
    {
      "cell_type": "markdown",
      "source": [
        "Are there any insights that lead to negative growth? Justify with specific reason.\n",
        "\n",
        "Yes, the proportion of repeated guests is very much low, so if the Hotels work well in this side also, then the increase in number of repeated guests will ultimately boost their revenue. So Hotels can give alluring offers to non-repetitive customers during off seasons to enhance revenue. So, right steps should be taken like taking feedbacks, solving problems of customers within time limit and offering best offers to the customers."
      ],
      "metadata": {
        "id": "DW4_bGpfphqN"
      }
    },
    {
      "cell_type": "markdown",
      "source": [
        "#### Chart - 7 :Percentage distribution of required car parking spaces (Univariate)"
      ],
      "metadata": {
        "id": "PIIx-8_IphqN"
      }
    },
    {
      "cell_type": "code",
      "source": [
        "# Chart - 7 visualization code\n",
        "# Visualizing by pie chart\n",
        "hotel_df['required_car_parking_spaces'].value_counts().plot.pie(explode=[0.05]*5, autopct ='%1.1f%%', shadow = False, figsize =(12,8), fontsize = 20, labels = None)\n",
        "\n",
        "# Create the figure object\n",
        "labels = hotel_df['required_car_parking_spaces'].value_counts().index\n",
        "\n",
        "# Set labels\n",
        "plt.title('% Distribution of\\nrequired car parking spaces', fontsize = 20)\n",
        "plt.legend(bbox_to_anchor = (0.85, 1), loc = 'upper left', labels = labels)\n",
        "\n",
        "# To show\n",
        "plt.show()"
      ],
      "metadata": {
        "id": "lqAIGUfyphqO"
      },
      "execution_count": null,
      "outputs": []
    },
    {
      "cell_type": "markdown",
      "source": [
        "##### 1. Why did you pick the specific chart?"
      ],
      "metadata": {
        "id": "t27r6nlMphqO"
      }
    },
    {
      "cell_type": "markdown",
      "source": [
        "I have used pie chart here because it gives the output in a more understanding manner as here we can clearly see the different two colors reflecting the demand of car parking spaces by guests. So, it's a very useful chart to get proper insights as we can use other charts also but i have found it more relevent here."
      ],
      "metadata": {
        "id": "iv6ro40sphqO"
      }
    },
    {
      "cell_type": "markdown",
      "source": [
        "##### 2. What is/are the insight(s) found from the chart?"
      ],
      "metadata": {
        "id": "r2jJGEOYphqO"
      }
    },
    {
      "cell_type": "markdown",
      "source": [
        "This chart shows that 91.6% guests did not required the parking space. Only 8.3% guests required the parking space."
      ],
      "metadata": {
        "id": "Po6ZPi4hphqO"
      }
    },
    {
      "cell_type": "markdown",
      "source": [
        "##### 3. Will the gained insights help creating a positive business impact?\n",
        "Are there any insights that lead to negative growth? Justify with specific reason."
      ],
      "metadata": {
        "id": "b0JNsNcRphqO"
      }
    },
    {
      "cell_type": "markdown",
      "source": [
        "Yes, the insights gained from here definitely help the hotels to provide better services. It can be said that hotels need to work less on car parking spaces as only 1 car parking space was required by 8.3% of guests. SO, it's better to focus on other areas to increase quality of hotel rather than focusing mainly on car parking area only. The demand for car parking area is less. This might be due to the reason as many guests prefers to use public vehicles for travel."
      ],
      "metadata": {
        "id": "xvSq8iUTphqO"
      }
    },
    {
      "cell_type": "markdown",
      "source": [
        "#### Chart - 8 : Meal type Distribution (Univariate)"
      ],
      "metadata": {
        "id": "BZR9WyysphqO"
      }
    },
    {
      "cell_type": "code",
      "source": [
        "# Chart - 8 visualization code\n",
        "# Set plot size\n",
        "plt.figure(figsize=(10,6))\n",
        "\n",
        "# Create the figure object\n",
        "sns.countplot(x = hotel_df['meal'])\n",
        "\n",
        "# Set labels\n",
        "plt.xlabel('Meal Type', fontsize = 16)\n",
        "plt.ylabel('Count', fontsize = 16)\n",
        "plt.title('Preferred Meal Type', fontsize = 20)\n",
        "\n",
        "# To show\n",
        "plt.show()"
      ],
      "metadata": {
        "id": "TdPTWpAVphqO"
      },
      "execution_count": null,
      "outputs": []
    },
    {
      "cell_type": "markdown",
      "source": [
        "##### 1. Why did you pick the specific chart?"
      ],
      "metadata": {
        "id": "jj7wYXLtphqO"
      }
    },
    {
      "cell_type": "markdown",
      "source": [
        "I have used the count plot here, because it shows the counts of observations in each categorical bin using bars. Bar plots look similar to count plots. But instead of the count of observations in each category, they show the mean of a quantitative variable among observations in each category. So, to get clear insights about the counts of different types of meal, i have used this count plot."
      ],
      "metadata": {
        "id": "Ob8u6rCTphqO"
      }
    },
    {
      "cell_type": "markdown",
      "source": [
        "##### 2. What is/are the insight(s) found from the chart?"
      ],
      "metadata": {
        "id": "eZrbJ2SmphqO"
      }
    },
    {
      "cell_type": "markdown",
      "source": [
        "The insights that i have found from the above graph is that the most preferred meal type by the guests is BB (Bed and Breakfast) while HB (Half Board) and SC (Self Catering) are equally preferred. Types of meal in hotels are as follows:-\n",
        "\n",
        "BB - (Bed and Breakfast)\n",
        "\n",
        "HB - (Half Board)\n",
        "\n",
        "FB - (Full Board)\n",
        "\n",
        "SC - (Self Catering)"
      ],
      "metadata": {
        "id": "mZtgC_hjphqO"
      }
    },
    {
      "cell_type": "markdown",
      "source": [
        "##### 3. Will the gained insights help creating a positive business impact?\n",
        "Are there any insights that lead to negative growth? Justify with specific reason."
      ],
      "metadata": {
        "id": "rFu4xreNphqO"
      }
    },
    {
      "cell_type": "markdown",
      "source": [
        "So, the insights here also have positive impact as hotels need to focus more on the BB meal type so that the majority of customers are satisfied while others types of meals should be given equal importance with proper management of food services so as to offer best services to customers."
      ],
      "metadata": {
        "id": "ey_0qi68phqO"
      }
    },
    {
      "cell_type": "markdown",
      "source": [
        "#### Chart - 9  :  Bookings by Month and Optimal Stay Length in Hotels"
      ],
      "metadata": {
        "id": "YJ55k-q6phqO"
      }
    },
    {
      "cell_type": "code",
      "source": [
        "# Using groupby on arrival_date_month and taking the hotel count\n",
        "bookings_by_months_df = hotel_df.groupby(['arrival_date_month'])['hotel'].count().reset_index().rename(columns = {'hotel':'Counts'})\n",
        "\n",
        "# Creating list of months in order\n",
        "months = ['January', 'February', 'March', 'April', 'May', 'June', 'July', 'August', 'September', 'October', 'November', 'December']\n",
        "\n",
        "# Creating dataframe which will map the order of above months list without changing its values\n",
        "bookings_by_months_df['arrival_date_month'] = pd.Categorical(bookings_by_months_df['arrival_date_month'], categories = months, ordered = True)\n",
        "\n",
        "# Sorting by arrival_date_month\n",
        "bookings_by_months_df = bookings_by_months_df.sort_values('arrival_date_month')\n",
        "\n",
        "bookings_by_months_df"
      ],
      "metadata": {
        "id": "ggM6a1uz5O7q"
      },
      "execution_count": null,
      "outputs": []
    },
    {
      "cell_type": "code",
      "source": [
        "# Visualizing with the help of line plot\n",
        "\n",
        "# Set plot size\n",
        "plt.figure(figsize = (14,6))\n",
        "\n",
        "# Plotting lineplot on x- months & y- bookings counts\n",
        "sns.lineplot(x = bookings_by_months_df['arrival_date_month'], y = bookings_by_months_df['Counts'])\n",
        "\n",
        "# Set title\n",
        "plt.title('Number of bookings across each month', fontsize = 20)\n",
        "\n",
        "# Set labels\n",
        "plt.xlabel('Month', fontsize = 16)\n",
        "plt.ylabel('Number of bookings', fontsize = 16)\n",
        "\n",
        "# To show\n",
        "plt.show()"
      ],
      "metadata": {
        "id": "eA5ts-zz5Xjw"
      },
      "execution_count": null,
      "outputs": []
    },
    {
      "cell_type": "code",
      "source": [
        "# Visualizing with the help of bar plot\n",
        "\n",
        "# Using groupby function on total stay and hotel\n",
        "stay = hotel_df.groupby(['total_stay', 'hotel']).agg('count').reset_index()\n",
        "\n",
        "# Taking only first three columns\n",
        "stay = stay.iloc[:, :3]\n",
        "\n",
        "# Renaming the columns\n",
        "stay = stay.rename(columns = {'is_canceled':'Number of stays'})"
      ],
      "metadata": {
        "id": "ZxQmLx4U5esi"
      },
      "execution_count": null,
      "outputs": []
    },
    {
      "cell_type": "code",
      "source": [
        "# Set plot size\n",
        "plt.figure(figsize = (16,8))\n",
        "\n",
        "# Plotting barchart\n",
        "sns.barplot(x = 'total_stay', y = 'Number of stays', hue = 'hotel', data = stay)\n",
        "\n",
        "# Set labels\n",
        "plt.title('Optimal Stay Length in Both Hotel types', fontsize = 20)\n",
        "plt.ylabel('Count of Stays', fontsize = 16)\n",
        "plt.xlabel('Total Stays(Days)', fontsize = 16)\n",
        "\n",
        "# To show\n",
        "plt.show()"
      ],
      "metadata": {
        "id": "hPoVn53e5j1X"
      },
      "execution_count": null,
      "outputs": []
    },
    {
      "cell_type": "markdown",
      "source": [
        "##### 1. Why did you pick the specific chart?"
      ],
      "metadata": {
        "id": "gCFgpxoyphqP"
      }
    },
    {
      "cell_type": "markdown",
      "source": [
        "For 1st chart, i have picked the line chart here because it helps to show small shifts that may be getting hard to spot in other graphs. It helps show trends for different periods. They are easy to understand. So, here we can easily track the change of 'number of bookings' with respect to month.\n",
        "\n",
        "While in 2nd chart here, bar plot has been used. I have used this chart to get clear view in understanding the relation between total stay in terms of days and count of stays(means total number of customers stayed)"
      ],
      "metadata": {
        "id": "TVxDimi2phqP"
      }
    },
    {
      "cell_type": "markdown",
      "source": [
        "##### 2. What is/are the insight(s) found from the chart?"
      ],
      "metadata": {
        "id": "OVtJsKN_phqQ"
      }
    },
    {
      "cell_type": "markdown",
      "source": [
        "From this graph of 1st chart, i have found that July and August months had the most Bookings. As, July and August generally surrounds in and near the summer vacation. So, summer vacation can be the reason for the bookings.\n",
        "\n",
        "While, 2nd chart gives us different insights. So, from the above observations, we have found that the Optimal stay in both the type hotel is less than 7 days. So, after that staying numbers have declined drastically."
      ],
      "metadata": {
        "id": "ngGi97qjphqQ"
      }
    },
    {
      "cell_type": "markdown",
      "source": [
        "##### 3. Will the gained insights help creating a positive business impact?\n",
        "Are there any insights that lead to negative growth? Justify with specific reason."
      ],
      "metadata": {
        "id": "lssrdh5qphqQ"
      }
    },
    {
      "cell_type": "markdown",
      "source": [
        "Are there any insights that lead to negative growth? Justify with specific reason.\n",
        "\n",
        "Yes from the 1st chart, it is clear that this provides a good insights that hotels should be well prepared for the month of July and August as maximum bookings takes place for this month. So, better the preparation and good approach will definitely adds to the growth of Hotels.\n",
        "\n",
        "While in 2nd chart also have positive impact. Yes, from the insights gathered here, hotels can work in the domain to increase the staying length of customers to increase their revenue. The other understanding is that customers usually prefers a one week stay in a hotel. So, hotels need to work efficiently in these seven days so that customers would return to the same hotel again so this will increase the revenue."
      ],
      "metadata": {
        "id": "tBpY5ekJphqQ"
      }
    },
    {
      "cell_type": "markdown",
      "source": [
        "#### Chart - 10 : Plotting Histogram"
      ],
      "metadata": {
        "id": "U2RJ9gkRphqQ"
      }
    },
    {
      "cell_type": "code",
      "source": [
        "# Chart - 10 visualization code\n",
        "# Set the plot size\n",
        "hotel_df.hist(figsize = (23,18))\n",
        "\n",
        "# To show\n",
        "plt.show()\n"
      ],
      "metadata": {
        "id": "GM7a4YP4phqQ"
      },
      "execution_count": null,
      "outputs": []
    },
    {
      "cell_type": "markdown",
      "source": [
        "##### 1. Why did you pick the specific chart?"
      ],
      "metadata": {
        "id": "1M8mcRywphqQ"
      }
    },
    {
      "cell_type": "markdown",
      "source": [
        "To understand the data in a clear way with proper insights. I have used the histogram here. The histogram is a popular graphing tool. It is used to summarize discrete or continuous data that are measured on a interval scale. It is often used to illustrate the major features of the distribution of the data in a convenient form. It is also useful when dealing with large data sets (greater than 100 observations). It can help detect any unusual observations (outliers) or any gaps in the data. Thus, i have used the histogram plot to analysis the variable distributions over the whole dataset whether it's symmetric or not."
      ],
      "metadata": {
        "id": "8agQvks0phqQ"
      }
    },
    {
      "cell_type": "markdown",
      "source": [
        "##### 2. What is/are the insight(s) found from the chart?"
      ],
      "metadata": {
        "id": "tgIPom80phqQ"
      }
    },
    {
      "cell_type": "markdown",
      "source": [
        "Some insights found from the chart are as follows:-\n",
        "\n",
        "We can see that the maximum guest came in the year 2016.\n",
        "\n",
        "Maximum arrival week number is 30.\n",
        "\n",
        "Maximum arrival happens in the last of the month.\n",
        "\n",
        "Maximum guests comes with no children.\n",
        "\n",
        "There is very less requirement of Car parking spaces."
      ],
      "metadata": {
        "id": "Qp13pnNzphqQ"
      }
    },
    {
      "cell_type": "markdown",
      "source": [
        "##### 3. Will the gained insights help creating a positive business impact?\n",
        "Are there any insights that lead to negative growth? Justify with specific reason."
      ],
      "metadata": {
        "id": "JMzcOPDDphqR"
      }
    },
    {
      "cell_type": "markdown",
      "source": [
        "\n",
        "Just a histogram cannot define business impact. It's done just to see the distribution of the column data over the dataset."
      ],
      "metadata": {
        "id": "R4Ka1PC2phqR"
      }
    },
    {
      "cell_type": "markdown",
      "source": [
        "#### Chart - 11 :  Year and Hotel wise confirmed bookings and cancellation distribution"
      ],
      "metadata": {
        "id": "x-EpHcCOp1ci"
      }
    },
    {
      "cell_type": "code",
      "source": [
        "# Chart - 11 visualization code\n",
        "# Finding out the percentage and counts of confirmed and canceled bookings\n",
        "# Plotting a Count Plot chart using seaborn for counts of confirmed and canceled bookings\n",
        "\n",
        "# Set plot size\n",
        "plt.figure(figsize = (10,6))\n",
        "\n",
        "# Create the figure object\n",
        "sns.countplot(x = 'hotel', hue = 'is_canceled', palette = 'Set2', data = hotel_df)\n",
        "\n",
        "# Set legends\n",
        "plt.legend(['Confirmed', 'Canceled'])\n",
        "\n",
        "# Set labels\n",
        "plt.title('Hotel wise confirmation and cancelation of the bookings', fontsize = 20)\n",
        "plt.ylabel('Count of\\nconfirmation and cancelation', fontsize = 16)\n",
        "plt.xlabel('Hotel Type', fontsize = 16)\n",
        "\n",
        "# To show\n",
        "plt.show()"
      ],
      "metadata": {
        "id": "mAQTIvtqp1cj"
      },
      "execution_count": null,
      "outputs": []
    },
    {
      "cell_type": "code",
      "source": [
        "# Plotting a Pie chart using matplotlib for percentage of confirmed and canceled bookings of Resort Hotel\n",
        "resort_hotel = hotel_df.loc[(hotel_df['hotel'] == 'Resort Hotel')]\n",
        "resort_hotel_checking_cancel = resort_hotel['is_canceled'].value_counts()\n",
        "\n",
        "# Set labels\n",
        "mylabels = ['Confirmed', 'Canceled']\n",
        "\n",
        "# Set figure size\n",
        "myexplode = [0.2, 0]\n",
        "\n",
        "# Create the figure object\n",
        "resort_hotel_cancelation = plt.pie(resort_hotel_checking_cancel, labels = mylabels, explode = myexplode, autopct = '%1.1f%%')\n",
        "\n",
        "# Set title\n",
        "plt.title('Resort Hotel\\nConfirmed and Cancelation')\n",
        "\n",
        "resort_hotel_checking_cancel"
      ],
      "metadata": {
        "id": "iy36Pl8I6Vx3"
      },
      "execution_count": null,
      "outputs": []
    },
    {
      "cell_type": "code",
      "source": [
        "# Removing the canceled bookings from the data and creating a new dataframe\n",
        "data_not_canceled = hotel_df[hotel_df['is_canceled'] == 0]\n",
        "\n",
        "# Year wise Bookings of hotels\n",
        "# Set style\n",
        "sns.set_style(style = 'darkgrid')\n",
        "\n",
        "# Set plot size\n",
        "plt.figure(figsize = (12,6))\n",
        "\n",
        "# Create the figure object\n",
        "sns.countplot(x= 'arrival_date_year', hue= 'hotel', palette = 'tab10', data = data_not_canceled)\n",
        "\n",
        "# Set legends\n",
        "plt.legend(['Resort Hotel', 'City Hotel'])\n",
        "\n",
        "# Set labels\n",
        "plt.title('Year wise bookings of hotels', fontsize = 20)\n",
        "plt.ylabel('Number of bookings', fontsize = 16)\n",
        "plt.xlabel('Year', fontsize = 16)\n",
        "\n",
        "# To show\n",
        "plt.show()"
      ],
      "metadata": {
        "id": "9JxGaWTl6sCn"
      },
      "execution_count": null,
      "outputs": []
    },
    {
      "cell_type": "markdown",
      "source": [
        "##### 1. Why did you pick the specific chart?"
      ],
      "metadata": {
        "id": "X_VqEhTip1ck"
      }
    },
    {
      "cell_type": "markdown",
      "source": [
        "I have picked out the count plot and pie plot lot to get proper insights on Hotel wise cancelation and confirmation of bookings."
      ],
      "metadata": {
        "id": "-vsMzt_np1ck"
      }
    },
    {
      "cell_type": "markdown",
      "source": [
        "##### 2. What is/are the insight(s) found from the chart?"
      ],
      "metadata": {
        "id": "8zGJKyg5p1ck"
      }
    },
    {
      "cell_type": "markdown",
      "source": [
        "We can clearly deduce from the above graphs that the City hotel is having greater number of bookings as compared to Resort hotel. But, the cancelation percentage is high of the City Hotel.\n",
        "\n",
        "From the above graphs, it can be summarised that in the year 2016 both the hotel saw a massive increase in their bookings and by far the year 2016 is the year of the highest bookings of both hotel. In 2016 and 2017 the City hotel is having the highest number of bookings but in 2015 the Resort hotel is having the highest number of bookings."
      ],
      "metadata": {
        "id": "ZYdMsrqVp1ck"
      }
    },
    {
      "cell_type": "markdown",
      "source": [
        "##### 3. Will the gained insights help creating a positive business impact?\n",
        "Are there any insights that lead to negative growth? Justify with specific reason."
      ],
      "metadata": {
        "id": "PVzmfK_Ep1ck"
      }
    },
    {
      "cell_type": "markdown",
      "source": [
        "Overall the graphs show a positive outcome but the visualization of cancelation graph creates a situation of deep concern. So, here as we can see, that more than 1/4th of overall booking got canceled. So, it's a matter of deep concern. Thus, we need to look over this problem. The solution to this problem is that, we can check the reasons of cancelation of a booking & need to get this sorted out as soon as possible at the business level to stop the problems getting broader."
      ],
      "metadata": {
        "id": "druuKYZpp1ck"
      }
    },
    {
      "cell_type": "markdown",
      "source": [
        "#### Chart - 12 : ADR across different months"
      ],
      "metadata": {
        "id": "n3dbpmDWp1ck"
      }
    },
    {
      "cell_type": "code",
      "source": [
        "# Chart - 12 visualization code\n",
        "# Using groupby funtion\n",
        "bookings_by_months_df = hotel_df.groupby(['arrival_date_month', 'hotel'])['adr'].mean().reset_index()\n",
        "\n",
        "# Create month list\n",
        "months = ['January', 'February', 'March', 'April', 'May', 'June', 'July', 'August', 'September', 'October', 'November', 'December']\n",
        "\n",
        "# It will take the order of the month list in the dataframe along with values\n",
        "bookings_by_months_df['arrival_date_month'] = pd.Categorical(bookings_by_months_df['arrival_date_month'], categories = months, ordered = True)\n",
        "\n",
        "# Sorting values\n",
        "bookings_by_months_df = bookings_by_months_df.sort_values('arrival_date_month')\n",
        "\n",
        "bookings_by_months_df"
      ],
      "metadata": {
        "id": "bwevp1tKp1ck"
      },
      "execution_count": null,
      "outputs": []
    },
    {
      "cell_type": "code",
      "source": [
        "# Visualizing with the help of line plot\n",
        "\n",
        "# Set plot size\n",
        "plt.figure(figsize = (14,6))\n",
        "\n",
        "# Create the figure object and plotting the line\n",
        "sns.lineplot(x = bookings_by_months_df['arrival_date_month'], y = bookings_by_months_df['adr'], hue = bookings_by_months_df['hotel'])\n",
        "\n",
        "# Set labels\n",
        "plt.title('ADR across Each Month', fontsize = 20)\n",
        "plt.xlabel('Month', fontsize = 16)\n",
        "plt.ylabel('ADR', fontsize = 16)\n",
        "\n",
        "# To show\n",
        "plt.show()"
      ],
      "metadata": {
        "id": "4thG89xa7KcJ"
      },
      "execution_count": null,
      "outputs": []
    },
    {
      "cell_type": "markdown",
      "source": [
        "##### 1. Why did you pick the specific chart?"
      ],
      "metadata": {
        "id": "ylSl6qgtp1ck"
      }
    },
    {
      "cell_type": "markdown",
      "source": [
        "I have picked the line chart here to get the clear insights of ADR by City and Resort hotels across each month. Line chart is very useful because it helps to show small shifts that may be getting hard to spot in other graphs. It helps show trends for different periods. They are easy to understand. To compare data, more than one line can be plotted on the same axis."
      ],
      "metadata": {
        "id": "m2xqNkiQp1ck"
      }
    },
    {
      "cell_type": "markdown",
      "source": [
        "##### 2. What is/are the insight(s) found from the chart?"
      ],
      "metadata": {
        "id": "ZWILFDl5p1ck"
      }
    },
    {
      "cell_type": "markdown",
      "source": [
        "The insights found from the chart are as follows:-\n",
        "\n",
        "For Resort Hotel, ADR is high in the months of June, July, August as compared to City Hotels. The reason may be that customers/people want to spent their summer vacation in Resort Hotels.\n",
        "\n",
        "The best time for guests to visit Resort or City Hotels is January, February, March, April, October, November and December as the average daily rate in this month is very low. So, it would be feasible and sustainable."
      ],
      "metadata": {
        "id": "x-lUsV2mp1ck"
      }
    },
    {
      "cell_type": "markdown",
      "source": [
        "##### 3. Will the gained insights help creating a positive business impact?\n",
        "Are there any insights that lead to negative growth? Justify with specific reason."
      ],
      "metadata": {
        "id": "M7G43BXep1ck"
      }
    },
    {
      "cell_type": "markdown",
      "source": [
        "So, the higher the ADR, the higher will be the revenue, so its a good sign. Hotels should work more to enhance their ADR by offering good schemes to attract customers in winter vacation also and other holidays."
      ],
      "metadata": {
        "id": "5wwDJXsLp1cl"
      }
    },
    {
      "cell_type": "markdown",
      "source": [
        "#### Chart - 13 : Weekly stay distribution and Calculation of Cancelation and non-cancelation"
      ],
      "metadata": {
        "id": "Ag9LCva-p1cl"
      }
    },
    {
      "cell_type": "code",
      "source": [
        "# Chart - 13 visualization code\n",
        "# As i have already created a column 'total_stay' above i.e.\n",
        "# Adding total staying days in hotels\n",
        "hotel_df['total_stay'] = hotel_df['stays_in_weekend_nights'] + hotel_df['stays_in_week_nights']\n",
        "\n",
        "# Set the plot size\n",
        "plt.figure(figsize=(14,7))\n",
        "\n",
        "# Using a violin plot to know in which weeks, visitors stays the most\n",
        "sns.violinplot(x = 'arrival_date_week_number', y = 'total_stay', palette = 'Set2', data = hotel_df)\n",
        "\n",
        "# Set labels\n",
        "plt.title('Week wise number of stays', fontsize = 20)\n",
        "plt.ylabel('Number os stays', fontsize = 16)\n",
        "plt.xlabel('Week number', fontsize = 16)\n",
        "\n",
        "# To show\n",
        "plt.show()"
      ],
      "metadata": {
        "id": "EUfxeq9-p1cl"
      },
      "execution_count": null,
      "outputs": []
    },
    {
      "cell_type": "code",
      "source": [
        "# Visualizing with the help of pie plot\n",
        "hotel_df['is_canceled'].value_counts().plot.pie(explode = [0.05,0.05], autopct = '%1.1f%%', shadow = True, figsize = (10,8), fontsize = 20)\n",
        "\n",
        "# Set title\n",
        "plt.title('Cancelation and Non-Cancelation', fontsize = 20)\n",
        "\n",
        "# To show\n",
        "plt.show()"
      ],
      "metadata": {
        "id": "aEIMTydM7xfu"
      },
      "execution_count": null,
      "outputs": []
    },
    {
      "cell_type": "markdown",
      "source": [
        "##### 1. Why did you pick the specific chart?"
      ],
      "metadata": {
        "id": "E6MkPsBcp1cl"
      }
    },
    {
      "cell_type": "markdown",
      "source": [
        "I have used the violin plot here, to gather proper relation between number of stays and week wise number of stays and violin plots are used when one want to observe the distribution of numetic data, and are especially useful when you want to make a comparison of distributions between multiple groups. This peaks, valleys, and tails of each group's density curve can be compared to see where groups are similar or different.\n",
        "\n",
        "I have picked this pie plot as it's look very precise and clear to get the insights between two variables. As, we can see now 27.5% tickets was canceled. Here, 0 denotes not canceled and 1 denotes the canceled one. So, i have used the pie plot because it represents data visually as a fractional part of a whole, which can be an effective communication tool for the even uninformed audience. It enables the audience to see a data comparison at a glance to make an immediate analysis or to understand information quickly."
      ],
      "metadata": {
        "id": "V22bRsFWp1cl"
      }
    },
    {
      "cell_type": "markdown",
      "source": [
        "##### 2. What is/are the insight(s) found from the chart?"
      ],
      "metadata": {
        "id": "2cELzS2fp1cl"
      }
    },
    {
      "cell_type": "markdown",
      "source": [
        "From the above violin plot, we have found that from the week 28 to 31, it has shown the highest days of stay whereas from the week 1 to 11 has shown a very steady trend in the number of stays and also the week 18 to 22 has shown the least number of stays by the visitors in aggregate of all 3 years 2015, 2016 and 2017.\n",
        "\n",
        "From the graph, we have found the insights that more than 1/4th of the overall bookings i.e. approx 27.5% of the tickets was got canceled."
      ],
      "metadata": {
        "id": "ozQPc2_Ip1cl"
      }
    },
    {
      "cell_type": "markdown",
      "source": [
        "##### 3. Will the gained insights help creating a positive business impact?\n",
        "Are there any insights that lead to negative growth? Justify with specific reason."
      ],
      "metadata": {
        "id": "3MPXvC8up1cl"
      }
    },
    {
      "cell_type": "markdown",
      "source": [
        "Yes, according to the outcomes, Client can have a better plan to provide better services to the guests so that the revenue can be multiplied.\n",
        "\n",
        "So, here as we can see, that more than 27% booking got canceled. So, it's a matter of deep concern. Thus, we need to look over this problem. The solution to this problem is that, we can check the reasons of cancelation of a booking & need to get this sorted out as soon as possible at the business level to stop the problems getting broader."
      ],
      "metadata": {
        "id": "GL8l1tdLp1cl"
      }
    },
    {
      "cell_type": "markdown",
      "source": [
        "#### Chart - 14 : Room type preference and Customer types"
      ],
      "metadata": {
        "id": "NC_X3p0fY2L0"
      }
    },
    {
      "cell_type": "code",
      "source": [
        "# Correlation Heatmap visualization code\n",
        "\n",
        "\n",
        "# Set the plot size\n",
        "plt.figure(figsize = (14,6))\n",
        "\n",
        "# Create the figure object\n",
        "sns.countplot(x = hotel_df['assigned_room_type'], order = hotel_df['assigned_room_type'].value_counts().index)\n",
        "\n",
        "# Set labels\n",
        "plt.xlabel('Room Type', fontsize = 16)\n",
        "plt.ylabel('Count of Room type', fontsize = 16)\n",
        "plt.title('Most preferred Room Type', fontsize = 20)\n",
        "\n",
        "# To show\n",
        "plt.show()"
      ],
      "metadata": {
        "id": "xyC9zolEZNRQ"
      },
      "execution_count": null,
      "outputs": []
    },
    {
      "cell_type": "code",
      "source": [
        "# Using seeborn to plot a count plot chart to demonstrate the types of customer visit the most\n",
        "# Set the plot size\n",
        "plt.figure(figsize = (12,6))\n",
        "\n",
        "# Create the figure object\n",
        "sns.countplot(x = 'arrival_date_month', hue = 'customer_type', palette = 'Set2', data = hotel_df)\n",
        "\n",
        "# Set labels\n",
        "plt.xlabel('Months', fontsize = 16)\n",
        "plt.ylabel('Number of customers', fontsize = 16)\n",
        "plt.title('Types of customer arrived month wise', fontsize = 20)\n",
        "\n",
        "# To show\n",
        "plt.show()"
      ],
      "metadata": {
        "id": "esep9NNT8Zk5"
      },
      "execution_count": null,
      "outputs": []
    },
    {
      "cell_type": "markdown",
      "source": [
        "##### 1. Why did you pick the specific chart?"
      ],
      "metadata": {
        "id": "UV0SzAkaZNRQ"
      }
    },
    {
      "cell_type": "markdown",
      "source": [
        "For 1st visualization, i have picked the bar chart to display result for this set of code. Here, i have used bar graph to show distribution by volume(count of room), which type of room is alotted. Bar graph summarises the large set of data in simple visual form. It displays each category of data in the frequency distribution. It clarifies the trend of data better than the table. So, i have used the bar graph here.\n",
        "\n",
        "While 2nd visualization involves a count plot because it helps us to get clear insights with the total number of guests visited. So, i have used count plot here to know about the type of guests."
      ],
      "metadata": {
        "id": "DVPuT8LYZNRQ"
      }
    },
    {
      "cell_type": "markdown",
      "source": [
        "##### 2. What is/are the insight(s) found from the chart?"
      ],
      "metadata": {
        "id": "YPEH6qLeZNRQ"
      }
    },
    {
      "cell_type": "markdown",
      "source": [
        "From the above chart, it is found that the most preferred Room type is 'A'. So, majority of the guests have shown interest in this room type. So, overall this chart shows room type 'A' is most preferred by guests.\n",
        "\n",
        "From the 2nd graph, it can be summarised that the Transient type of customers visit the most whereas the visitors who are in group comes in the category of least visitors."
      ],
      "metadata": {
        "id": "bfSqtnDqZNRR"
      }
    },
    {
      "cell_type": "markdown",
      "source": [
        "3. Will the gained insights help creating a positive business impact?\n",
        "\n",
        "Are there any insights that lead to negative growth? Justify with specific reason.\n",
        "\n",
        "Yes, from the graph it can be seen that there are positive impacts because 'A', 'D', 'E' is more preferred by guest due to better services offered in room type. So, overall booking in a hotel matters. So, each room type belongs to each hotel so wherever customers goes, the hotel will be benefit but Hotels should also look in the factors affecting less preference in some particular room type. So, overall if other room types will also gain popularity then again hotel will be benefitted. So, ultimately hotels will encounters more bookings resulting in much more revenues.\n",
        "\n",
        "Ofcourse the better understanding regarding the different type of guests will help to take proper right steps towards services, facilities, requirements and offers which will directly result in the growth in business."
      ],
      "metadata": {
        "id": "WQX2bnWe8oOn"
      }
    },
    {
      "cell_type": "markdown",
      "source": [
        "### Chart - 14 - Correlation Heatmap"
      ],
      "metadata": {
        "id": "FGgtFDk082gj"
      }
    },
    {
      "cell_type": "code",
      "source": [
        "# Correlation Heatmap visualization code\n",
        "numeric_hotel_df = hotel_df.select_dtypes(include=[np.number])\n",
        "\n",
        "# Create the heatmap\n",
        "plt.figure(figsize=(18, 10))\n",
        "sns.heatmap(numeric_hotel_df.corr(), annot=True, fmt=\".2f\")\n",
        "plt.title(\"Co-relation of the columns\", fontsize=20)\n",
        "plt.show()\n"
      ],
      "metadata": {
        "id": "4F3AH_FR883J"
      },
      "execution_count": null,
      "outputs": []
    },
    {
      "cell_type": "markdown",
      "source": [
        "### 1. Why did you pick the specific chart?\n",
        "\n",
        "A correlation matrix is a table showing correlation coefficients between variables. Each cell in the table shows the co-relation between two variables. A correlation matrix is used to summarize data, as an input into a more advanced analysis and as a diagnostic for advanced analysis. The range of correlation is [-1,1].\n",
        "\n",
        "Thus to know the co-relation between all the variables along with the correlation coefficients, i have used correlation heatmap."
      ],
      "metadata": {
        "id": "CrQIwbJ29bjU"
      }
    },
    {
      "cell_type": "markdown",
      "source": [
        "### 2. What is/are the insight(s) found from the chart?\n",
        "The insights found from the above chart are as follows:-\n",
        "\n",
        "is_canceled and total_stay are negatively correlated. This means customers are unlikely to cancel their bookings if they don't get the same room as per reserved room. We have visualized it above.\n",
        "\n",
        "lead_time and total_stay is positively correlated. This means more the stay of customer is, more will be the lead time.\n",
        "\n",
        "adults, childrens and babies are correlated to each other. This indicates more the people, more will be ADR.\n",
        "\n",
        "is_repeated guest and previous bookings not canceled have a strong correlation. This may be due to the reason that repeated guests are not more interested to cancel their bookings.\n",
        "\n",
        "So, these are some powerful insights found from the chart of correlation heatmap."
      ],
      "metadata": {
        "id": "9e7rB8_p9iXA"
      }
    },
    {
      "cell_type": "markdown",
      "source": [
        "#### Chart - 16 - Pair Plot"
      ],
      "metadata": {
        "id": "q29F0dvdveiT"
      }
    },
    {
      "cell_type": "code",
      "source": [
        "# Pair Plot visualization code\n",
        "sns.pairplot(hotel_df, hue = 'is_repeated_guest')\n",
        "\n",
        "# To show\n",
        "plt.show()\n"
      ],
      "metadata": {
        "id": "o58-TEIhveiU"
      },
      "execution_count": null,
      "outputs": []
    },
    {
      "cell_type": "markdown",
      "source": [
        "##### 1. Why did you pick the specific chart?"
      ],
      "metadata": {
        "id": "EXh0U9oCveiU"
      }
    },
    {
      "cell_type": "markdown",
      "source": [
        "Pair plot is used to understand the best set of features to explain a relationship between two variables or to form the most separated clusters. It also helps to form some simple classification models by drawing some simple lines or make linear separation in our data-set.\n",
        "\n",
        "Thus, i have used pair plot to analyse the patterns of data and relationship between the features. It's exactly same as the correlation map but here it shows the output in the graphical representation."
      ],
      "metadata": {
        "id": "eMmPjTByveiU"
      }
    },
    {
      "cell_type": "markdown",
      "source": [
        "##### 2. What is/are the insight(s) found from the chart?"
      ],
      "metadata": {
        "id": "22aHeOlLveiV"
      }
    },
    {
      "cell_type": "markdown",
      "source": [
        "We have found the relationship of 'is_repeated_guest' with different types of columns. So, generally this chart reflects the relationship of a particular column with all other columns."
      ],
      "metadata": {
        "id": "uPQ8RGwHveiV"
      }
    },
    {
      "cell_type": "markdown",
      "source": [
        "## ***5. Hypothesis Testing***"
      ],
      "metadata": {
        "id": "g-ATYxFrGrvw"
      }
    },
    {
      "cell_type": "markdown",
      "source": [
        "### Based on your chart experiments, define three hypothetical statements from the dataset. In the next three questions, perform hypothesis testing to obtain final conclusion about the statements through your code and statistical testing."
      ],
      "metadata": {
        "id": "Yfr_Vlr8HBkt"
      }
    },
    {
      "cell_type": "markdown",
      "source": [
        "### Hypothetical Statement - 1\n",
        "### **chart 3 :Plotting Pie chart**"
      ],
      "metadata": {
        "id": "8yEUt7NnHlrM"
      }
    },
    {
      "cell_type": "markdown",
      "source": [
        "#### 1. State Your research hypothesis as a null hypothesis and alternate hypothesis."
      ],
      "metadata": {
        "id": "tEA2Xm5dHt1r"
      }
    },
    {
      "cell_type": "markdown",
      "source": [
        "Certainly! Here are the null and alternative hypotheses for testing the distribution of required car parking spaces in your hotel_df dataset (assuming the required_car_parking_spaces column holds numerical values):\n",
        "\n",
        "Null Hypothesis (H₀): The distribution of required car parking spaces follows a uniform distribution.\n",
        "\n",
        "Alternative Hypothesis (Hₐ): The distribution of required car parking spaces does not follow a uniform distribution.\n",
        "\n",
        "This null hypothesis suggests that all numbers of required parking spaces (0, 1, 2, etc.) are equally likely for guests, while the alternative hypothesis states that there's a preference for certain numbers of parking spaces, leading to a non-uniform distribution."
      ],
      "metadata": {
        "id": "HI9ZP0laH0D-"
      }
    },
    {
      "cell_type": "markdown",
      "source": [
        "#### 2. Perform an appropriate statistical test."
      ],
      "metadata": {
        "id": "I79__PHVH19G"
      }
    },
    {
      "cell_type": "code",
      "source": [
        "# Perform Statistical Test to obtain P-Value\n",
        "import pandas as pd\n",
        "from scipy import stats\n",
        "\n",
        "# Assuming 'variable_name' is the column containing your numerical data\n",
        "variable_data = hotel_df['variable_name']\n",
        "\n",
        "# Perform Shapiro-Wilk test\n",
        "statistic, p_value = stats.shapiro(variable_data)\n",
        "\n",
        "# Decision rule\n",
        "if p_value > alpha (e.g., 0.05):  # Fail to reject H₀ (data may be normally distributed)\n",
        "    print(\"We fail to reject the null hypothesis. There is not enough evidence to conclude that the data is not normally distributed.\")\n",
        "else:  # Reject H₀ (data likely not normally distributed)\n",
        "    print(\"We reject the null hypothesis. The data is likely not normally distributed.\")\n"
      ],
      "metadata": {
        "id": "oZrfquKtyian"
      },
      "execution_count": null,
      "outputs": []
    },
    {
      "cell_type": "markdown",
      "source": [
        "##### Which statistical test have you done to obtain P-Value?"
      ],
      "metadata": {
        "id": "Ou-I18pAyIpj"
      }
    },
    {
      "cell_type": "markdown",
      "source": [
        "The code you provided performs the Shapiro-Wilk test, which is a statistical test used to assess whether a sample comes from a normally distributed population. It outputs a test statistic and a p-value.\n",
        "\n",
        "Here's a breakdown of the test:\n",
        "\n",
        "Null Hypothesis (H₀): The data is normally distributed.\n",
        "Alternative Hypothesis (Hₐ): The data is not normally distributed.\n",
        "The p-value obtained from the Shapiro-Wilk test tells you the probability of observing a test statistic as extreme or more extreme than the one you calculated, assuming the null hypothesis (normality) is true.\n",
        "\n",
        "Decision Rule:\n",
        "\n",
        "p-value > α (significance level, e.g., 0.05): You fail to reject H₀.\n",
        "There's not enough evidence to conclude that the data is not normally distributed.\n",
        "p-value <= α: You reject H₀.\n",
        "The data is likely not normally distributed.\n",
        "This test is helpful when you need to determine if your data can be analyzed using statistical methods that assume normality (e.g., t-tests, ANOVA).\n",
        "\n",
        "If the data is not normally distributed, you might need to consider alternative methods or transformations."
      ],
      "metadata": {
        "id": "s2U0kk00ygSB"
      }
    },
    {
      "cell_type": "markdown",
      "source": [
        "##### Why did you choose the specific statistical test?"
      ],
      "metadata": {
        "id": "fF3858GYyt-u"
      }
    },
    {
      "cell_type": "markdown",
      "source": [
        "The Shapiro-Wilk test was chosen in the provided code for a few reasons, making it a good initial test for normality in many cases:\n",
        "\n",
        "1.Versatility: The Shapiro-Wilk test is a relatively powerful test for normality that works well for a wide range of sample sizes, both small and large. This makes it a versatile choice when you're not sure about your sample size beforehand.\n",
        "\n",
        "2.Ease of Use: The Shapiro-Wilk test is relatively easy to implement in many statistical software packages, including Python's scipy.stats library used in the code example. This makes it an accessible option for many users.\n",
        "\n",
        "3.Reasonably Robust: Compared to some other normality tests, the Shapiro-Wilk test is fairly robust to departures from normality, meaning it can still provide a good indication even if your data isn't perfectly normal. However, it's important to be aware that severe deviations from normality can affect its accuracy.\n",
        "\n",
        "4.Alternative Tests: Depending on your specific situation, other normality tests might be better suited. For example, the Kolmogorov-Smirnov test is a non-parametric test that doesn't assume any specific distribution shape. However, it can be less powerful than the Shapiro-Wilk test for smaller samples.\n",
        "\n",
        "5.Visualization: While the Shapiro-Wilk test provides a statistical test, it's always a good practice to visualize your data using tools like histograms and Q-Q plots. These visualizations can help you gain a better understanding of the shape of your data and potential departures from normality.\n",
        "Overall, the Shapiro-Wilk test is a solid choice as a starting point for assessing normality, but it's important to consider other factors and potentially use additional methods for a more comprehensive analysis."
      ],
      "metadata": {
        "id": "HO4K0gP5y3B4"
      }
    },
    {
      "cell_type": "markdown",
      "source": [
        "### Hypothetical Statement - 2\n",
        "\n",
        "### **Chart - 4 : Group by Hotel**"
      ],
      "metadata": {
        "id": "4_0_7-oCpUZd"
      }
    },
    {
      "cell_type": "markdown",
      "source": [
        "#### 1. State Your research hypothesis as a null hypothesis and alternate hypothesis."
      ],
      "metadata": {
        "id": "hwyV_J3ipUZe"
      }
    },
    {
      "cell_type": "markdown",
      "source": [
        "ased on the provided code snippet visualizing the average daily rate (ADR) for different hotel types (\"City Hotel\" and \"Resort Hotel\"), here are two possible sets of null and alternative hypotheses to consider:\n",
        "\n",
        "1: Comparing Means\n",
        "\n",
        "Null Hypothesis (H₀): The average daily rates (ADR) for city hotels and resort hotels are equal.\n",
        "Alternative Hypothesis (Hₐ): The average daily rates (ADR) for city hotels and resort hotels are not equal. (This could be one-sided, specifying which type is expected to have a higher ADR, or two-sided, leaving the direction open.)\n",
        "This option focuses on whether there's a statistically significant difference in the mean ADR between the two hotel types.\n",
        "\n",
        "2: Comparing Distributions\n",
        "\n",
        "Null Hypothesis (H₀): The distributions of ADR for city hotels and resort hotels are identical.\n",
        "Alternative Hypothesis (Hₐ): The distributions of ADR for city hotels and resort hotels are not identical.\n",
        "This option investigates whether the ADRs for each hotel type have the same shape and spread beyond just the average values."
      ],
      "metadata": {
        "id": "FnpLGJ-4pUZe"
      }
    },
    {
      "cell_type": "markdown",
      "source": [
        "#### 2. Perform an appropriate statistical test."
      ],
      "metadata": {
        "id": "3yB-zSqbpUZe"
      }
    },
    {
      "cell_type": "code",
      "source": [
        "# Perform Statistical Test to obtain P-Value\n",
        "import pandas as pd\n",
        "from scipy import stats\n",
        "# Group by Hotel and calculate mean ADR for each type\n",
        "group_by_hotel = hotel_df.groupby('hotel')\n",
        "hotel_adr_means = group_by_hotel['adr'].mean().reset_index()\n",
        "# Extract ADR values for each hotel type into separate lists\n",
        "city_adr = hotel_adr_means[hotel_adr_means['hotel'] == 'City Hotel']['adr'].tolist()\n",
        "resort_adr = hotel_adr_means[hotel_adr_means['hotel'] == 'Resort Hotel']['adr'].tolist()\n"
      ],
      "metadata": {
        "id": "sWxdNTXNpUZe"
      },
      "execution_count": null,
      "outputs": []
    },
    {
      "cell_type": "code",
      "source": [
        "# Perform t-test for independent samples with equal variances\n",
        "statistic, p_value = stats.ttest_ind(city_adr, resort_adr, equal_var=True)\n",
        "# Decision rule (assuming significance level α = 0.05)\n",
        "if p_value > 0.05:\n",
        "    print(\"We fail to reject the null hypothesis. There is not enough evidence to conclude that the average ADRs for city and resort hotels are different.\")\n",
        "else:\n",
        "    print(\"We reject the null hypothesis. There is a statistically significant difference between the average ADRs for city and resort hotels.\")"
      ],
      "metadata": {
        "id": "65Z9zPCbGcQd"
      },
      "execution_count": null,
      "outputs": []
    },
    {
      "cell_type": "markdown",
      "source": [
        "##### Which statistical test have you done to obtain P-Value?"
      ],
      "metadata": {
        "id": "dEUvejAfpUZe"
      }
    },
    {
      "cell_type": "markdown",
      "source": [
        "The statistical test used to obtain the p-value in the context of comparing average daily rates (ADR) between city and resort hotels is a t-test. Specifically, it's a two-sample independent t-test assuming equal variances.\n",
        "\n",
        "Purpose: The t-test is used to compare the means of two independent groups. In this case, the groups are city hotels and resort hotels, and we're interested in whether their average ADRs differ significantly.\n",
        "\n",
        "The t-test assumes:\n",
        "Normality of data within each group (consider normality tests if unsure)\n",
        "Independence of observations (ADR values in each group are not related)\n",
        "Equal variances in both groups (the equal_var=True argument was used in the code)\n",
        "\n",
        "Output: The t-test provides two key values:\n",
        "\n",
        "1.Test statistic: This measures the observed difference between the means relative to the pooled standard deviation.\n",
        "2.P-value: This is the probability of observing a test statistic as extreme or more extreme than the calculated one, assuming the null hypothesis (equal means) is true.\n",
        "\n",
        "Interpretation:\n",
        "1.Low p-value (less than significance level): This suggests strong evidence to reject the null hypothesis. There's a statistically significant difference between the average ADRs for the two hotel types.\n",
        "2.High p-value (greater than significance level): You fail to reject the null hypothesis. There's not enough evidence to conclude that the average ADRs differ significantly."
      ],
      "metadata": {
        "id": "oLDrPz7HpUZf"
      }
    },
    {
      "cell_type": "markdown",
      "source": [
        "##### Why did you choose the specific statistical test?"
      ],
      "metadata": {
        "id": "Fd15vwWVpUZf"
      }
    },
    {
      "cell_type": "markdown",
      "source": [
        "The specific statistical test chosen in this case - a two-sample independent t-test assuming equal variances - was selected for a few reasons:\n",
        "\n",
        "1.Comparing Means: We're primarily interested in whether the average daily rates (ADR) for city and resort hotels are statistically different. The t-test is specifically designed to compare the means of two independent groups.\n",
        "\n",
        "2.Independent Samples: The ADR data for city and resort hotels is assumed to be independent. The t-test is suitable for comparing independent groups where observations within each group don't influence each other.\n",
        "\n",
        "3.Normality Assumption (if applicable):  The t-test usually performs well when data within each group (city and resort hotels) is normally distributed. While normality tests weren't explicitly shown in the code example, it's good practice to check this assumption for t-tests. If the data isn't normal, consider alternative non-parametric tests like the Mann-Whitney U test.\n",
        "\n",
        "4.Equal Variances (if applicable): The code snippet used equal_var=True in the t-test function. This assumes that the variances (spread) of ADR values within each hotel type are similar. If you suspect unequal variances, you can either transform the data or use a version of the t-test that doesn't assume equal variances (equal_var=False).\n",
        "\n",
        "Overall, the two-sample independent t-test with the assumption of equal variances is a good choice because:\n",
        "\n",
        "* It directly addresses the question of comparing means between two independent groups.\n",
        "* It's a commonly used and well-understood test.\n",
        "* It has reasonable assumptions (normality and equal variances) that can be assessed with additional tests if needed.\n",
        "\n",
        "However, it's important to consider the limitations of the test and choose alternative approaches if the assumptions aren't met or if you're interested in comparing the entire distributions rather than just the means."
      ],
      "metadata": {
        "id": "4xOGYyiBpUZf"
      }
    },
    {
      "cell_type": "markdown",
      "source": [
        "### Hypothetical Statement - 3\n",
        "### **Chart - 6 :Percentage of repeated guests (Univariate)**"
      ],
      "metadata": {
        "id": "bn_IUdTipZyH"
      }
    },
    {
      "cell_type": "markdown",
      "source": [
        "#### 1. State Your research hypothesis as a null hypothesis and alternate hypothesis."
      ],
      "metadata": {
        "id": "49K5P_iCpZyH"
      }
    },
    {
      "cell_type": "markdown",
      "source": [
        "Based on the provided code snippet creating a pie chart for the distribution of repeated guests (presumably with values of True and False in the is_repeated_guest column), here are two possible sets of null and alternative hypotheses:\n",
        "\n",
        "Option 1: Proportion of Repeated Guests\n",
        "\n",
        "Null Hypothesis (H₀): The proportion of repeated guests (True values) in the data is equal to 50%.\n",
        "Alternative Hypothesis (Hₐ): The proportion of repeated guests (True values) in the data is not equal to 50%.\n",
        "This option specifically focuses on whether the percentage of repeated guests is exactly half (50%) or deviates from that value.\n",
        "\n",
        "Option 2: Comparison with a Threshold\n",
        "\n",
        "Null Hypothesis (H₀): The proportion of repeated guests (True values) in the data is less than or equal to a specific threshold (e.g., 40%).\n",
        "Alternative Hypothesis (Hₐ): The proportion of repeated guests (True values) in the data is greater than the specific threshold (e.g., 40%).\n",
        "This option allows you to test against a pre-defined threshold that might be considered \"good\" or \"bad\" for customer retention. You can adjust the threshold value based on your business needs."
      ],
      "metadata": {
        "id": "7gWI5rT9pZyH"
      }
    },
    {
      "cell_type": "markdown",
      "source": [
        "#### 2. Perform an appropriate statistical test."
      ],
      "metadata": {
        "id": "Nff-vKELpZyI"
      }
    },
    {
      "cell_type": "code",
      "source": [
        "# Perform Statistical Test to obtain P-Value\n",
        "from scipy import stats\n",
        "# Count the number of repeated guests (True values)\n",
        "repeated_guests = hotel_df[hotel_df['is_repeated_guest'] == True].shape[0]\n",
        "\n",
        "# Total number of guests\n",
        "total_guests = hotel_df.shape[0]\n",
        "\n",
        "# Proportion of repeated guests\n",
        "p_hat = repeated_guests / total_guests\n",
        "# Perform normal approximation test with continuity correction\n",
        "statistic, p_value = stats.norm.cdf(p_hat - 0.5 / total_guests, loc=p_hat, scale=np.sqrt(p_hat * (1 - p_hat) / total_guests))\n",
        "\n",
        "# Decision rule (assuming significance level α = 0.05)\n",
        "if p_value > 0.05:\n",
        "    print(\"We fail to reject the null hypothesis. There is not enough evidence to conclude that the proportion of repeated guests is different from 50%.\")\n",
        "else:\n",
        "    print(\"We reject the null hypothesis. There is a statistically significant difference from the expected 50% proportion of repeated guests.\")\n"
      ],
      "metadata": {
        "id": "s6AnJQjtpZyI"
      },
      "execution_count": null,
      "outputs": []
    },
    {
      "cell_type": "markdown",
      "source": [
        "##### Which statistical test have you done to obtain P-Value?"
      ],
      "metadata": {
        "id": "kLW572S8pZyI"
      }
    },
    {
      "cell_type": "markdown",
      "source": [
        "The statistical test used to obtain the p-value in the context of analyzing repeated guest data depends on the specific hypothesis you choose. Here are the two possibilities based on the code snippet and explanations provided earlier:\n",
        "\n",
        "Option 1: Proportion of Repeated Guests (H₀: p = 0.5):\n",
        "\n",
        "Test: Normal approximation test with continuity correction\n",
        "This test is used when you want to assess whether the proportion of repeated guests (True values in is_repeated_guest) deviates from a hypothesized value of 50% (null hypothesis). It assumes a binomial distribution for the data (repeated vs. non-repeated guests) and approximates it with a normal distribution for hypothesis testing due to potential limitations with small sample sizes.\n",
        "\n",
        "Option 2: Comparison with a Threshold (H₀: p <= threshold):\n",
        "\n",
        "Test: One-tailed binomial test\n",
        "This test is used when you have a specific threshold in mind for the proportion of repeated guests (e.g., H₀: proportion <= 40%). It directly works with the binomial distribution, allowing you to specify the threshold value in the null hypothesis and test if the observed proportion is greater than that threshold (one-tailed test)."
      ],
      "metadata": {
        "id": "ytWJ8v15pZyI"
      }
    },
    {
      "cell_type": "markdown",
      "source": [
        "##### Why did you choose the specific statistical test?"
      ],
      "metadata": {
        "id": "dWbDXHzopZyI"
      }
    },
    {
      "cell_type": "markdown",
      "source": [
        "The specific statistical test chosen depends on the hypothesis you want to test regarding the proportion of repeated guests in your data. Here's a breakdown of the rationale behind the two options:\n",
        "\n",
        "Option 1: Normal Approximation Test with Continuity Correction (H₀: p = 0.5):\n",
        "\n",
        "We chose this test for the following reasons:\n",
        "\n",
        "Testing Against 50%: The null hypothesis specifically states that the proportion of repeated guests is exactly 50%. The normal approximation test is suitable for this scenario because it allows us to assess how likely it is to observe the obtained proportion (p_hat) if the true proportion were actually 50%.\n",
        "Binomial Data Approximation: The data likely follows a binomial distribution, with two categories (repeated vs. non-repeated guests). The normal approximation test works well when the sample size is large enough. It uses the observed proportion (p_hat) and calculates a p-value assuming a normal distribution that approximates the binomial distribution for this test.\n",
        "Continuity Correction: Since the normal approximation might not be perfect for small samples, the continuity correction is applied. This adjusts the test statistic slightly to account for the discreteness of the binomial distribution.\n",
        "Option 2: One-Tailed Binomial Test (H₀: p <= threshold):\n",
        "\n",
        "This test is a good choice if you have a specific threshold in mind:\n",
        "\n",
        "Predefined Threshold: The null hypothesis focuses on a comparison with a specific value (e.g., proportion of repeated guests is less than or equal to 40%). The one-tailed binomial test allows you to directly incorporate this threshold into the test.\n",
        "Direct Binomial Analysis: This test works directly with the binomial distribution, eliminating the need for an approximation like the normal test in Option 1. It assesses the probability of observing the obtained proportion (p_hat) or a higher proportion, assuming the true proportion is less than or equal to the threshold value (null hypothesis)."
      ],
      "metadata": {
        "id": "M99G98V6pZyI"
      }
    },
    {
      "cell_type": "markdown",
      "source": [
        "## ***6. Feature Engineering & Data Pre-processing***"
      ],
      "metadata": {
        "id": "yLjJCtPM0KBk"
      }
    },
    {
      "cell_type": "markdown",
      "source": [
        "### 1. Handling Missing Values"
      ],
      "metadata": {
        "id": "xiyOF9F70UgQ"
      }
    },
    {
      "cell_type": "code",
      "source": [
        "# Handling Missing Values & Missing Value Imputation\n",
        "# Check for missing values\n",
        "print(hotel_df.isnull().sum())\n",
        "\n",
        "# Visualize missing values with heatmap (optional)\n",
        "import matplotlib.pyplot as plt\n",
        "\n",
        "missing_values = hotel_df.isnull().sum()\n",
        "missing_values.plot(kind='bar')\n",
        "plt.show()\n"
      ],
      "metadata": {
        "id": "iRsAHk1K0fpS"
      },
      "execution_count": null,
      "outputs": []
    },
    {
      "cell_type": "markdown",
      "source": [
        "#### What all missing value imputation techniques have you used and why did you use those techniques?"
      ],
      "metadata": {
        "id": "7wuGOrhz0itI"
      }
    },
    {
      "cell_type": "markdown",
      "source": [
        "1.Deletion: This involves simply removing rows or columns with missing values.\n",
        "\n",
        "2.Mean/Median/Mode Imputation: These techniques replace missing values with the mean, median, or most frequent value of the feature, respectively.\n",
        "\n",
        "3.K-Nearest Neighbors (KNN) Imputation: This method uses the values of the k nearest neighbors (data points most similar to the one with a missing value) to estimate the missing value.\n",
        "\n",
        "4.Model-based Imputation: This technique involves training a separate model (e.g., linear regression) to predict the missing values based on other features in the data.\n",
        "\n",
        "The choice depends on several factors:\n",
        "a.Amount of Missing Data: Deletion might be acceptable for a small percentage, but imputation becomes more important with a larger proportion.\n",
        "\n",
        "b.Data Distribution:\n",
        "*.Mean/Median/Mode imputation work well for normally distributed data.\n",
        "*.KNN imputation is better for skewed data or capturing relationships within the data.\n",
        "\n",
        "c.Missing Value Pattern:\n",
        "*.Random missingness: Any technique might work.\n",
        "*.Systematic missingness (e.g., only for a specific customer segment): Deletion might be less suitable; consider model-based imputation if the pattern can be explained by other features."
      ],
      "metadata": {
        "id": "1ixusLtI0pqI"
      }
    },
    {
      "cell_type": "markdown",
      "source": [
        "### 2. Handling Outliers"
      ],
      "metadata": {
        "id": "id1riN9m0vUs"
      }
    },
    {
      "cell_type": "code",
      "source": [
        "# Handling Outliers & Outlier treatments"
      ],
      "metadata": {
        "id": "M6w2CzZf04JK"
      },
      "execution_count": null,
      "outputs": []
    },
    {
      "cell_type": "markdown",
      "source": [
        "##### What all outlier treatment techniques have you used and why did you use those techniques?"
      ],
      "metadata": {
        "id": "578E2V7j08f6"
      }
    },
    {
      "cell_type": "markdown",
      "source": [
        "Answer Here."
      ],
      "metadata": {
        "id": "uGZz5OrT1HH-"
      }
    },
    {
      "cell_type": "markdown",
      "source": [
        "### 3. Categorical Encoding"
      ],
      "metadata": {
        "id": "89xtkJwZ18nB"
      }
    },
    {
      "cell_type": "code",
      "source": [
        "# Encode your categorical columns"
      ],
      "metadata": {
        "id": "21JmIYMG2hEo"
      },
      "execution_count": null,
      "outputs": []
    },
    {
      "cell_type": "markdown",
      "source": [
        "#### What all categorical encoding techniques have you used & why did you use those techniques?"
      ],
      "metadata": {
        "id": "67NQN5KX2AMe"
      }
    },
    {
      "cell_type": "markdown",
      "source": [
        "Answer Here."
      ],
      "metadata": {
        "id": "UDaue5h32n_G"
      }
    },
    {
      "cell_type": "markdown",
      "source": [
        "### 4. Textual Data Preprocessing\n",
        "(It's mandatory for textual dataset i.e., NLP, Sentiment Analysis, Text Clustering etc.)"
      ],
      "metadata": {
        "id": "Iwf50b-R2tYG"
      }
    },
    {
      "cell_type": "markdown",
      "source": [
        "#### 1. Expand Contraction"
      ],
      "metadata": {
        "id": "GMQiZwjn3iu7"
      }
    },
    {
      "cell_type": "code",
      "source": [
        "# Expand Contraction"
      ],
      "metadata": {
        "id": "PTouz10C3oNN"
      },
      "execution_count": null,
      "outputs": []
    },
    {
      "cell_type": "markdown",
      "source": [
        "#### 2. Lower Casing"
      ],
      "metadata": {
        "id": "WVIkgGqN3qsr"
      }
    },
    {
      "cell_type": "code",
      "source": [
        "# Lower Casing"
      ],
      "metadata": {
        "id": "88JnJ1jN3w7j"
      },
      "execution_count": null,
      "outputs": []
    },
    {
      "cell_type": "markdown",
      "source": [
        "#### 3. Removing Punctuations"
      ],
      "metadata": {
        "id": "XkPnILGE3zoT"
      }
    },
    {
      "cell_type": "code",
      "source": [
        "# Remove Punctuations"
      ],
      "metadata": {
        "id": "vqbBqNaA33c0"
      },
      "execution_count": null,
      "outputs": []
    },
    {
      "cell_type": "markdown",
      "source": [
        "#### 4. Removing URLs & Removing words and digits contain digits."
      ],
      "metadata": {
        "id": "Hlsf0x5436Go"
      }
    },
    {
      "cell_type": "code",
      "source": [
        "# Remove URLs & Remove words and digits contain digits"
      ],
      "metadata": {
        "id": "2sxKgKxu4Ip3"
      },
      "execution_count": null,
      "outputs": []
    },
    {
      "cell_type": "markdown",
      "source": [
        "#### 5. Removing Stopwords & Removing White spaces"
      ],
      "metadata": {
        "id": "mT9DMSJo4nBL"
      }
    },
    {
      "cell_type": "code",
      "source": [
        "# Remove Stopwords"
      ],
      "metadata": {
        "id": "T2LSJh154s8W"
      },
      "execution_count": null,
      "outputs": []
    },
    {
      "cell_type": "code",
      "source": [
        "# Remove White spaces"
      ],
      "metadata": {
        "id": "EgLJGffy4vm0"
      },
      "execution_count": null,
      "outputs": []
    },
    {
      "cell_type": "markdown",
      "source": [
        "#### 6. Rephrase Text"
      ],
      "metadata": {
        "id": "c49ITxTc407N"
      }
    },
    {
      "cell_type": "code",
      "source": [
        "# Rephrase Text"
      ],
      "metadata": {
        "id": "foqY80Qu48N2"
      },
      "execution_count": null,
      "outputs": []
    },
    {
      "cell_type": "markdown",
      "source": [
        "#### 7. Tokenization"
      ],
      "metadata": {
        "id": "OeJFEK0N496M"
      }
    },
    {
      "cell_type": "code",
      "source": [
        "# Tokenization"
      ],
      "metadata": {
        "id": "ijx1rUOS5CUU"
      },
      "execution_count": null,
      "outputs": []
    },
    {
      "cell_type": "markdown",
      "source": [
        "#### 8. Text Normalization"
      ],
      "metadata": {
        "id": "9ExmJH0g5HBk"
      }
    },
    {
      "cell_type": "code",
      "source": [
        "# Normalizing Text (i.e., Stemming, Lemmatization etc.)"
      ],
      "metadata": {
        "id": "AIJ1a-Zc5PY8"
      },
      "execution_count": null,
      "outputs": []
    },
    {
      "cell_type": "markdown",
      "source": [
        "##### Which text normalization technique have you used and why?"
      ],
      "metadata": {
        "id": "cJNqERVU536h"
      }
    },
    {
      "cell_type": "markdown",
      "source": [
        "Answer Here."
      ],
      "metadata": {
        "id": "Z9jKVxE06BC1"
      }
    },
    {
      "cell_type": "markdown",
      "source": [
        "#### 9. Part of speech tagging"
      ],
      "metadata": {
        "id": "k5UmGsbsOxih"
      }
    },
    {
      "cell_type": "code",
      "source": [
        "# POS Taging"
      ],
      "metadata": {
        "id": "btT3ZJBAO6Ik"
      },
      "execution_count": null,
      "outputs": []
    },
    {
      "cell_type": "markdown",
      "source": [
        "#### 10. Text Vectorization"
      ],
      "metadata": {
        "id": "T0VqWOYE6DLQ"
      }
    },
    {
      "cell_type": "code",
      "source": [
        "# Vectorizing Text"
      ],
      "metadata": {
        "id": "yBRtdhth6JDE"
      },
      "execution_count": null,
      "outputs": []
    },
    {
      "cell_type": "markdown",
      "source": [
        "##### Which text vectorization technique have you used and why?"
      ],
      "metadata": {
        "id": "qBMux9mC6MCf"
      }
    },
    {
      "cell_type": "markdown",
      "source": [
        "Answer Here."
      ],
      "metadata": {
        "id": "su2EnbCh6UKQ"
      }
    },
    {
      "cell_type": "markdown",
      "source": [
        "### 4. Feature Manipulation & Selection"
      ],
      "metadata": {
        "id": "-oLEiFgy-5Pf"
      }
    },
    {
      "cell_type": "markdown",
      "source": [
        "#### 1. Feature Manipulation"
      ],
      "metadata": {
        "id": "C74aWNz2AliB"
      }
    },
    {
      "cell_type": "code",
      "source": [
        "# Manipulate Features to minimize feature correlation and create new features"
      ],
      "metadata": {
        "id": "h1qC4yhBApWC"
      },
      "execution_count": null,
      "outputs": []
    },
    {
      "cell_type": "markdown",
      "source": [
        "#### 2. Feature Selection"
      ],
      "metadata": {
        "id": "2DejudWSA-a0"
      }
    },
    {
      "cell_type": "code",
      "source": [
        "# Select your features wisely to avoid overfitting"
      ],
      "metadata": {
        "id": "YLhe8UmaBCEE"
      },
      "execution_count": null,
      "outputs": []
    },
    {
      "cell_type": "markdown",
      "source": [
        "##### What all feature selection methods have you used  and why?"
      ],
      "metadata": {
        "id": "pEMng2IbBLp7"
      }
    },
    {
      "cell_type": "markdown",
      "source": [
        "Answer Here."
      ],
      "metadata": {
        "id": "rb2Lh6Z8BgGs"
      }
    },
    {
      "cell_type": "markdown",
      "source": [
        "##### Which all features you found important and why?"
      ],
      "metadata": {
        "id": "rAdphbQ9Bhjc"
      }
    },
    {
      "cell_type": "markdown",
      "source": [
        "Answer Here."
      ],
      "metadata": {
        "id": "fGgaEstsBnaf"
      }
    },
    {
      "cell_type": "markdown",
      "source": [
        "### 5. Data Transformation"
      ],
      "metadata": {
        "id": "TNVZ9zx19K6k"
      }
    },
    {
      "cell_type": "markdown",
      "source": [
        "#### Do you think that your data needs to be transformed? If yes, which transformation have you used. Explain Why?"
      ],
      "metadata": {
        "id": "nqoHp30x9hH9"
      }
    },
    {
      "cell_type": "code",
      "source": [
        "# Transform Your data"
      ],
      "metadata": {
        "id": "I6quWQ1T9rtH"
      },
      "execution_count": null,
      "outputs": []
    },
    {
      "cell_type": "markdown",
      "source": [
        "### 6. Data Scaling"
      ],
      "metadata": {
        "id": "rMDnDkt2B6du"
      }
    },
    {
      "cell_type": "code",
      "source": [
        "# Scaling your data"
      ],
      "metadata": {
        "id": "dL9LWpySC6x_"
      },
      "execution_count": null,
      "outputs": []
    },
    {
      "cell_type": "markdown",
      "source": [
        "##### Which method have you used to scale you data and why?"
      ],
      "metadata": {
        "id": "yiiVWRdJDDil"
      }
    },
    {
      "cell_type": "markdown",
      "source": [
        "### 7. Dimesionality Reduction"
      ],
      "metadata": {
        "id": "1UUpS68QDMuG"
      }
    },
    {
      "cell_type": "markdown",
      "source": [
        "##### Do you think that dimensionality reduction is needed? Explain Why?"
      ],
      "metadata": {
        "id": "kexQrXU-DjzY"
      }
    },
    {
      "cell_type": "markdown",
      "source": [
        "Answer Here."
      ],
      "metadata": {
        "id": "GGRlBsSGDtTQ"
      }
    },
    {
      "cell_type": "code",
      "source": [
        "# DImensionality Reduction (If needed)"
      ],
      "metadata": {
        "id": "kQfvxBBHDvCa"
      },
      "execution_count": null,
      "outputs": []
    },
    {
      "cell_type": "markdown",
      "source": [
        "##### Which dimensionality reduction technique have you used and why? (If dimensionality reduction done on dataset.)"
      ],
      "metadata": {
        "id": "T5CmagL3EC8N"
      }
    },
    {
      "cell_type": "markdown",
      "source": [
        "Answer Here."
      ],
      "metadata": {
        "id": "ZKr75IDuEM7t"
      }
    },
    {
      "cell_type": "markdown",
      "source": [
        "### 8. Data Splitting"
      ],
      "metadata": {
        "id": "BhH2vgX9EjGr"
      }
    },
    {
      "cell_type": "code",
      "source": [
        "# Split your data to train and test. Choose Splitting ratio wisely."
      ],
      "metadata": {
        "id": "0CTyd2UwEyNM"
      },
      "execution_count": null,
      "outputs": []
    },
    {
      "cell_type": "markdown",
      "source": [
        "##### What data splitting ratio have you used and why?"
      ],
      "metadata": {
        "id": "qjKvONjwE8ra"
      }
    },
    {
      "cell_type": "markdown",
      "source": [
        "Answer Here."
      ],
      "metadata": {
        "id": "Y2lJ8cobFDb_"
      }
    },
    {
      "cell_type": "markdown",
      "source": [
        "### 9. Handling Imbalanced Dataset"
      ],
      "metadata": {
        "id": "P1XJ9OREExlT"
      }
    },
    {
      "cell_type": "markdown",
      "source": [
        "##### Do you think the dataset is imbalanced? Explain Why."
      ],
      "metadata": {
        "id": "VFOzZv6IFROw"
      }
    },
    {
      "cell_type": "markdown",
      "source": [
        "Answer Here."
      ],
      "metadata": {
        "id": "GeKDIv7pFgcC"
      }
    },
    {
      "cell_type": "code",
      "source": [
        "# Handling Imbalanced Dataset (If needed)"
      ],
      "metadata": {
        "id": "nQsRhhZLFiDs"
      },
      "execution_count": null,
      "outputs": []
    },
    {
      "cell_type": "markdown",
      "source": [
        "##### What technique did you use to handle the imbalance dataset and why? (If needed to be balanced)"
      ],
      "metadata": {
        "id": "TIqpNgepFxVj"
      }
    },
    {
      "cell_type": "markdown",
      "source": [
        "Answer Here."
      ],
      "metadata": {
        "id": "qbet1HwdGDTz"
      }
    },
    {
      "cell_type": "markdown",
      "source": [
        "## ***7. ML Model Implementation***"
      ],
      "metadata": {
        "id": "VfCC591jGiD4"
      }
    },
    {
      "cell_type": "markdown",
      "source": [
        "### ML Model - 1"
      ],
      "metadata": {
        "id": "OB4l2ZhMeS1U"
      }
    },
    {
      "cell_type": "code",
      "source": [
        "# ML Model - 1 Implementation\n",
        "\n",
        "# Fit the Algorithm\n",
        "\n",
        "# Predict on the model"
      ],
      "metadata": {
        "id": "7ebyywQieS1U"
      },
      "execution_count": null,
      "outputs": []
    },
    {
      "cell_type": "markdown",
      "source": [
        "#### 1. Explain the ML Model used and it's performance using Evaluation metric Score Chart."
      ],
      "metadata": {
        "id": "ArJBuiUVfxKd"
      }
    },
    {
      "cell_type": "code",
      "source": [
        "# Visualizing evaluation Metric Score chart"
      ],
      "metadata": {
        "id": "rqD5ZohzfxKe"
      },
      "execution_count": null,
      "outputs": []
    },
    {
      "cell_type": "markdown",
      "source": [
        "#### 2. Cross- Validation & Hyperparameter Tuning"
      ],
      "metadata": {
        "id": "4qY1EAkEfxKe"
      }
    },
    {
      "cell_type": "code",
      "source": [
        "# ML Model - 1 Implementation with hyperparameter optimization techniques (i.e., GridSearch CV, RandomSearch CV, Bayesian Optimization etc.)\n",
        "\n",
        "# Fit the Algorithm\n",
        "\n",
        "# Predict on the model"
      ],
      "metadata": {
        "id": "Dy61ujd6fxKe"
      },
      "execution_count": null,
      "outputs": []
    },
    {
      "cell_type": "markdown",
      "source": [
        "##### Which hyperparameter optimization technique have you used and why?"
      ],
      "metadata": {
        "id": "PiV4Ypx8fxKe"
      }
    },
    {
      "cell_type": "markdown",
      "source": [
        "Answer Here."
      ],
      "metadata": {
        "id": "negyGRa7fxKf"
      }
    },
    {
      "cell_type": "markdown",
      "source": [
        "##### Have you seen any improvement? Note down the improvement with updates Evaluation metric Score Chart."
      ],
      "metadata": {
        "id": "TfvqoZmBfxKf"
      }
    },
    {
      "cell_type": "markdown",
      "source": [
        "Answer Here."
      ],
      "metadata": {
        "id": "OaLui8CcfxKf"
      }
    },
    {
      "cell_type": "markdown",
      "source": [
        "### ML Model - 2"
      ],
      "metadata": {
        "id": "dJ2tPlVmpsJ0"
      }
    },
    {
      "cell_type": "markdown",
      "source": [
        "#### 1. Explain the ML Model used and it's performance using Evaluation metric Score Chart."
      ],
      "metadata": {
        "id": "JWYfwnehpsJ1"
      }
    },
    {
      "cell_type": "code",
      "source": [
        "# Visualizing evaluation Metric Score chart"
      ],
      "metadata": {
        "id": "yEl-hgQWpsJ1"
      },
      "execution_count": null,
      "outputs": []
    },
    {
      "cell_type": "markdown",
      "source": [
        "#### 2. Cross- Validation & Hyperparameter Tuning"
      ],
      "metadata": {
        "id": "-jK_YjpMpsJ2"
      }
    },
    {
      "cell_type": "code",
      "source": [
        "# ML Model - 1 Implementation with hyperparameter optimization techniques (i.e., GridSearch CV, RandomSearch CV, Bayesian Optimization etc.)\n",
        "\n",
        "# Fit the Algorithm\n",
        "\n",
        "# Predict on the model"
      ],
      "metadata": {
        "id": "Dn0EOfS6psJ2"
      },
      "execution_count": null,
      "outputs": []
    },
    {
      "cell_type": "markdown",
      "source": [
        "##### Which hyperparameter optimization technique have you used and why?"
      ],
      "metadata": {
        "id": "HAih1iBOpsJ2"
      }
    },
    {
      "cell_type": "markdown",
      "source": [
        "Answer Here."
      ],
      "metadata": {
        "id": "9kBgjYcdpsJ2"
      }
    },
    {
      "cell_type": "markdown",
      "source": [
        "##### Have you seen any improvement? Note down the improvement with updates Evaluation metric Score Chart."
      ],
      "metadata": {
        "id": "zVGeBEFhpsJ2"
      }
    },
    {
      "cell_type": "markdown",
      "source": [
        "Answer Here."
      ],
      "metadata": {
        "id": "74yRdG6UpsJ3"
      }
    },
    {
      "cell_type": "markdown",
      "source": [
        "#### 3. Explain each evaluation metric's indication towards business and the business impact pf the ML model used."
      ],
      "metadata": {
        "id": "bmKjuQ-FpsJ3"
      }
    },
    {
      "cell_type": "markdown",
      "source": [
        "Answer Here."
      ],
      "metadata": {
        "id": "BDKtOrBQpsJ3"
      }
    },
    {
      "cell_type": "markdown",
      "source": [
        "### ML Model - 3"
      ],
      "metadata": {
        "id": "Fze-IPXLpx6K"
      }
    },
    {
      "cell_type": "code",
      "source": [
        "# ML Model - 3 Implementation\n",
        "\n",
        "# Fit the Algorithm\n",
        "\n",
        "# Predict on the model"
      ],
      "metadata": {
        "id": "FFrSXAtrpx6M"
      },
      "execution_count": null,
      "outputs": []
    },
    {
      "cell_type": "markdown",
      "source": [
        "#### 1. Explain the ML Model used and it's performance using Evaluation metric Score Chart."
      ],
      "metadata": {
        "id": "7AN1z2sKpx6M"
      }
    },
    {
      "cell_type": "code",
      "source": [
        "# Visualizing evaluation Metric Score chart"
      ],
      "metadata": {
        "id": "xIY4lxxGpx6M"
      },
      "execution_count": null,
      "outputs": []
    },
    {
      "cell_type": "markdown",
      "source": [
        "#### 2. Cross- Validation & Hyperparameter Tuning"
      ],
      "metadata": {
        "id": "9PIHJqyupx6M"
      }
    },
    {
      "cell_type": "code",
      "source": [
        "# ML Model - 3 Implementation with hyperparameter optimization techniques (i.e., GridSearch CV, RandomSearch CV, Bayesian Optimization etc.)\n",
        "\n",
        "# Fit the Algorithm\n",
        "\n",
        "# Predict on the model"
      ],
      "metadata": {
        "id": "eSVXuaSKpx6M"
      },
      "execution_count": null,
      "outputs": []
    },
    {
      "cell_type": "markdown",
      "source": [
        "##### Which hyperparameter optimization technique have you used and why?"
      ],
      "metadata": {
        "id": "_-qAgymDpx6N"
      }
    },
    {
      "cell_type": "markdown",
      "source": [
        "Answer Here."
      ],
      "metadata": {
        "id": "lQMffxkwpx6N"
      }
    },
    {
      "cell_type": "markdown",
      "source": [
        "##### Have you seen any improvement? Note down the improvement with updates Evaluation metric Score Chart."
      ],
      "metadata": {
        "id": "Z-hykwinpx6N"
      }
    },
    {
      "cell_type": "markdown",
      "source": [
        "Answer Here."
      ],
      "metadata": {
        "id": "MzVzZC6opx6N"
      }
    },
    {
      "cell_type": "markdown",
      "source": [
        "### 1. Which Evaluation metrics did you consider for a positive business impact and why?"
      ],
      "metadata": {
        "id": "h_CCil-SKHpo"
      }
    },
    {
      "cell_type": "markdown",
      "source": [
        "Answer Here."
      ],
      "metadata": {
        "id": "jHVz9hHDKFms"
      }
    },
    {
      "cell_type": "markdown",
      "source": [
        "### 2. Which ML model did you choose from the above created models as your final prediction model and why?"
      ],
      "metadata": {
        "id": "cBFFvTBNJzUa"
      }
    },
    {
      "cell_type": "markdown",
      "source": [
        "Answer Here."
      ],
      "metadata": {
        "id": "6ksF5Q1LKTVm"
      }
    },
    {
      "cell_type": "markdown",
      "source": [
        "### 3. Explain the model which you have used and the feature importance using any model explainability tool?"
      ],
      "metadata": {
        "id": "HvGl1hHyA_VK"
      }
    },
    {
      "cell_type": "markdown",
      "source": [
        "Answer Here."
      ],
      "metadata": {
        "id": "YnvVTiIxBL-C"
      }
    },
    {
      "cell_type": "markdown",
      "source": [
        "## ***8.*** ***Future Work (Optional)***"
      ],
      "metadata": {
        "id": "EyNgTHvd2WFk"
      }
    },
    {
      "cell_type": "markdown",
      "source": [
        "### 1. Save the best performing ml model in a pickle file or joblib file format for deployment process.\n"
      ],
      "metadata": {
        "id": "KH5McJBi2d8v"
      }
    },
    {
      "cell_type": "code",
      "source": [
        "# Save the File"
      ],
      "metadata": {
        "id": "bQIANRl32f4J"
      },
      "execution_count": null,
      "outputs": []
    },
    {
      "cell_type": "markdown",
      "source": [
        "### 2. Again Load the saved model file and try to predict unseen data for a sanity check.\n"
      ],
      "metadata": {
        "id": "iW_Lq9qf2h6X"
      }
    },
    {
      "cell_type": "code",
      "source": [
        "# Load the File and predict unseen data."
      ],
      "metadata": {
        "id": "oEXk9ydD2nVC"
      },
      "execution_count": null,
      "outputs": []
    },
    {
      "cell_type": "markdown",
      "source": [
        "### ***Congrats! Your model is successfully created and ready for deployment on a live server for a real user interaction !!!***"
      ],
      "metadata": {
        "id": "-Kee-DAl2viO"
      }
    },
    {
      "cell_type": "markdown",
      "source": [
        "# **Conclusion**"
      ],
      "metadata": {
        "id": "gCX9965dhzqZ"
      }
    },
    {
      "cell_type": "markdown",
      "source": [
        "* City hotels are the most preferred hotel type by the guests. So, we can say that City hotels are the busiest hotel in comparison to the resort hotel.\n",
        "\n",
        "* The average ADR of city hotels is higher as compared to the resort hotels. So, it can be said that these City hotels are generating more revenue than the resort hotels.\n",
        "\n",
        "* The total stay of guests is directly proportional to the adr. So, higher the days of stay, the higher will be ADR and revenue as well.\n",
        "\n",
        "* The percentage of repeated guests is very low. Only 3.9% people had revisited the hotels. Rest 96.1% were new guests. So, retention rate is much low.\n",
        "\n",
        "* The percentage of required car parking spaces is very low. This means less car parking spaces don't affect the business much. Most of the customers (91.6%) do not require car parking spaces.\n",
        "\n",
        "* Among different types of meals, BB (Bed & Breakfast) is the most preferred type of meal by the guests. So, guests love to opt for this meal type.\n",
        "\n",
        "* 'Direct' and 'TA/TO' have almost equally contribution in ADR in both type of hotels i.e. 'City Hotel' and 'Resort Hotel'. While, GDS has highly contributed in ADR in 'City Hotel' type.\n",
        "\n",
        "* Optimal stay length in both the hotel types (City and Resort Hotel) is less than 7 days. Usually people stay for a week. So, after 1 week, the optimal stay length declined drastically.\n",
        "\n",
        "* Most number of bookings have taken place in the month of July and August. July and August are the favourite months of guests to visit different places.\n",
        "\n",
        "* The mostly used distribution channel for booking is 'TA/TO'. 79.1% bookings were made through TA/TO (travel agents/ tour operators).\n",
        "\n",
        "* While calculating ADR across different month, it is found that for Resort hotel, ADR is high in the months of June, July, August as compared to City Hotels.\n",
        "\n",
        "* Almost 1/4th of the total bookings is canceled. Approx, 27.5% bookings have got canceled out of all the bookings.\n",
        "\n",
        "* Majority of the guests have shown interest in the room type 'A'. Room type 'A' is the most preferred room type."
      ],
      "metadata": {
        "id": "Fjb1IsQkh3yE"
      }
    },
    {
      "cell_type": "markdown",
      "source": [
        "### ***Hurrah! You have successfully completed your Machine Learning Capstone Project !!!***"
      ],
      "metadata": {
        "id": "gIfDvo9L0UH2"
      }
    }
  ]
}